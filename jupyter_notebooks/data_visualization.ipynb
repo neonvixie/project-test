{
 "cells": [
  {
   "cell_type": "markdown",
   "id": "c7688d98",
   "metadata": {},
   "source": [
    "# Data visualization\n",
    "\n",
    "First let's import all the necessary packages:"
   ]
  },
  {
   "cell_type": "code",
   "execution_count": 1,
   "id": "f6118c7b",
   "metadata": {},
   "outputs": [],
   "source": [
    "import pandas as pd\n",
    "import matplotlib.pyplot as plt\n",
    "import seaborn as sns\n",
    "import plotly.express as px"
   ]
  },
  {
   "cell_type": "markdown",
   "id": "4edcbd91",
   "metadata": {},
   "source": [
    "## Loading the cleaned data"
   ]
  },
  {
   "cell_type": "code",
   "execution_count": 2,
   "id": "ce10c339",
   "metadata": {},
   "outputs": [
    {
     "data": {
      "text/html": [
       "<div>\n",
       "<style scoped>\n",
       "    .dataframe tbody tr th:only-of-type {\n",
       "        vertical-align: middle;\n",
       "    }\n",
       "\n",
       "    .dataframe tbody tr th {\n",
       "        vertical-align: top;\n",
       "    }\n",
       "\n",
       "    .dataframe thead th {\n",
       "        text-align: right;\n",
       "    }\n",
       "</style>\n",
       "<table border=\"1\" class=\"dataframe\">\n",
       "  <thead>\n",
       "    <tr style=\"text-align: right;\">\n",
       "      <th></th>\n",
       "      <th>car_ID</th>\n",
       "      <th>symboling</th>\n",
       "      <th>CarName</th>\n",
       "      <th>fueltype</th>\n",
       "      <th>aspiration</th>\n",
       "      <th>doornumber</th>\n",
       "      <th>carbody</th>\n",
       "      <th>drivewheel</th>\n",
       "      <th>enginelocation</th>\n",
       "      <th>wheelbase</th>\n",
       "      <th>...</th>\n",
       "      <th>fuelsystem</th>\n",
       "      <th>boreratio</th>\n",
       "      <th>stroke</th>\n",
       "      <th>compressionratio</th>\n",
       "      <th>horsepower</th>\n",
       "      <th>peakrpm</th>\n",
       "      <th>citympg</th>\n",
       "      <th>highwaympg</th>\n",
       "      <th>price</th>\n",
       "      <th>brand</th>\n",
       "    </tr>\n",
       "  </thead>\n",
       "  <tbody>\n",
       "    <tr>\n",
       "      <th>0</th>\n",
       "      <td>1</td>\n",
       "      <td>3</td>\n",
       "      <td>alfa-romero giulia</td>\n",
       "      <td>gas</td>\n",
       "      <td>std</td>\n",
       "      <td>2</td>\n",
       "      <td>convertible</td>\n",
       "      <td>rwd</td>\n",
       "      <td>front</td>\n",
       "      <td>88.6</td>\n",
       "      <td>...</td>\n",
       "      <td>fuel injection</td>\n",
       "      <td>3.47</td>\n",
       "      <td>2.68</td>\n",
       "      <td>9.0</td>\n",
       "      <td>111</td>\n",
       "      <td>5000</td>\n",
       "      <td>21</td>\n",
       "      <td>27</td>\n",
       "      <td>13495.0</td>\n",
       "      <td>alfa-romero</td>\n",
       "    </tr>\n",
       "    <tr>\n",
       "      <th>1</th>\n",
       "      <td>2</td>\n",
       "      <td>3</td>\n",
       "      <td>alfa-romero stelvio</td>\n",
       "      <td>gas</td>\n",
       "      <td>std</td>\n",
       "      <td>2</td>\n",
       "      <td>convertible</td>\n",
       "      <td>rwd</td>\n",
       "      <td>front</td>\n",
       "      <td>88.6</td>\n",
       "      <td>...</td>\n",
       "      <td>fuel injection</td>\n",
       "      <td>3.47</td>\n",
       "      <td>2.68</td>\n",
       "      <td>9.0</td>\n",
       "      <td>111</td>\n",
       "      <td>5000</td>\n",
       "      <td>21</td>\n",
       "      <td>27</td>\n",
       "      <td>16500.0</td>\n",
       "      <td>alfa-romero</td>\n",
       "    </tr>\n",
       "    <tr>\n",
       "      <th>2</th>\n",
       "      <td>3</td>\n",
       "      <td>1</td>\n",
       "      <td>alfa-romero Quadrifoglio</td>\n",
       "      <td>gas</td>\n",
       "      <td>std</td>\n",
       "      <td>2</td>\n",
       "      <td>hatchback</td>\n",
       "      <td>rwd</td>\n",
       "      <td>front</td>\n",
       "      <td>94.5</td>\n",
       "      <td>...</td>\n",
       "      <td>fuel injection</td>\n",
       "      <td>2.68</td>\n",
       "      <td>3.47</td>\n",
       "      <td>9.0</td>\n",
       "      <td>154</td>\n",
       "      <td>5000</td>\n",
       "      <td>19</td>\n",
       "      <td>26</td>\n",
       "      <td>16500.0</td>\n",
       "      <td>alfa-romero</td>\n",
       "    </tr>\n",
       "    <tr>\n",
       "      <th>3</th>\n",
       "      <td>4</td>\n",
       "      <td>2</td>\n",
       "      <td>audi 100 ls</td>\n",
       "      <td>gas</td>\n",
       "      <td>std</td>\n",
       "      <td>4</td>\n",
       "      <td>sedan</td>\n",
       "      <td>fwd</td>\n",
       "      <td>front</td>\n",
       "      <td>99.8</td>\n",
       "      <td>...</td>\n",
       "      <td>fuel injection</td>\n",
       "      <td>3.19</td>\n",
       "      <td>3.40</td>\n",
       "      <td>10.0</td>\n",
       "      <td>102</td>\n",
       "      <td>5500</td>\n",
       "      <td>24</td>\n",
       "      <td>30</td>\n",
       "      <td>13950.0</td>\n",
       "      <td>audi</td>\n",
       "    </tr>\n",
       "    <tr>\n",
       "      <th>4</th>\n",
       "      <td>5</td>\n",
       "      <td>2</td>\n",
       "      <td>audi 100ls</td>\n",
       "      <td>gas</td>\n",
       "      <td>std</td>\n",
       "      <td>4</td>\n",
       "      <td>sedan</td>\n",
       "      <td>4wd</td>\n",
       "      <td>front</td>\n",
       "      <td>99.4</td>\n",
       "      <td>...</td>\n",
       "      <td>fuel injection</td>\n",
       "      <td>3.19</td>\n",
       "      <td>3.40</td>\n",
       "      <td>8.0</td>\n",
       "      <td>115</td>\n",
       "      <td>5500</td>\n",
       "      <td>18</td>\n",
       "      <td>22</td>\n",
       "      <td>17450.0</td>\n",
       "      <td>audi</td>\n",
       "    </tr>\n",
       "  </tbody>\n",
       "</table>\n",
       "<p>5 rows × 27 columns</p>\n",
       "</div>"
      ],
      "text/plain": [
       "   car_ID  symboling                   CarName fueltype aspiration  \\\n",
       "0       1          3        alfa-romero giulia      gas        std   \n",
       "1       2          3       alfa-romero stelvio      gas        std   \n",
       "2       3          1  alfa-romero Quadrifoglio      gas        std   \n",
       "3       4          2               audi 100 ls      gas        std   \n",
       "4       5          2                audi 100ls      gas        std   \n",
       "\n",
       "   doornumber      carbody drivewheel enginelocation  wheelbase  ...  \\\n",
       "0           2  convertible        rwd          front       88.6  ...   \n",
       "1           2  convertible        rwd          front       88.6  ...   \n",
       "2           2    hatchback        rwd          front       94.5  ...   \n",
       "3           4        sedan        fwd          front       99.8  ...   \n",
       "4           4        sedan        4wd          front       99.4  ...   \n",
       "\n",
       "       fuelsystem  boreratio  stroke  compressionratio horsepower  peakrpm  \\\n",
       "0  fuel injection       3.47    2.68               9.0        111     5000   \n",
       "1  fuel injection       3.47    2.68               9.0        111     5000   \n",
       "2  fuel injection       2.68    3.47               9.0        154     5000   \n",
       "3  fuel injection       3.19    3.40              10.0        102     5500   \n",
       "4  fuel injection       3.19    3.40               8.0        115     5500   \n",
       "\n",
       "   citympg highwaympg    price        brand  \n",
       "0       21         27  13495.0  alfa-romero  \n",
       "1       21         27  16500.0  alfa-romero  \n",
       "2       19         26  16500.0  alfa-romero  \n",
       "3       24         30  13950.0         audi  \n",
       "4       18         22  17450.0         audi  \n",
       "\n",
       "[5 rows x 27 columns]"
      ]
     },
     "execution_count": 2,
     "metadata": {},
     "output_type": "execute_result"
    }
   ],
   "source": [
    "df = pd.read_csv(\"../data/cleaned/CarPrice_cleaned.csv\")\n",
    "df.head()"
   ]
  },
  {
   "cell_type": "markdown",
   "id": "8d7ca05f",
   "metadata": {},
   "source": [
    "## Hypothesis\n",
    "\n",
    "Based on your dataset, the columns most likely to have a strong correlation with car price are those that describe a car's size, performance, and features.\n",
    "\n",
    "Here is a breakdown of the variables and their likely correlation with price, from strongest to weakest:\n",
    "\n",
    "Strongest Correlation\n",
    "\n",
    "These variables directly relate to the cost of a car's materials, engineering, and performance.\n",
    "\n",
    "- horsepower: A car's power output is one of the most significant factors in its price. Higher horsepower generally means a more expensive car.\n",
    "- enginesize: The physical size of the engine, which is a key determinant of power, is a strong indicator of price. Larger engines are typically more costly.\n",
    "- curbweight: This is the car's weight without passengers or cargo. Heavier cars often require more materials and a larger engine, making them more expensive. This also correlates with the car's overall size.\n",
    "- Dimensions (carlength, carwidth, carheight, wheelbase): Larger cars generally cost more to manufacture and are priced higher. The wheelbase, in particular, is a key indicator of a car's size and ride quality.\n",
    "- drivewheel: The drivetrain type is a major design factor. A specialized system like 4wd (four-wheel drive) is typically more expensive than fwd (front-wheel drive) or rwd (rear-wheel drive).\n",
    "- aspiration: A turbocharged (turbo) engine is a more complex and expensive component than a standard (std) naturally aspirated engine.\n",
    "- brand: The manufacturer brand (e.g., Honda vs. Mercedes) is arguably the single most important determinant of price. You'd likely need to extract this from the CarName column.\n",
    "- carbody: The body style has a significant impact. A luxury sedan or a convertible is typically more expensive than a standard hatchback.\n",
    "\n",
    "Moderate Correlation\n",
    "\n",
    "These variables are components of the engine that contribute to performance but are not as directly tied to price as the high-level metrics.\n",
    "\n",
    "- cylindernumber: This is related to enginesize and horsepower. More cylinders generally mean a larger, more expensive engine.\n",
    "- fuelsystem: The type of fuel injection system affects performance and cost. A modern multi-port fuel injection system (mpfi) is more advanced and often more expensive than an older carburetor-based system (1bbl, 2bbl).\n",
    "- citympg and highwaympg: Fuel efficiency often has an inverse relationship with price. High-performance, expensive cars tend to have lower MPG, while more affordable economy cars have higher MPG.\n",
    "\n",
    "Weak or No Correlation\n",
    "\n",
    "These variables are unlikely to have a strong, consistent relationship with a car's price.\n",
    "\n",
    "- car_ID: This is a unique identifier for each car and has no correlation with any of its properties, including price.\n",
    "- doornumber: The number of doors has a weak relationship with price. While some two-door sports cars are expensive, so are four-door luxury sedans.\n",
    "- symboling: This is an insurance risk rating and does not directly relate to the car's market price.\n",
    "- stroke, boreratio, compressionratio, peakrpm: These are technical engineering details that contribute to performance, but their direct, standalone correlation with the final sale price is often weak. The effects of these are better captured by the more holistic measures of horsepower and enginesize.\n",
    "\n"
   ]
  },
  {
   "cell_type": "markdown",
   "id": "6d60b26c",
   "metadata": {},
   "source": [
    "## General price distribution\n",
    "\n",
    "Let's first look at the histogram to show the general price distribution:"
   ]
  },
  {
   "cell_type": "code",
   "execution_count": 3,
   "id": "2ed3c98d",
   "metadata": {},
   "outputs": [
    {
     "data": {
      "text/plain": [
       "count      205.0\n",
       "mean     13276.7\n",
       "std       7988.9\n",
       "min       5118.0\n",
       "25%       7788.0\n",
       "50%      10295.0\n",
       "75%      16503.0\n",
       "max      45400.0\n",
       "Name: price, dtype: float64"
      ]
     },
     "execution_count": 3,
     "metadata": {},
     "output_type": "execute_result"
    }
   ],
   "source": [
    "df['price'].describe().round(1)"
   ]
  },
  {
   "cell_type": "code",
   "execution_count": 4,
   "id": "a77f1fb7",
   "metadata": {},
   "outputs": [
    {
     "data": {
      "image/png": "[encoded data removed]",
      "text/plain": [
       "<Figure size 640x480 with 1 Axes>"
      ]
     },
     "metadata": {},
     "output_type": "display_data"
    }
   ],
   "source": [
    "sns.set_theme(style='whitegrid')\n",
    "sns.histplot(data=df, x='price', kde=True)\n",
    "plt.show()"
   ]
  },
  {
   "cell_type": "markdown",
   "id": "6e3d9b3d",
   "metadata": {},
   "source": [
    "- From this we can see that the price essentially peaks at around 10,000 and then goes down, which is consistend tith the median price (10295). However there is a second smaller peak at around 35000."
   ]
  },
  {
   "cell_type": "markdown",
   "id": "a5d29b23",
   "metadata": {},
   "source": [
    "## Categorical variables and price"
   ]
  },
  {
   "cell_type": "markdown",
   "id": "930e98e7",
   "metadata": {},
   "source": [
    "#### Apriration system\n",
    "\n",
    "Let's first take a look how many cars use each type of aspiration system"
   ]
  },
  {
   "cell_type": "code",
   "execution_count": 5,
   "id": "3c812b84",
   "metadata": {},
   "outputs": [
    {
     "data": {
      "text/html": [
       "<div>\n",
       "<style scoped>\n",
       "    .dataframe tbody tr th:only-of-type {\n",
       "        vertical-align: middle;\n",
       "    }\n",
       "\n",
       "    .dataframe tbody tr th {\n",
       "        vertical-align: top;\n",
       "    }\n",
       "\n",
       "    .dataframe thead th {\n",
       "        text-align: right;\n",
       "    }\n",
       "</style>\n",
       "<table border=\"1\" class=\"dataframe\">\n",
       "  <thead>\n",
       "    <tr style=\"text-align: right;\">\n",
       "      <th></th>\n",
       "      <th>aspiration</th>\n",
       "      <th>count</th>\n",
       "      <th>avg_price</th>\n",
       "    </tr>\n",
       "  </thead>\n",
       "  <tbody>\n",
       "    <tr>\n",
       "      <th>0</th>\n",
       "      <td>std</td>\n",
       "      <td>168</td>\n",
       "      <td>12611.270833</td>\n",
       "    </tr>\n",
       "    <tr>\n",
       "      <th>1</th>\n",
       "      <td>turbo</td>\n",
       "      <td>37</td>\n",
       "      <td>16298.166676</td>\n",
       "    </tr>\n",
       "  </tbody>\n",
       "</table>\n",
       "</div>"
      ],
      "text/plain": [
       "  aspiration  count     avg_price\n",
       "0        std    168  12611.270833\n",
       "1      turbo     37  16298.166676"
      ]
     },
     "execution_count": 5,
     "metadata": {},
     "output_type": "execute_result"
    }
   ],
   "source": [
    "aspiration = df.groupby('aspiration').agg(count=('aspiration', 'size'), avg_price=('price', 'mean')).reset_index()\n",
    "aspiration"
   ]
  },
  {
   "cell_type": "markdown",
   "id": "120fdd5a",
   "metadata": {},
   "source": [
    "As you can clearly see from the table there are much more car models with the standard aspiration, than with turbo. The one with turbo also cost more on average:"
   ]
  },
  {
   "cell_type": "code",
   "execution_count": 6,
   "id": "efda6787",
   "metadata": {},
   "outputs": [
    {
     "data": {
      "image/png": "[encoded data removed]",
      "text/plain": [
       "<Figure size 640x480 with 1 Axes>"
      ]
     },
     "metadata": {},
     "output_type": "display_data"
    }
   ],
   "source": [
    "plt.bar(x=aspiration['aspiration'], height=aspiration['avg_price'])\n",
    "plt.ylabel(\"average car price ($)\")\n",
    "plt.title(\"average price per engine aspiration system\")\n",
    "plt.grid(True, linestyle='-') \n",
    "plt.show()"
   ]
  },
  {
   "cell_type": "code",
   "execution_count": 7,
   "id": "148798f4",
   "metadata": {},
   "outputs": [
    {
     "data": {
      "text/html": [
       "<div>\n",
       "<style scoped>\n",
       "    .dataframe tbody tr th:only-of-type {\n",
       "        vertical-align: middle;\n",
       "    }\n",
       "\n",
       "    .dataframe tbody tr th {\n",
       "        vertical-align: top;\n",
       "    }\n",
       "\n",
       "    .dataframe thead th {\n",
       "        text-align: right;\n",
       "    }\n",
       "</style>\n",
       "<table border=\"1\" class=\"dataframe\">\n",
       "  <thead>\n",
       "    <tr style=\"text-align: right;\">\n",
       "      <th></th>\n",
       "      <th>drivewheel</th>\n",
       "      <th>count</th>\n",
       "      <th>avg_price</th>\n",
       "    </tr>\n",
       "  </thead>\n",
       "  <tbody>\n",
       "    <tr>\n",
       "      <th>0</th>\n",
       "      <td>4wd</td>\n",
       "      <td>9</td>\n",
       "      <td>11087.463000</td>\n",
       "    </tr>\n",
       "    <tr>\n",
       "      <th>1</th>\n",
       "      <td>fwd</td>\n",
       "      <td>120</td>\n",
       "      <td>9239.308333</td>\n",
       "    </tr>\n",
       "    <tr>\n",
       "      <th>2</th>\n",
       "      <td>rwd</td>\n",
       "      <td>76</td>\n",
       "      <td>19910.809211</td>\n",
       "    </tr>\n",
       "  </tbody>\n",
       "</table>\n",
       "</div>"
      ],
      "text/plain": [
       "  drivewheel  count     avg_price\n",
       "0        4wd      9  11087.463000\n",
       "1        fwd    120   9239.308333\n",
       "2        rwd     76  19910.809211"
      ]
     },
     "execution_count": 7,
     "metadata": {},
     "output_type": "execute_result"
    }
   ],
   "source": [
    "drivewheel = df.groupby('drivewheel').agg(count=('drivewheel', 'size'), avg_price=('price', 'mean')).reset_index()\n",
    "drivewheel"
   ]
  },
  {
   "cell_type": "markdown",
   "id": "e4794a7a",
   "metadata": {},
   "source": [
    "#### Fuel system and engine type\n",
    "Let's do a more technical analysis and analyze the fuel system and the engine type:"
   ]
  },
  {
   "cell_type": "code",
   "execution_count": 8,
   "id": "738a5311",
   "metadata": {},
   "outputs": [
    {
     "data": {
      "text/html": [
       "<div>\n",
       "<style scoped>\n",
       "    .dataframe tbody tr th:only-of-type {\n",
       "        vertical-align: middle;\n",
       "    }\n",
       "\n",
       "    .dataframe tbody tr th {\n",
       "        vertical-align: top;\n",
       "    }\n",
       "\n",
       "    .dataframe thead th {\n",
       "        text-align: right;\n",
       "    }\n",
       "</style>\n",
       "<table border=\"1\" class=\"dataframe\">\n",
       "  <thead>\n",
       "    <tr style=\"text-align: right;\">\n",
       "      <th></th>\n",
       "      <th>enginetype</th>\n",
       "      <th>count</th>\n",
       "      <th>avg_price</th>\n",
       "    </tr>\n",
       "  </thead>\n",
       "  <tbody>\n",
       "    <tr>\n",
       "      <th>0</th>\n",
       "      <td>dohc</td>\n",
       "      <td>13</td>\n",
       "      <td>19138.269231</td>\n",
       "    </tr>\n",
       "    <tr>\n",
       "      <th>1</th>\n",
       "      <td>l</td>\n",
       "      <td>12</td>\n",
       "      <td>14627.583333</td>\n",
       "    </tr>\n",
       "    <tr>\n",
       "      <th>2</th>\n",
       "      <td>ohc</td>\n",
       "      <td>176</td>\n",
       "      <td>12757.483903</td>\n",
       "    </tr>\n",
       "    <tr>\n",
       "      <th>3</th>\n",
       "      <td>rotor</td>\n",
       "      <td>4</td>\n",
       "      <td>13020.000000</td>\n",
       "    </tr>\n",
       "  </tbody>\n",
       "</table>\n",
       "</div>"
      ],
      "text/plain": [
       "  enginetype  count     avg_price\n",
       "0       dohc     13  19138.269231\n",
       "1          l     12  14627.583333\n",
       "2        ohc    176  12757.483903\n",
       "3      rotor      4  13020.000000"
      ]
     },
     "execution_count": 8,
     "metadata": {},
     "output_type": "execute_result"
    }
   ],
   "source": [
    "enginetype = df.groupby('enginetype').agg(count=('enginetype', 'size'), avg_price=('price', 'mean')).reset_index()\n",
    "enginetype"
   ]
  },
  {
   "cell_type": "code",
   "execution_count": 9,
   "id": "26776153",
   "metadata": {},
   "outputs": [
    {
     "data": {
      "text/html": [
       "<div>\n",
       "<style scoped>\n",
       "    .dataframe tbody tr th:only-of-type {\n",
       "        vertical-align: middle;\n",
       "    }\n",
       "\n",
       "    .dataframe tbody tr th {\n",
       "        vertical-align: top;\n",
       "    }\n",
       "\n",
       "    .dataframe thead th {\n",
       "        text-align: right;\n",
       "    }\n",
       "</style>\n",
       "<table border=\"1\" class=\"dataframe\">\n",
       "  <thead>\n",
       "    <tr style=\"text-align: right;\">\n",
       "      <th></th>\n",
       "      <th>fuelsystem</th>\n",
       "      <th>count</th>\n",
       "      <th>avg_price</th>\n",
       "    </tr>\n",
       "  </thead>\n",
       "  <tbody>\n",
       "    <tr>\n",
       "      <th>0</th>\n",
       "      <td>carburetor</td>\n",
       "      <td>80</td>\n",
       "      <td>7663.800000</td>\n",
       "    </tr>\n",
       "    <tr>\n",
       "      <th>1</th>\n",
       "      <td>fuel injection</td>\n",
       "      <td>125</td>\n",
       "      <td>16868.973336</td>\n",
       "    </tr>\n",
       "  </tbody>\n",
       "</table>\n",
       "</div>"
      ],
      "text/plain": [
       "       fuelsystem  count     avg_price\n",
       "0      carburetor     80   7663.800000\n",
       "1  fuel injection    125  16868.973336"
      ]
     },
     "execution_count": 9,
     "metadata": {},
     "output_type": "execute_result"
    }
   ],
   "source": [
    "fuelsystem = df.groupby('fuelsystem').agg(count=('fuelsystem', 'size'), avg_price=('price', 'mean')).reset_index()\n",
    "fuelsystem"
   ]
  },
  {
   "cell_type": "code",
   "execution_count": 10,
   "id": "381ef899",
   "metadata": {},
   "outputs": [
    {
     "data": {
      "image/png": "[encoded data removed]",
      "text/plain": [
       "<Figure size 1000x500 with 4 Axes>"
      ]
     },
     "metadata": {},
     "output_type": "display_data"
    }
   ],
   "source": [
    "fig, axes = plt.subplots(nrows=2, ncols=2, figsize=(10,5))\n",
    "axes[0, 0].bar(x = enginetype['enginetype'], height=enginetype['count'])\n",
    "axes[0, 0].set_ylabel(\"count\")\n",
    "axes[0, 0].set_title(\"engine type\")\n",
    "axes[0, 0].grid(True) \n",
    "\n",
    "axes[0, 1].bar(x = enginetype['enginetype'], height=enginetype['avg_price'])\n",
    "axes[0, 1].set_ylabel(\"average car price ($)\")\n",
    "axes[0, 1].grid(True) \n",
    "\n",
    "axes[1, 0].bar(x = fuelsystem['fuelsystem'], height=fuelsystem['count'])\n",
    "axes[1, 0].set_ylabel(\"count\")\n",
    "axes[1, 0].set_title(\"fuel system\")\n",
    "axes[1, 0].grid(True) \n",
    "\n",
    "axes[1, 1].bar(x = fuelsystem['fuelsystem'], height=fuelsystem['avg_price'])\n",
    "axes[1, 1].set_ylabel(\"average car price ($)\")\n",
    "axes[1, 1].grid(True) \n",
    "\n",
    "plt.tight_layout()\n",
    "plt.show()"
   ]
  },
  {
   "cell_type": "markdown",
   "id": "30c226de",
   "metadata": {},
   "source": [
    "- You probably cannot derive any significant data from the engine size because the samples for other engine sizes than ohc are too small. However the data focuses on older models and the newest models usually use dohc. Ohc seems to be a cheaper option probably because it is used in oplder models.\n",
    "- Likewise it's hard to make any definitive judgement from the fuel, but here the data we're working with is much. The mfi, spfi and spdi are essentially older, less efficient fuel injection paradigms, so they can be ignoredd.\n",
    "- We can however clearly see from the data that carburetor-based systems (1bbl, 2bbl and 4bbl) are significantly cheaper than mpfi, which is especially visible when you comppare the price of the most common carburetor-based system, 2bbl to mpfi."
   ]
  },
  {
   "cell_type": "markdown",
   "id": "7a1cb3b2",
   "metadata": {},
   "source": [
    "#### Car body type"
   ]
  },
  {
   "cell_type": "markdown",
   "id": "4f4b9301",
   "metadata": {},
   "source": [
    "There is an assumption that the body type of a car will have a significant influence on its price:"
   ]
  },
  {
   "cell_type": "code",
   "execution_count": 11,
   "id": "176b772b",
   "metadata": {},
   "outputs": [
    {
     "data": {
      "text/html": [
       "<div>\n",
       "<style scoped>\n",
       "    .dataframe tbody tr th:only-of-type {\n",
       "        vertical-align: middle;\n",
       "    }\n",
       "\n",
       "    .dataframe tbody tr th {\n",
       "        vertical-align: top;\n",
       "    }\n",
       "\n",
       "    .dataframe thead th {\n",
       "        text-align: right;\n",
       "    }\n",
       "</style>\n",
       "<table border=\"1\" class=\"dataframe\">\n",
       "  <thead>\n",
       "    <tr style=\"text-align: right;\">\n",
       "      <th></th>\n",
       "      <th>carbody</th>\n",
       "      <th>count</th>\n",
       "      <th>avg_price</th>\n",
       "    </tr>\n",
       "  </thead>\n",
       "  <tbody>\n",
       "    <tr>\n",
       "      <th>0</th>\n",
       "      <td>convertible</td>\n",
       "      <td>6</td>\n",
       "      <td>21890.500000</td>\n",
       "    </tr>\n",
       "    <tr>\n",
       "      <th>1</th>\n",
       "      <td>hardtop</td>\n",
       "      <td>8</td>\n",
       "      <td>22208.500000</td>\n",
       "    </tr>\n",
       "    <tr>\n",
       "      <th>2</th>\n",
       "      <td>hatchback</td>\n",
       "      <td>70</td>\n",
       "      <td>10376.652386</td>\n",
       "    </tr>\n",
       "    <tr>\n",
       "      <th>3</th>\n",
       "      <td>sedan</td>\n",
       "      <td>96</td>\n",
       "      <td>14344.270833</td>\n",
       "    </tr>\n",
       "    <tr>\n",
       "      <th>4</th>\n",
       "      <td>wagon</td>\n",
       "      <td>25</td>\n",
       "      <td>12371.960000</td>\n",
       "    </tr>\n",
       "  </tbody>\n",
       "</table>\n",
       "</div>"
      ],
      "text/plain": [
       "       carbody  count     avg_price\n",
       "0  convertible      6  21890.500000\n",
       "1      hardtop      8  22208.500000\n",
       "2    hatchback     70  10376.652386\n",
       "3        sedan     96  14344.270833\n",
       "4        wagon     25  12371.960000"
      ]
     },
     "execution_count": 11,
     "metadata": {},
     "output_type": "execute_result"
    }
   ],
   "source": [
    "carbody = df.groupby('carbody').agg(count=('carbody', 'size'), avg_price=('price', 'mean')).reset_index()\n",
    "carbody"
   ]
  },
  {
   "cell_type": "code",
   "execution_count": null,
   "id": "8ae15c4a",
   "metadata": {},
   "outputs": [],
   "source": []
  },
  {
   "cell_type": "markdown",
   "id": "1022e8de",
   "metadata": {},
   "source": [
    "#### Car brand and price"
   ]
  },
  {
   "cell_type": "code",
   "execution_count": 12,
   "id": "07f6f917",
   "metadata": {},
   "outputs": [
    {
     "data": {
      "text/html": [
       "<div>\n",
       "<style scoped>\n",
       "    .dataframe tbody tr th:only-of-type {\n",
       "        vertical-align: middle;\n",
       "    }\n",
       "\n",
       "    .dataframe tbody tr th {\n",
       "        vertical-align: top;\n",
       "    }\n",
       "\n",
       "    .dataframe thead th {\n",
       "        text-align: right;\n",
       "    }\n",
       "</style>\n",
       "<table border=\"1\" class=\"dataframe\">\n",
       "  <thead>\n",
       "    <tr style=\"text-align: right;\">\n",
       "      <th></th>\n",
       "      <th>brand</th>\n",
       "      <th>count</th>\n",
       "      <th>avg_price</th>\n",
       "    </tr>\n",
       "  </thead>\n",
       "  <tbody>\n",
       "    <tr>\n",
       "      <th>0</th>\n",
       "      <td>alfa-romero</td>\n",
       "      <td>3</td>\n",
       "      <td>15498.333333</td>\n",
       "    </tr>\n",
       "    <tr>\n",
       "      <th>1</th>\n",
       "      <td>audi</td>\n",
       "      <td>7</td>\n",
       "      <td>17859.166714</td>\n",
       "    </tr>\n",
       "    <tr>\n",
       "      <th>2</th>\n",
       "      <td>bmw</td>\n",
       "      <td>8</td>\n",
       "      <td>26118.750000</td>\n",
       "    </tr>\n",
       "    <tr>\n",
       "      <th>3</th>\n",
       "      <td>buick</td>\n",
       "      <td>8</td>\n",
       "      <td>33647.000000</td>\n",
       "    </tr>\n",
       "    <tr>\n",
       "      <th>4</th>\n",
       "      <td>chevrolet</td>\n",
       "      <td>3</td>\n",
       "      <td>6007.000000</td>\n",
       "    </tr>\n",
       "    <tr>\n",
       "      <th>5</th>\n",
       "      <td>dodge</td>\n",
       "      <td>9</td>\n",
       "      <td>7875.444444</td>\n",
       "    </tr>\n",
       "    <tr>\n",
       "      <th>6</th>\n",
       "      <td>honda</td>\n",
       "      <td>13</td>\n",
       "      <td>8184.692308</td>\n",
       "    </tr>\n",
       "    <tr>\n",
       "      <th>7</th>\n",
       "      <td>isuzu</td>\n",
       "      <td>4</td>\n",
       "      <td>8916.500000</td>\n",
       "    </tr>\n",
       "    <tr>\n",
       "      <th>8</th>\n",
       "      <td>jaguar</td>\n",
       "      <td>3</td>\n",
       "      <td>34600.000000</td>\n",
       "    </tr>\n",
       "    <tr>\n",
       "      <th>9</th>\n",
       "      <td>mazda</td>\n",
       "      <td>17</td>\n",
       "      <td>10652.882353</td>\n",
       "    </tr>\n",
       "    <tr>\n",
       "      <th>10</th>\n",
       "      <td>mercury</td>\n",
       "      <td>1</td>\n",
       "      <td>16503.000000</td>\n",
       "    </tr>\n",
       "    <tr>\n",
       "      <th>11</th>\n",
       "      <td>mitsubishi</td>\n",
       "      <td>13</td>\n",
       "      <td>9239.769231</td>\n",
       "    </tr>\n",
       "    <tr>\n",
       "      <th>12</th>\n",
       "      <td>nissan</td>\n",
       "      <td>18</td>\n",
       "      <td>10415.666667</td>\n",
       "    </tr>\n",
       "    <tr>\n",
       "      <th>13</th>\n",
       "      <td>peugeot</td>\n",
       "      <td>11</td>\n",
       "      <td>15489.090909</td>\n",
       "    </tr>\n",
       "    <tr>\n",
       "      <th>14</th>\n",
       "      <td>plymouth</td>\n",
       "      <td>7</td>\n",
       "      <td>7963.428571</td>\n",
       "    </tr>\n",
       "    <tr>\n",
       "      <th>15</th>\n",
       "      <td>porsche</td>\n",
       "      <td>5</td>\n",
       "      <td>31400.500000</td>\n",
       "    </tr>\n",
       "    <tr>\n",
       "      <th>16</th>\n",
       "      <td>renault</td>\n",
       "      <td>2</td>\n",
       "      <td>9595.000000</td>\n",
       "    </tr>\n",
       "    <tr>\n",
       "      <th>17</th>\n",
       "      <td>saab</td>\n",
       "      <td>6</td>\n",
       "      <td>15223.333333</td>\n",
       "    </tr>\n",
       "    <tr>\n",
       "      <th>18</th>\n",
       "      <td>subaru</td>\n",
       "      <td>12</td>\n",
       "      <td>8541.250000</td>\n",
       "    </tr>\n",
       "    <tr>\n",
       "      <th>19</th>\n",
       "      <td>toyota</td>\n",
       "      <td>32</td>\n",
       "      <td>9885.812500</td>\n",
       "    </tr>\n",
       "    <tr>\n",
       "      <th>20</th>\n",
       "      <td>volkswagen</td>\n",
       "      <td>12</td>\n",
       "      <td>10077.500000</td>\n",
       "    </tr>\n",
       "    <tr>\n",
       "      <th>21</th>\n",
       "      <td>volvo</td>\n",
       "      <td>11</td>\n",
       "      <td>18063.181818</td>\n",
       "    </tr>\n",
       "  </tbody>\n",
       "</table>\n",
       "</div>"
      ],
      "text/plain": [
       "          brand  count     avg_price\n",
       "0   alfa-romero      3  15498.333333\n",
       "1          audi      7  17859.166714\n",
       "2           bmw      8  26118.750000\n",
       "3         buick      8  33647.000000\n",
       "4     chevrolet      3   6007.000000\n",
       "5         dodge      9   7875.444444\n",
       "6         honda     13   8184.692308\n",
       "7         isuzu      4   8916.500000\n",
       "8        jaguar      3  34600.000000\n",
       "9         mazda     17  10652.882353\n",
       "10      mercury      1  16503.000000\n",
       "11   mitsubishi     13   9239.769231\n",
       "12       nissan     18  10415.666667\n",
       "13      peugeot     11  15489.090909\n",
       "14     plymouth      7   7963.428571\n",
       "15      porsche      5  31400.500000\n",
       "16      renault      2   9595.000000\n",
       "17         saab      6  15223.333333\n",
       "18       subaru     12   8541.250000\n",
       "19       toyota     32   9885.812500\n",
       "20   volkswagen     12  10077.500000\n",
       "21        volvo     11  18063.181818"
      ]
     },
     "execution_count": 12,
     "metadata": {},
     "output_type": "execute_result"
    }
   ],
   "source": [
    "brand = df.groupby('brand').agg(count=('brand', 'size'), avg_price=('price', 'mean')).reset_index()\n",
    "brand\n"
   ]
  },
  {
   "cell_type": "code",
   "execution_count": 13,
   "id": "1364670c",
   "metadata": {},
   "outputs": [
    {
     "data": {
      "image/png": "[encoded data removed]",
      "text/plain": [
       "<Figure size 640x480 with 1 Axes>"
      ]
     },
     "metadata": {},
     "output_type": "display_data"
    }
   ],
   "source": [
    "plt.barh(y=brand['brand'], width=brand['avg_price'])\n",
    "plt.xlabel(\"average car price ($)\")\n",
    "plt.title(\"average price for a given car brand\")\n",
    "plt.grid(True) \n",
    "plt.show()"
   ]
  },
  {
   "cell_type": "markdown",
   "id": "188e5ef4",
   "metadata": {},
   "source": [
    "## numerical variables and price\n",
    "\n",
    "The first obvious variable to compare to price is horsepower. I've also added a color for cylinder number to see if this number relates to the horsepower in any way. I also added fuel type to see if it correlates in any way with these two variables:"
   ]
  },
  {
   "cell_type": "code",
   "execution_count": 14,
   "id": "43e3bc4c",
   "metadata": {},
   "outputs": [
    {
     "name": "stderr",
     "output_type": "stream",
     "text": [
      "c:\\Users\\Vixie\\Documents\\vscode-projects\\project-test\\.venv\\Lib\\site-packages\\seaborn\\categorical.py:3399: UserWarning: 14.6% of the points cannot be placed; you may want to decrease the size of the markers or use stripplot.\n",
      "  warnings.warn(msg, UserWarning)\n"
     ]
    },
    {
     "data": {
      "image/png": "[encoded data removed]",
      "text/plain": [
       "<Figure size 1800x600 with 2 Axes>"
      ]
     },
     "metadata": {},
     "output_type": "display_data"
    }
   ],
   "source": [
    "fig, axes = plt.subplots(nrows=1, ncols=2, figsize=(18,6))\n",
    "sns.boxplot(data=df, x='cylindernumber', y='horsepower', hue='fueltype', ax=axes[0])\n",
    "sns.swarmplot(data=df, x='cylindernumber', y='horsepower', hue='fueltype', ax=axes[1], dodge=True, size=3)\n",
    "plt.show()"
   ]
  },
  {
   "cell_type": "markdown",
   "id": "34f9d6da",
   "metadata": {},
   "source": [
    "Although some points cannot be placed on the swarmpoint (only in areas where there are too many points in the same place), we can see that more cylinders does not always mean higher horsepower. We can also see that diesel cars cluster on the lower end in terms of horsepower and they don't have more than 6 cylinders."
   ]
  },
  {
   "cell_type": "markdown",
   "id": "ced1e735",
   "metadata": {},
   "source": [
    "Now I will try to summarize many variables that might all tie to horsepower and price to see which ones are worth inversigating further:"
   ]
  },
  {
   "cell_type": "code",
   "execution_count": 15,
   "id": "5492601a",
   "metadata": {},
   "outputs": [
    {
     "data": {
      "image/png": "[encoded data removed]",
      "text/plain": [
       "<Figure size 1095.12x1000 with 20 Axes>"
      ]
     },
     "metadata": {},
     "output_type": "display_data"
    }
   ],
   "source": [
    "sns.pairplot(df, vars=['price', 'horsepower', 'enginesize', 'curbweight'], hue='fueltype')\n",
    "plt.show()"
   ]
  },
  {
   "cell_type": "code",
   "execution_count": 16,
   "id": "7a1e5b2b",
   "metadata": {},
   "outputs": [
    {
     "name": "stdout",
     "output_type": "stream",
     "text": [
      "c:\\Users\\Vixie\\Documents\\vscode-projects\\project-test\\.venv\\Scripts\\python.exe\n"
     ]
    }
   ],
   "source": [
    "import sys\n",
    "print(sys.executable)"
   ]
  },
  {
   "cell_type": "markdown",
   "id": "aade89d4",
   "metadata": {},
   "source": [
    "There is definitely a positive correlation between all these variables. Let's see the correlation between enginesize and horsepower:"
   ]
  },
  {
   "cell_type": "code",
   "execution_count": 17,
   "id": "61e75549",
   "metadata": {},
   "outputs": [
    {
     "data": {
      "application/vnd.plotly.v1+json": {
       "config": {
        "plotlyServerURL": "https://plot.ly"
       },
       "data": [
        {
         "hovertemplate": "fueltype=gas<br>enginesize=%{x}<br>horsepower=%{y}<extra></extra>",
         "legendgroup": "gas",
         "marker": {
          "color": "#636efa",
          "symbol": "circle"
         },
         "mode": "markers",
         "name": "gas",
         "orientation": "v",
         "showlegend": true,
         "type": "scatter",
         "x": [
          130,
          130,
          152,
          109,
          136,
          136,
          136,
          136,
          131,
          131,
          108,
          108,
          164,
          164,
          164,
          209,
          209,
          209,
          61,
          90,
          90,
          90,
          90,
          98,
          90,
          90,
          90,
          98,
          122,
          156,
          92,
          92,
          79,
          92,
          92,
          92,
          92,
          110,
          110,
          110,
          110,
          110,
          110,
          111,
          90,
          90,
          119,
          258,
          258,
          326,
          91,
          91,
          91,
          91,
          91,
          70,
          70,
          70,
          80,
          122,
          122,
          122,
          122,
          122,
          140,
          234,
          234,
          308,
          304,
          140,
          92,
          92,
          92,
          98,
          110,
          122,
          156,
          156,
          156,
          122,
          122,
          110,
          110,
          97,
          97,
          97,
          97,
          97,
          97,
          97,
          97,
          97,
          120,
          120,
          181,
          181,
          181,
          181,
          181,
          181,
          120,
          120,
          120,
          120,
          120,
          134,
          90,
          98,
          90,
          90,
          98,
          122,
          156,
          151,
          194,
          194,
          194,
          203,
          132,
          132,
          121,
          121,
          121,
          121,
          121,
          121,
          97,
          108,
          108,
          108,
          108,
          108,
          108,
          108,
          108,
          108,
          108,
          108,
          92,
          92,
          92,
          92,
          92,
          92,
          98,
          98,
          98,
          98,
          98,
          98,
          98,
          98,
          98,
          146,
          146,
          146,
          146,
          146,
          146,
          122,
          122,
          122,
          122,
          171,
          171,
          171,
          161,
          109,
          109,
          109,
          109,
          109,
          109,
          136,
          109,
          141,
          141,
          141,
          141,
          130,
          130,
          141,
          141,
          173,
          141
         ],
         "xaxis": "x",
         "y": [
          111,
          111,
          154,
          102,
          115,
          110,
          110,
          110,
          140,
          160,
          101,
          101,
          121,
          121,
          121,
          182,
          182,
          182,
          48,
          70,
          70,
          68,
          68,
          102,
          68,
          68,
          68,
          102,
          88,
          145,
          58,
          76,
          60,
          76,
          76,
          76,
          76,
          86,
          86,
          86,
          86,
          101,
          100,
          78,
          70,
          70,
          90,
          176,
          176,
          262,
          68,
          68,
          68,
          68,
          68,
          101,
          101,
          101,
          135,
          84,
          84,
          84,
          84,
          84,
          120,
          155,
          155,
          184,
          184,
          175,
          68,
          68,
          68,
          102,
          116,
          88,
          145,
          145,
          145,
          88,
          88,
          116,
          116,
          69,
          69,
          69,
          69,
          69,
          69,
          69,
          69,
          69,
          97,
          97,
          152,
          152,
          152,
          160,
          200,
          160,
          97,
          97,
          95,
          95,
          97,
          142,
          68,
          102,
          68,
          68,
          68,
          88,
          145,
          143,
          207,
          207,
          207,
          288,
          90,
          90,
          110,
          110,
          110,
          110,
          160,
          160,
          69,
          73,
          73,
          82,
          82,
          94,
          82,
          111,
          82,
          94,
          82,
          111,
          62,
          62,
          62,
          62,
          62,
          62,
          70,
          70,
          70,
          70,
          70,
          70,
          70,
          112,
          112,
          116,
          116,
          116,
          116,
          116,
          116,
          92,
          92,
          92,
          92,
          161,
          161,
          156,
          156,
          85,
          85,
          85,
          100,
          90,
          90,
          110,
          88,
          114,
          114,
          114,
          114,
          162,
          162,
          114,
          160,
          134,
          114
         ],
         "yaxis": "y"
        },
        {
         "hovertemplate": "<b>OLS trendline</b><br>horsepower = 0.784179 * enginesize + 7.47063<br>R<sup>2</sup>=0.686882<br><br>fueltype=gas<br>enginesize=%{x}<br>horsepower=%{y} <b>(trend)</b><extra></extra>",
         "legendgroup": "gas",
         "marker": {
          "color": "#636efa",
          "symbol": "circle"
         },
         "mode": "lines",
         "name": "gas",
         "showlegend": false,
         "type": "scatter",
         "x": [
          61,
          70,
          70,
          70,
          79,
          80,
          90,
          90,
          90,
          90,
          90,
          90,
          90,
          90,
          90,
          90,
          90,
          90,
          91,
          91,
          91,
          91,
          91,
          92,
          92,
          92,
          92,
          92,
          92,
          92,
          92,
          92,
          92,
          92,
          92,
          92,
          92,
          92,
          97,
          97,
          97,
          97,
          97,
          97,
          97,
          97,
          97,
          97,
          98,
          98,
          98,
          98,
          98,
          98,
          98,
          98,
          98,
          98,
          98,
          98,
          98,
          98,
          108,
          108,
          108,
          108,
          108,
          108,
          108,
          108,
          108,
          108,
          108,
          108,
          108,
          109,
          109,
          109,
          109,
          109,
          109,
          109,
          109,
          110,
          110,
          110,
          110,
          110,
          110,
          110,
          110,
          110,
          111,
          119,
          120,
          120,
          120,
          120,
          120,
          120,
          120,
          121,
          121,
          121,
          121,
          121,
          121,
          122,
          122,
          122,
          122,
          122,
          122,
          122,
          122,
          122,
          122,
          122,
          122,
          122,
          122,
          130,
          130,
          130,
          130,
          131,
          131,
          132,
          132,
          134,
          136,
          136,
          136,
          136,
          136,
          140,
          140,
          141,
          141,
          141,
          141,
          141,
          141,
          141,
          146,
          146,
          146,
          146,
          146,
          146,
          151,
          152,
          156,
          156,
          156,
          156,
          156,
          161,
          164,
          164,
          164,
          171,
          171,
          171,
          173,
          181,
          181,
          181,
          181,
          181,
          181,
          194,
          194,
          194,
          203,
          209,
          209,
          209,
          234,
          234,
          258,
          258,
          304,
          308,
          326
         ],
         "xaxis": "x",
         "y": [
          55.30553652944094,
          62.36314505723331,
          62.36314505723331,
          62.36314505723331,
          69.42075358502566,
          70.20493231033593,
          78.04671956343856,
          78.04671956343856,
          78.04671956343856,
          78.04671956343856,
          78.04671956343856,
          78.04671956343856,
          78.04671956343856,
          78.04671956343856,
          78.04671956343856,
          78.04671956343856,
          78.04671956343856,
          78.04671956343856,
          78.83089828874883,
          78.83089828874883,
          78.83089828874883,
          78.83089828874883,
          78.83089828874883,
          79.61507701405908,
          79.61507701405908,
          79.61507701405908,
          79.61507701405908,
          79.61507701405908,
          79.61507701405908,
          79.61507701405908,
          79.61507701405908,
          79.61507701405908,
          79.61507701405908,
          79.61507701405908,
          79.61507701405908,
          79.61507701405908,
          79.61507701405908,
          79.61507701405908,
          83.5359706406104,
          83.5359706406104,
          83.5359706406104,
          83.5359706406104,
          83.5359706406104,
          83.5359706406104,
          83.5359706406104,
          83.5359706406104,
          83.5359706406104,
          83.5359706406104,
          84.32014936592067,
          84.32014936592067,
          84.32014936592067,
          84.32014936592067,
          84.32014936592067,
          84.32014936592067,
          84.32014936592067,
          84.32014936592067,
          84.32014936592067,
          84.32014936592067,
          84.32014936592067,
          84.32014936592067,
          84.32014936592067,
          84.32014936592067,
          92.1619366190233,
          92.1619366190233,
          92.1619366190233,
          92.1619366190233,
          92.1619366190233,
          92.1619366190233,
          92.1619366190233,
          92.1619366190233,
          92.1619366190233,
          92.1619366190233,
          92.1619366190233,
          92.1619366190233,
          92.1619366190233,
          92.94611534433356,
          92.94611534433356,
          92.94611534433356,
          92.94611534433356,
          92.94611534433356,
          92.94611534433356,
          92.94611534433356,
          92.94611534433356,
          93.73029406964382,
          93.73029406964382,
          93.73029406964382,
          93.73029406964382,
          93.73029406964382,
          93.73029406964382,
          93.73029406964382,
          93.73029406964382,
          93.73029406964382,
          94.51447279495409,
          100.78790259743619,
          101.57208132274646,
          101.57208132274646,
          101.57208132274646,
          101.57208132274646,
          101.57208132274646,
          101.57208132274646,
          101.57208132274646,
          102.35626004805671,
          102.35626004805671,
          102.35626004805671,
          102.35626004805671,
          102.35626004805671,
          102.35626004805671,
          103.14043877336698,
          103.14043877336698,
          103.14043877336698,
          103.14043877336698,
          103.14043877336698,
          103.14043877336698,
          103.14043877336698,
          103.14043877336698,
          103.14043877336698,
          103.14043877336698,
          103.14043877336698,
          103.14043877336698,
          103.14043877336698,
          103.14043877336698,
          109.41386857584908,
          109.41386857584908,
          109.41386857584908,
          109.41386857584908,
          110.19804730115935,
          110.19804730115935,
          110.9822260264696,
          110.9822260264696,
          112.55058347709013,
          114.11894092771065,
          114.11894092771065,
          114.11894092771065,
          114.11894092771065,
          114.11894092771065,
          117.25565582895172,
          117.25565582895172,
          118.03983455426197,
          118.03983455426197,
          118.03983455426197,
          118.03983455426197,
          118.03983455426197,
          118.03983455426197,
          118.03983455426197,
          121.96072818081329,
          121.96072818081329,
          121.96072818081329,
          121.96072818081329,
          121.96072818081329,
          121.96072818081329,
          125.88162180736461,
          126.66580053267487,
          129.80251543391591,
          129.80251543391591,
          129.80251543391591,
          129.80251543391591,
          129.80251543391591,
          133.72340906046725,
          136.07594523639804,
          136.07594523639804,
          136.07594523639804,
          141.56519631356988,
          141.56519631356988,
          141.56519631356988,
          143.1335537641904,
          149.4069835666725,
          149.4069835666725,
          149.4069835666725,
          149.4069835666725,
          149.4069835666725,
          149.4069835666725,
          159.60130699570593,
          159.60130699570593,
          159.60130699570593,
          166.6589155234983,
          171.36398787535987,
          171.36398787535987,
          171.36398787535987,
          190.96845600811645,
          190.96845600811645,
          209.78874541556277,
          209.78874541556277,
          245.86096677983485,
          248.9976816810759,
          263.1128987366606
         ],
         "yaxis": "y"
        },
        {
         "hovertemplate": "fueltype=diesel<br>enginesize=%{x}<br>horsepower=%{y}<extra></extra>",
         "legendgroup": "diesel",
         "marker": {
          "color": "#EF553B",
          "symbol": "circle"
         },
         "mode": "markers",
         "name": "diesel",
         "orientation": "v",
         "showlegend": true,
         "type": "scatter",
         "x": [
          122,
          134,
          183,
          183,
          183,
          183,
          103,
          152,
          152,
          152,
          152,
          152,
          110,
          110,
          110,
          97,
          97,
          97,
          97,
          145
         ],
         "xaxis": "x",
         "y": [
          64,
          72,
          123,
          123,
          123,
          123,
          55,
          95,
          95,
          95,
          95,
          95,
          56,
          56,
          73,
          52,
          52,
          68,
          68,
          106
         ],
         "yaxis": "y"
        },
        {
         "hovertemplate": "<b>OLS trendline</b><br>horsepower = 0.773604 * enginesize + -20.5281<br>R<sup>2</sup>=0.916008<br><br>fueltype=diesel<br>enginesize=%{x}<br>horsepower=%{y} <b>(trend)</b><extra></extra>",
         "legendgroup": "diesel",
         "marker": {
          "color": "#EF553B",
          "symbol": "circle"
         },
         "mode": "lines",
         "name": "diesel",
         "showlegend": false,
         "type": "scatter",
         "x": [
          97,
          97,
          97,
          97,
          103,
          110,
          110,
          110,
          122,
          134,
          145,
          152,
          152,
          152,
          152,
          152,
          183,
          183,
          183,
          183
         ],
         "xaxis": "x",
         "y": [
          54.51152264214495,
          54.51152264214495,
          54.51152264214495,
          54.51152264214495,
          59.15314703871164,
          64.56837550137276,
          64.56837550137276,
          64.56837550137276,
          73.85162429450612,
          83.13487308763949,
          91.64451781467841,
          97.05974627733954,
          97.05974627733954,
          97.05974627733954,
          97.05974627733954,
          97.05974627733954,
          121.04147232626738,
          121.04147232626738,
          121.04147232626738,
          121.04147232626738
         ],
         "yaxis": "y"
        }
       ],
       "layout": {
        "legend": {
         "title": {
          "text": "fueltype"
         },
         "tracegroupgap": 0
        },
        "template": {
         "data": {
          "bar": [
           {
            "error_x": {
             "color": "#2a3f5f"
            },
            "error_y": {
             "color": "#2a3f5f"
            },
            "marker": {
             "line": {
              "color": "#E5ECF6",
              "width": 0.5
             },
             "pattern": {
              "fillmode": "overlay",
              "size": 10,
              "solidity": 0.2
             }
            },
            "type": "bar"
           }
          ],
          "barpolar": [
           {
            "marker": {
             "line": {
              "color": "#E5ECF6",
              "width": 0.5
             },
             "pattern": {
              "fillmode": "overlay",
              "size": 10,
              "solidity": 0.2
             }
            },
            "type": "barpolar"
           }
          ],
          "carpet": [
           {
            "aaxis": {
             "endlinecolor": "#2a3f5f",
             "gridcolor": "white",
             "linecolor": "white",
             "minorgridcolor": "white",
             "startlinecolor": "#2a3f5f"
            },
            "baxis": {
             "endlinecolor": "#2a3f5f",
             "gridcolor": "white",
             "linecolor": "white",
             "minorgridcolor": "white",
             "startlinecolor": "#2a3f5f"
            },
            "type": "carpet"
           }
          ],
          "choropleth": [
           {
            "colorbar": {
             "outlinewidth": 0,
             "ticks": ""
            },
            "type": "choropleth"
           }
          ],
          "contour": [
           {
            "colorbar": {
             "outlinewidth": 0,
             "ticks": ""
            },
            "colorscale": [
             [
              0,
              "#0d0887"
             ],
             [
              0.1111111111111111,
              "#46039f"
             ],
             [
              0.2222222222222222,
              "#7201a8"
             ],
             [
              0.3333333333333333,
              "#9c179e"
             ],
             [
              0.4444444444444444,
              "#bd3786"
             ],
             [
              0.5555555555555556,
              "#d8576b"
             ],
             [
              0.6666666666666666,
              "#ed7953"
             ],
             [
              0.7777777777777778,
              "#fb9f3a"
             ],
             [
              0.8888888888888888,
              "#fdca26"
             ],
             [
              1,
              "#f0f921"
             ]
            ],
            "type": "contour"
           }
          ],
          "contourcarpet": [
           {
            "colorbar": {
             "outlinewidth": 0,
             "ticks": ""
            },
            "type": "contourcarpet"
           }
          ],
          "heatmap": [
           {
            "colorbar": {
             "outlinewidth": 0,
             "ticks": ""
            },
            "colorscale": [
             [
              0,
              "#0d0887"
             ],
             [
              0.1111111111111111,
              "#46039f"
             ],
             [
              0.2222222222222222,
              "#7201a8"
             ],
             [
              0.3333333333333333,
              "#9c179e"
             ],
             [
              0.4444444444444444,
              "#bd3786"
             ],
             [
              0.5555555555555556,
              "#d8576b"
             ],
             [
              0.6666666666666666,
              "#ed7953"
             ],
             [
              0.7777777777777778,
              "#fb9f3a"
             ],
             [
              0.8888888888888888,
              "#fdca26"
             ],
             [
              1,
              "#f0f921"
             ]
            ],
            "type": "heatmap"
           }
          ],
          "heatmapgl": [
           {
            "colorbar": {
             "outlinewidth": 0,
             "ticks": ""
            },
            "colorscale": [
             [
              0,
              "#0d0887"
             ],
             [
              0.1111111111111111,
              "#46039f"
             ],
             [
              0.2222222222222222,
              "#7201a8"
             ],
             [
              0.3333333333333333,
              "#9c179e"
             ],
             [
              0.4444444444444444,
              "#bd3786"
             ],
             [
              0.5555555555555556,
              "#d8576b"
             ],
             [
              0.6666666666666666,
              "#ed7953"
             ],
             [
              0.7777777777777778,
              "#fb9f3a"
             ],
             [
              0.8888888888888888,
              "#fdca26"
             ],
             [
              1,
              "#f0f921"
             ]
            ],
            "type": "heatmapgl"
           }
          ],
          "histogram": [
           {
            "marker": {
             "pattern": {
              "fillmode": "overlay",
              "size": 10,
              "solidity": 0.2
             }
            },
            "type": "histogram"
           }
          ],
          "histogram2d": [
           {
            "colorbar": {
             "outlinewidth": 0,
             "ticks": ""
            },
            "colorscale": [
             [
              0,
              "#0d0887"
             ],
             [
              0.1111111111111111,
              "#46039f"
             ],
             [
              0.2222222222222222,
              "#7201a8"
             ],
             [
              0.3333333333333333,
              "#9c179e"
             ],
             [
              0.4444444444444444,
              "#bd3786"
             ],
             [
              0.5555555555555556,
              "#d8576b"
             ],
             [
              0.6666666666666666,
              "#ed7953"
             ],
             [
              0.7777777777777778,
              "#fb9f3a"
             ],
             [
              0.8888888888888888,
              "#fdca26"
             ],
             [
              1,
              "#f0f921"
             ]
            ],
            "type": "histogram2d"
           }
          ],
          "histogram2dcontour": [
           {
            "colorbar": {
             "outlinewidth": 0,
             "ticks": ""
            },
            "colorscale": [
             [
              0,
              "#0d0887"
             ],
             [
              0.1111111111111111,
              "#46039f"
             ],
             [
              0.2222222222222222,
              "#7201a8"
             ],
             [
              0.3333333333333333,
              "#9c179e"
             ],
             [
              0.4444444444444444,
              "#bd3786"
             ],
             [
              0.5555555555555556,
              "#d8576b"
             ],
             [
              0.6666666666666666,
              "#ed7953"
             ],
             [
              0.7777777777777778,
              "#fb9f3a"
             ],
             [
              0.8888888888888888,
              "#fdca26"
             ],
             [
              1,
              "#f0f921"
             ]
            ],
            "type": "histogram2dcontour"
           }
          ],
          "mesh3d": [
           {
            "colorbar": {
             "outlinewidth": 0,
             "ticks": ""
            },
            "type": "mesh3d"
           }
          ],
          "parcoords": [
           {
            "line": {
             "colorbar": {
              "outlinewidth": 0,
              "ticks": ""
             }
            },
            "type": "parcoords"
           }
          ],
          "pie": [
           {
            "automargin": true,
            "type": "pie"
           }
          ],
          "scatter": [
           {
            "fillpattern": {
             "fillmode": "overlay",
             "size": 10,
             "solidity": 0.2
            },
            "type": "scatter"
           }
          ],
          "scatter3d": [
           {
            "line": {
             "colorbar": {
              "outlinewidth": 0,
              "ticks": ""
             }
            },
            "marker": {
             "colorbar": {
              "outlinewidth": 0,
              "ticks": ""
             }
            },
            "type": "scatter3d"
           }
          ],
          "scattercarpet": [
           {
            "marker": {
             "colorbar": {
              "outlinewidth": 0,
              "ticks": ""
             }
            },
            "type": "scattercarpet"
           }
          ],
          "scattergeo": [
           {
            "marker": {
             "colorbar": {
              "outlinewidth": 0,
              "ticks": ""
             }
            },
            "type": "scattergeo"
           }
          ],
          "scattergl": [
           {
            "marker": {
             "colorbar": {
              "outlinewidth": 0,
              "ticks": ""
             }
            },
            "type": "scattergl"
           }
          ],
          "scattermapbox": [
           {
            "marker": {
             "colorbar": {
              "outlinewidth": 0,
              "ticks": ""
             }
            },
            "type": "scattermapbox"
           }
          ],
          "scatterpolar": [
           {
            "marker": {
             "colorbar": {
              "outlinewidth": 0,
              "ticks": ""
             }
            },
            "type": "scatterpolar"
           }
          ],
          "scatterpolargl": [
           {
            "marker": {
             "colorbar": {
              "outlinewidth": 0,
              "ticks": ""
             }
            },
            "type": "scatterpolargl"
           }
          ],
          "scatterternary": [
           {
            "marker": {
             "colorbar": {
              "outlinewidth": 0,
              "ticks": ""
             }
            },
            "type": "scatterternary"
           }
          ],
          "surface": [
           {
            "colorbar": {
             "outlinewidth": 0,
             "ticks": ""
            },
            "colorscale": [
             [
              0,
              "#0d0887"
             ],
             [
              0.1111111111111111,
              "#46039f"
             ],
             [
              0.2222222222222222,
              "#7201a8"
             ],
             [
              0.3333333333333333,
              "#9c179e"
             ],
             [
              0.4444444444444444,
              "#bd3786"
             ],
             [
              0.5555555555555556,
              "#d8576b"
             ],
             [
              0.6666666666666666,
              "#ed7953"
             ],
             [
              0.7777777777777778,
              "#fb9f3a"
             ],
             [
              0.8888888888888888,
              "#fdca26"
             ],
             [
              1,
              "#f0f921"
             ]
            ],
            "type": "surface"
           }
          ],
          "table": [
           {
            "cells": {
             "fill": {
              "color": "#EBF0F8"
             },
             "line": {
              "color": "white"
             }
            },
            "header": {
             "fill": {
              "color": "#C8D4E3"
             },
             "line": {
              "color": "white"
             }
            },
            "type": "table"
           }
          ]
         },
         "layout": {
          "annotationdefaults": {
           "arrowcolor": "#2a3f5f",
           "arrowhead": 0,
           "arrowwidth": 1
          },
          "autotypenumbers": "strict",
          "coloraxis": {
           "colorbar": {
            "outlinewidth": 0,
            "ticks": ""
           }
          },
          "colorscale": {
           "diverging": [
            [
             0,
             "#8e0152"
            ],
            [
             0.1,
             "#c51b7d"
            ],
            [
             0.2,
             "#de77ae"
            ],
            [
             0.3,
             "#f1b6da"
            ],
            [
             0.4,
             "#fde0ef"
            ],
            [
             0.5,
             "#f7f7f7"
            ],
            [
             0.6,
             "#e6f5d0"
            ],
            [
             0.7,
             "#b8e186"
            ],
            [
             0.8,
             "#7fbc41"
            ],
            [
             0.9,
             "#4d9221"
            ],
            [
             1,
             "#276419"
            ]
           ],
           "sequential": [
            [
             0,
             "#0d0887"
            ],
            [
             0.1111111111111111,
             "#46039f"
            ],
            [
             0.2222222222222222,
             "#7201a8"
            ],
            [
             0.3333333333333333,
             "#9c179e"
            ],
            [
             0.4444444444444444,
             "#bd3786"
            ],
            [
             0.5555555555555556,
             "#d8576b"
            ],
            [
             0.6666666666666666,
             "#ed7953"
            ],
            [
             0.7777777777777778,
             "#fb9f3a"
            ],
            [
             0.8888888888888888,
             "#fdca26"
            ],
            [
             1,
             "#f0f921"
            ]
           ],
           "sequentialminus": [
            [
             0,
             "#0d0887"
            ],
            [
             0.1111111111111111,
             "#46039f"
            ],
            [
             0.2222222222222222,
             "#7201a8"
            ],
            [
             0.3333333333333333,
             "#9c179e"
            ],
            [
             0.4444444444444444,
             "#bd3786"
            ],
            [
             0.5555555555555556,
             "#d8576b"
            ],
            [
             0.6666666666666666,
             "#ed7953"
            ],
            [
             0.7777777777777778,
             "#fb9f3a"
            ],
            [
             0.8888888888888888,
             "#fdca26"
            ],
            [
             1,
             "#f0f921"
            ]
           ]
          },
          "colorway": [
           "#636efa",
           "#EF553B",
           "#00cc96",
           "#ab63fa",
           "#FFA15A",
           "#19d3f3",
           "#FF6692",
           "#B6E880",
           "#FF97FF",
           "#FECB52"
          ],
          "font": {
           "color": "#2a3f5f"
          },
          "geo": {
           "bgcolor": "white",
           "lakecolor": "white",
           "landcolor": "#E5ECF6",
           "showlakes": true,
           "showland": true,
           "subunitcolor": "white"
          },
          "hoverlabel": {
           "align": "left"
          },
          "hovermode": "closest",
          "mapbox": {
           "style": "light"
          },
          "paper_bgcolor": "white",
          "plot_bgcolor": "#E5ECF6",
          "polar": {
           "angularaxis": {
            "gridcolor": "white",
            "linecolor": "white",
            "ticks": ""
           },
           "bgcolor": "#E5ECF6",
           "radialaxis": {
            "gridcolor": "white",
            "linecolor": "white",
            "ticks": ""
           }
          },
          "scene": {
           "xaxis": {
            "backgroundcolor": "#E5ECF6",
            "gridcolor": "white",
            "gridwidth": 2,
            "linecolor": "white",
            "showbackground": true,
            "ticks": "",
            "zerolinecolor": "white"
           },
           "yaxis": {
            "backgroundcolor": "#E5ECF6",
            "gridcolor": "white",
            "gridwidth": 2,
            "linecolor": "white",
            "showbackground": true,
            "ticks": "",
            "zerolinecolor": "white"
           },
           "zaxis": {
            "backgroundcolor": "#E5ECF6",
            "gridcolor": "white",
            "gridwidth": 2,
            "linecolor": "white",
            "showbackground": true,
            "ticks": "",
            "zerolinecolor": "white"
           }
          },
          "shapedefaults": {
           "line": {
            "color": "#2a3f5f"
           }
          },
          "ternary": {
           "aaxis": {
            "gridcolor": "white",
            "linecolor": "white",
            "ticks": ""
           },
           "baxis": {
            "gridcolor": "white",
            "linecolor": "white",
            "ticks": ""
           },
           "bgcolor": "#E5ECF6",
           "caxis": {
            "gridcolor": "white",
            "linecolor": "white",
            "ticks": ""
           }
          },
          "title": {
           "x": 0.05
          },
          "xaxis": {
           "automargin": true,
           "gridcolor": "white",
           "linecolor": "white",
           "ticks": "",
           "title": {
            "standoff": 15
           },
           "zerolinecolor": "white",
           "zerolinewidth": 2
          },
          "yaxis": {
           "automargin": true,
           "gridcolor": "white",
           "linecolor": "white",
           "ticks": "",
           "title": {
            "standoff": 15
           },
           "zerolinecolor": "white",
           "zerolinewidth": 2
          }
         }
        },
        "title": {
         "text": "Engine Size vs Horsepower by Fuel Type"
        },
        "xaxis": {
         "anchor": "y",
         "domain": [
          0,
          1
         ],
         "title": {
          "text": "enginesize"
         }
        },
        "yaxis": {
         "anchor": "x",
         "domain": [
          0,
          1
         ],
         "title": {
          "text": "horsepower"
         }
        }
       }
      }
     },
     "metadata": {},
     "output_type": "display_data"
    }
   ],
   "source": [
    "px.scatter(df, x='enginesize', y='horsepower', color='fueltype', trendline='ols', title='Engine Size vs Horsepower by Fuel Type').show()"
   ]
  },
  {
   "cell_type": "markdown",
   "id": "af921776",
   "metadata": {},
   "source": [
    "Next we will look like at the relationship between horsepower and curbweight:"
   ]
  },
  {
   "cell_type": "code",
   "execution_count": 18,
   "id": "fb194d77",
   "metadata": {},
   "outputs": [
    {
     "data": {
      "application/vnd.plotly.v1+json": {
       "config": {
        "plotlyServerURL": "https://plot.ly"
       },
       "data": [
        {
         "hovertemplate": "fueltype=gas<br>curbweight=%{x}<br>horsepower=%{y}<extra></extra>",
         "legendgroup": "gas",
         "marker": {
          "color": "#636efa",
          "symbol": "circle"
         },
         "mode": "markers",
         "name": "gas",
         "orientation": "v",
         "showlegend": true,
         "type": "scatter",
         "x": [
          2548,
          2548,
          2823,
          2337,
          2824,
          2507,
          2844,
          2954,
          3086,
          3053,
          2395,
          2395,
          2710,
          2765,
          3055,
          3230,
          3380,
          3505,
          1488,
          1874,
          1909,
          1876,
          1876,
          2128,
          1967,
          1989,
          1989,
          2191,
          2535,
          2811,
          1713,
          1819,
          1837,
          1940,
          1956,
          2010,
          2024,
          2236,
          2289,
          2304,
          2372,
          2465,
          2293,
          2337,
          1874,
          1909,
          2734,
          4066,
          4066,
          3950,
          1890,
          1900,
          1905,
          1945,
          1950,
          2380,
          2380,
          2385,
          2500,
          2385,
          2410,
          2385,
          2410,
          2425,
          2670,
          3740,
          3685,
          3900,
          3715,
          2910,
          1918,
          1944,
          2004,
          2145,
          2370,
          2328,
          2833,
          2921,
          2926,
          2365,
          2405,
          2403,
          2403,
          1889,
          1918,
          1938,
          2024,
          1951,
          2028,
          1971,
          2037,
          2008,
          2324,
          2302,
          3095,
          3296,
          3060,
          3071,
          3139,
          3139,
          3020,
          3230,
          3075,
          3285,
          3075,
          3130,
          1918,
          2128,
          1967,
          1989,
          2191,
          2535,
          2818,
          2778,
          2756,
          2756,
          2800,
          3366,
          2579,
          2460,
          2658,
          2695,
          2707,
          2758,
          2808,
          2847,
          2050,
          2120,
          2240,
          2145,
          2190,
          2340,
          2385,
          2510,
          2290,
          2455,
          2420,
          2650,
          1985,
          2040,
          2015,
          2280,
          2290,
          3110,
          2081,
          2109,
          2094,
          2122,
          2140,
          2169,
          2204,
          2265,
          2300,
          2540,
          2536,
          2551,
          2679,
          2714,
          2975,
          2326,
          2414,
          2414,
          2458,
          2976,
          3016,
          3131,
          3151,
          2209,
          2212,
          2275,
          2300,
          2254,
          2221,
          2661,
          2563,
          2912,
          3034,
          2935,
          3042,
          3045,
          3157,
          2952,
          3049,
          3012,
          3062
         ],
         "xaxis": "x",
         "y": [
          111,
          111,
          154,
          102,
          115,
          110,
          110,
          110,
          140,
          160,
          101,
          101,
          121,
          121,
          121,
          182,
          182,
          182,
          48,
          70,
          70,
          68,
          68,
          102,
          68,
          68,
          68,
          102,
          88,
          145,
          58,
          76,
          60,
          76,
          76,
          76,
          76,
          86,
          86,
          86,
          86,
          101,
          100,
          78,
          70,
          70,
          90,
          176,
          176,
          262,
          68,
          68,
          68,
          68,
          68,
          101,
          101,
          101,
          135,
          84,
          84,
          84,
          84,
          84,
          120,
          155,
          155,
          184,
          184,
          175,
          68,
          68,
          68,
          102,
          116,
          88,
          145,
          145,
          145,
          88,
          88,
          116,
          116,
          69,
          69,
          69,
          69,
          69,
          69,
          69,
          69,
          69,
          97,
          97,
          152,
          152,
          152,
          160,
          200,
          160,
          97,
          97,
          95,
          95,
          97,
          142,
          68,
          102,
          68,
          68,
          68,
          88,
          145,
          143,
          207,
          207,
          207,
          288,
          90,
          90,
          110,
          110,
          110,
          110,
          160,
          160,
          69,
          73,
          73,
          82,
          82,
          94,
          82,
          111,
          82,
          94,
          82,
          111,
          62,
          62,
          62,
          62,
          62,
          62,
          70,
          70,
          70,
          70,
          70,
          70,
          70,
          112,
          112,
          116,
          116,
          116,
          116,
          116,
          116,
          92,
          92,
          92,
          92,
          161,
          161,
          156,
          156,
          85,
          85,
          85,
          100,
          90,
          90,
          110,
          88,
          114,
          114,
          114,
          114,
          162,
          162,
          114,
          160,
          134,
          114
         ],
         "yaxis": "y"
        },
        {
         "hovertemplate": "<b>OLS trendline</b><br>horsepower = 0.0655295 * curbweight + -58.7901<br>R<sup>2</sup>=0.666336<br><br>fueltype=gas<br>curbweight=%{x}<br>horsepower=%{y} <b>(trend)</b><extra></extra>",
         "legendgroup": "gas",
         "marker": {
          "color": "#636efa",
          "symbol": "circle"
         },
         "mode": "lines",
         "name": "gas",
         "showlegend": false,
         "type": "scatter",
         "x": [
          1488,
          1713,
          1819,
          1837,
          1874,
          1874,
          1876,
          1876,
          1889,
          1890,
          1900,
          1905,
          1909,
          1909,
          1918,
          1918,
          1918,
          1938,
          1940,
          1944,
          1945,
          1950,
          1951,
          1956,
          1967,
          1967,
          1971,
          1985,
          1989,
          1989,
          1989,
          2004,
          2008,
          2010,
          2015,
          2024,
          2024,
          2028,
          2037,
          2040,
          2050,
          2081,
          2094,
          2109,
          2120,
          2122,
          2128,
          2128,
          2140,
          2145,
          2145,
          2169,
          2190,
          2191,
          2191,
          2204,
          2209,
          2212,
          2221,
          2236,
          2240,
          2254,
          2265,
          2275,
          2280,
          2289,
          2290,
          2290,
          2293,
          2300,
          2300,
          2302,
          2304,
          2324,
          2326,
          2328,
          2337,
          2337,
          2340,
          2365,
          2370,
          2372,
          2380,
          2380,
          2385,
          2385,
          2385,
          2385,
          2395,
          2395,
          2403,
          2403,
          2405,
          2410,
          2410,
          2414,
          2414,
          2420,
          2425,
          2455,
          2458,
          2460,
          2465,
          2500,
          2507,
          2510,
          2535,
          2535,
          2536,
          2540,
          2548,
          2548,
          2551,
          2563,
          2579,
          2650,
          2658,
          2661,
          2670,
          2679,
          2695,
          2707,
          2710,
          2714,
          2734,
          2756,
          2756,
          2758,
          2765,
          2778,
          2800,
          2808,
          2811,
          2818,
          2823,
          2824,
          2833,
          2844,
          2847,
          2910,
          2912,
          2921,
          2926,
          2935,
          2952,
          2954,
          2975,
          2976,
          3012,
          3016,
          3020,
          3034,
          3042,
          3045,
          3049,
          3053,
          3055,
          3060,
          3062,
          3071,
          3075,
          3075,
          3086,
          3095,
          3110,
          3130,
          3131,
          3139,
          3139,
          3151,
          3157,
          3230,
          3230,
          3285,
          3296,
          3366,
          3380,
          3505,
          3685,
          3715,
          3740,
          3900,
          3950,
          4066,
          4066
         ],
         "xaxis": "x",
         "y": [
          38.717776242362994,
          53.46190803301865,
          60.408032343283104,
          61.58756288653556,
          64.01215344766561,
          64.01215344766561,
          64.14321239691586,
          64.14321239691586,
          64.99509556704265,
          65.06062504166778,
          65.71591978791915,
          66.04356716104482,
          66.30568505954537,
          66.30568505954537,
          66.89545033117159,
          66.89545033117159,
          66.89545033117159,
          68.20603982367433,
          68.3370987729246,
          68.59921667142513,
          68.66474614605028,
          68.99239351917595,
          69.0579229938011,
          69.38557036692677,
          70.10639458780327,
          70.10639458780327,
          70.36851248630381,
          71.2859251310557,
          71.54804302955625,
          71.54804302955625,
          71.54804302955625,
          72.5309851489333,
          72.79310304743385,
          72.92416199668412,
          73.25180936980979,
          73.84157464143604,
          73.84157464143604,
          74.10369253993659,
          74.69345781156281,
          74.8900462354382,
          75.54534098168958,
          77.57675469506881,
          78.42863786519558,
          79.41157998457263,
          80.13240420544912,
          80.2634631546994,
          80.65664000245022,
          80.65664000245022,
          81.44299369795183,
          81.77064107107753,
          81.77064107107753,
          83.3433484620808,
          84.71946742920866,
          84.78499690383379,
          84.78499690383379,
          85.63688007396055,
          85.96452744708625,
          86.16111587096165,
          86.75088114258787,
          87.73382326196491,
          87.99594116046546,
          88.91335380521738,
          89.63417802609388,
          90.28947277234525,
          90.61712014547092,
          91.20688541709714,
          91.27241489172229,
          91.27241489172229,
          91.46900331559769,
          91.92770963797363,
          91.92770963797363,
          92.05876858722391,
          92.18982753647418,
          93.50041702897693,
          93.6314759782272,
          93.76253492747747,
          94.3523001991037,
          94.3523001991037,
          94.54888862297909,
          96.1871254886075,
          96.51477286173318,
          96.64583181098345,
          97.17006760798455,
          97.17006760798455,
          97.49771498111022,
          97.49771498111022,
          97.49771498111022,
          97.49771498111022,
          98.15300972736159,
          98.15300972736159,
          98.67724552436269,
          98.67724552436269,
          98.80830447361296,
          99.13595184673864,
          99.13595184673864,
          99.39806974523918,
          99.39806974523918,
          99.79124659299,
          100.11889396611568,
          102.08477820486976,
          102.28136662874519,
          102.41242557799546,
          102.74007295112114,
          105.03360456300089,
          105.49231088537687,
          105.68889930925226,
          107.32713617488068,
          107.32713617488068,
          107.3926656495058,
          107.65478354800635,
          108.17901934500745,
          108.17901934500745,
          108.37560776888284,
          109.16196146438449,
          110.21043305838666,
          114.86302575677135,
          115.38726155377245,
          115.58384997764784,
          116.17361524927406,
          116.76338052090028,
          117.81185211490248,
          118.59820581040412,
          118.79479423427952,
          119.05691213278007,
          120.36750162528278,
          121.8091500670358,
          121.8091500670358,
          121.94020901628608,
          122.39891533866202,
          123.25079850878879,
          124.69244695054178,
          125.21668274754288,
          125.41327117141827,
          125.87197749379425,
          126.19962486691992,
          126.26515434154507,
          126.85491961317129,
          127.57574383404778,
          127.77233225792318,
          131.90068915930678,
          132.03174810855705,
          132.62151338018327,
          132.94916075330895,
          133.5389260249352,
          134.6529270935625,
          134.78398604281278,
          136.16010500994062,
          136.22563448456577,
          138.58469557107068,
          138.84681346957123,
          139.10893136807178,
          140.02634401282367,
          140.55057980982477,
          140.74716823370017,
          141.0092861322007,
          141.27140403070126,
          141.40246297995154,
          141.7301103530772,
          141.86116930232748,
          142.45093457395373,
          142.71305247245425,
          142.71305247245425,
          143.43387669333077,
          144.023641964957,
          145.00658408433404,
          146.31717357683675,
          146.3827030514619,
          146.90693884846297,
          146.90693884846297,
          147.69329254396462,
          148.08646939171544,
          152.87012103935038,
          152.87012103935038,
          156.47424214373288,
          157.19506636460937,
          161.78212958836892,
          162.69954223312084,
          170.89072656126285,
          182.6860319937874,
          184.65191623254148,
          186.2901530981699,
          196.7748690381917,
          200.05134276944852,
          207.65276182596432,
          207.65276182596432
         ],
         "yaxis": "y"
        },
        {
         "hovertemplate": "fueltype=diesel<br>curbweight=%{x}<br>horsepower=%{y}<extra></extra>",
         "legendgroup": "diesel",
         "marker": {
          "color": "#EF553B",
          "symbol": "circle"
         },
         "mode": "markers",
         "name": "diesel",
         "orientation": "v",
         "showlegend": true,
         "type": "scatter",
         "x": [
          2443,
          2700,
          3515,
          3750,
          3495,
          3770,
          2017,
          3197,
          3430,
          3252,
          3485,
          3252,
          2275,
          2275,
          2480,
          2261,
          2264,
          2319,
          2579,
          3217
         ],
         "xaxis": "x",
         "y": [
          64,
          72,
          123,
          123,
          123,
          123,
          55,
          95,
          95,
          95,
          95,
          95,
          56,
          56,
          73,
          52,
          52,
          68,
          68,
          106
         ],
         "yaxis": "y"
        },
        {
         "hovertemplate": "<b>OLS trendline</b><br>horsepower = 0.0424721 * curbweight + -38.6681<br>R<sup>2</sup>=0.917351<br><br>fueltype=diesel<br>curbweight=%{x}<br>horsepower=%{y} <b>(trend)</b><extra></extra>",
         "legendgroup": "diesel",
         "marker": {
          "color": "#EF553B",
          "symbol": "circle"
         },
         "mode": "lines",
         "name": "diesel",
         "showlegend": false,
         "type": "scatter",
         "x": [
          2017,
          2261,
          2264,
          2275,
          2275,
          2319,
          2443,
          2480,
          2579,
          2700,
          3197,
          3217,
          3252,
          3252,
          3430,
          3485,
          3495,
          3515,
          3750,
          3770
         ],
         "xaxis": "x",
         "y": [
          46.99811075625776,
          57.361300794217726,
          57.488717065176246,
          57.95591005869083,
          57.95591005869083,
          59.824682032749195,
          65.0912212323682,
          66.66268857419,
          70.8674255158213,
          76.00654844448177,
          97.11517733327729,
          97.96461913966745,
          99.45114230085024,
          99.45114230085024,
          107.01117437772267,
          109.34713934529562,
          109.77186024849068,
          110.62130205488084,
          120.60224327996524,
          121.4516850863554
         ],
         "yaxis": "y"
        }
       ],
       "layout": {
        "legend": {
         "title": {
          "text": "fueltype"
         },
         "tracegroupgap": 0
        },
        "template": {
         "data": {
          "bar": [
           {
            "error_x": {
             "color": "#2a3f5f"
            },
            "error_y": {
             "color": "#2a3f5f"
            },
            "marker": {
             "line": {
              "color": "#E5ECF6",
              "width": 0.5
             },
             "pattern": {
              "fillmode": "overlay",
              "size": 10,
              "solidity": 0.2
             }
            },
            "type": "bar"
           }
          ],
          "barpolar": [
           {
            "marker": {
             "line": {
              "color": "#E5ECF6",
              "width": 0.5
             },
             "pattern": {
              "fillmode": "overlay",
              "size": 10,
              "solidity": 0.2
             }
            },
            "type": "barpolar"
           }
          ],
          "carpet": [
           {
            "aaxis": {
             "endlinecolor": "#2a3f5f",
             "gridcolor": "white",
             "linecolor": "white",
             "minorgridcolor": "white",
             "startlinecolor": "#2a3f5f"
            },
            "baxis": {
             "endlinecolor": "#2a3f5f",
             "gridcolor": "white",
             "linecolor": "white",
             "minorgridcolor": "white",
             "startlinecolor": "#2a3f5f"
            },
            "type": "carpet"
           }
          ],
          "choropleth": [
           {
            "colorbar": {
             "outlinewidth": 0,
             "ticks": ""
            },
            "type": "choropleth"
           }
          ],
          "contour": [
           {
            "colorbar": {
             "outlinewidth": 0,
             "ticks": ""
            },
            "colorscale": [
             [
              0,
              "#0d0887"
             ],
             [
              0.1111111111111111,
              "#46039f"
             ],
             [
              0.2222222222222222,
              "#7201a8"
             ],
             [
              0.3333333333333333,
              "#9c179e"
             ],
             [
              0.4444444444444444,
              "#bd3786"
             ],
             [
              0.5555555555555556,
              "#d8576b"
             ],
             [
              0.6666666666666666,
              "#ed7953"
             ],
             [
              0.7777777777777778,
              "#fb9f3a"
             ],
             [
              0.8888888888888888,
              "#fdca26"
             ],
             [
              1,
              "#f0f921"
             ]
            ],
            "type": "contour"
           }
          ],
          "contourcarpet": [
           {
            "colorbar": {
             "outlinewidth": 0,
             "ticks": ""
            },
            "type": "contourcarpet"
           }
          ],
          "heatmap": [
           {
            "colorbar": {
             "outlinewidth": 0,
             "ticks": ""
            },
            "colorscale": [
             [
              0,
              "#0d0887"
             ],
             [
              0.1111111111111111,
              "#46039f"
             ],
             [
              0.2222222222222222,
              "#7201a8"
             ],
             [
              0.3333333333333333,
              "#9c179e"
             ],
             [
              0.4444444444444444,
              "#bd3786"
             ],
             [
              0.5555555555555556,
              "#d8576b"
             ],
             [
              0.6666666666666666,
              "#ed7953"
             ],
             [
              0.7777777777777778,
              "#fb9f3a"
             ],
             [
              0.8888888888888888,
              "#fdca26"
             ],
             [
              1,
              "#f0f921"
             ]
            ],
            "type": "heatmap"
           }
          ],
          "heatmapgl": [
           {
            "colorbar": {
             "outlinewidth": 0,
             "ticks": ""
            },
            "colorscale": [
             [
              0,
              "#0d0887"
             ],
             [
              0.1111111111111111,
              "#46039f"
             ],
             [
              0.2222222222222222,
              "#7201a8"
             ],
             [
              0.3333333333333333,
              "#9c179e"
             ],
             [
              0.4444444444444444,
              "#bd3786"
             ],
             [
              0.5555555555555556,
              "#d8576b"
             ],
             [
              0.6666666666666666,
              "#ed7953"
             ],
             [
              0.7777777777777778,
              "#fb9f3a"
             ],
             [
              0.8888888888888888,
              "#fdca26"
             ],
             [
              1,
              "#f0f921"
             ]
            ],
            "type": "heatmapgl"
           }
          ],
          "histogram": [
           {
            "marker": {
             "pattern": {
              "fillmode": "overlay",
              "size": 10,
              "solidity": 0.2
             }
            },
            "type": "histogram"
           }
          ],
          "histogram2d": [
           {
            "colorbar": {
             "outlinewidth": 0,
             "ticks": ""
            },
            "colorscale": [
             [
              0,
              "#0d0887"
             ],
             [
              0.1111111111111111,
              "#46039f"
             ],
             [
              0.2222222222222222,
              "#7201a8"
             ],
             [
              0.3333333333333333,
              "#9c179e"
             ],
             [
              0.4444444444444444,
              "#bd3786"
             ],
             [
              0.5555555555555556,
              "#d8576b"
             ],
             [
              0.6666666666666666,
              "#ed7953"
             ],
             [
              0.7777777777777778,
              "#fb9f3a"
             ],
             [
              0.8888888888888888,
              "#fdca26"
             ],
             [
              1,
              "#f0f921"
             ]
            ],
            "type": "histogram2d"
           }
          ],
          "histogram2dcontour": [
           {
            "colorbar": {
             "outlinewidth": 0,
             "ticks": ""
            },
            "colorscale": [
             [
              0,
              "#0d0887"
             ],
             [
              0.1111111111111111,
              "#46039f"
             ],
             [
              0.2222222222222222,
              "#7201a8"
             ],
             [
              0.3333333333333333,
              "#9c179e"
             ],
             [
              0.4444444444444444,
              "#bd3786"
             ],
             [
              0.5555555555555556,
              "#d8576b"
             ],
             [
              0.6666666666666666,
              "#ed7953"
             ],
             [
              0.7777777777777778,
              "#fb9f3a"
             ],
             [
              0.8888888888888888,
              "#fdca26"
             ],
             [
              1,
              "#f0f921"
             ]
            ],
            "type": "histogram2dcontour"
           }
          ],
          "mesh3d": [
           {
            "colorbar": {
             "outlinewidth": 0,
             "ticks": ""
            },
            "type": "mesh3d"
           }
          ],
          "parcoords": [
           {
            "line": {
             "colorbar": {
              "outlinewidth": 0,
              "ticks": ""
             }
            },
            "type": "parcoords"
           }
          ],
          "pie": [
           {
            "automargin": true,
            "type": "pie"
           }
          ],
          "scatter": [
           {
            "fillpattern": {
             "fillmode": "overlay",
             "size": 10,
             "solidity": 0.2
            },
            "type": "scatter"
           }
          ],
          "scatter3d": [
           {
            "line": {
             "colorbar": {
              "outlinewidth": 0,
              "ticks": ""
             }
            },
            "marker": {
             "colorbar": {
              "outlinewidth": 0,
              "ticks": ""
             }
            },
            "type": "scatter3d"
           }
          ],
          "scattercarpet": [
           {
            "marker": {
             "colorbar": {
              "outlinewidth": 0,
              "ticks": ""
             }
            },
            "type": "scattercarpet"
           }
          ],
          "scattergeo": [
           {
            "marker": {
             "colorbar": {
              "outlinewidth": 0,
              "ticks": ""
             }
            },
            "type": "scattergeo"
           }
          ],
          "scattergl": [
           {
            "marker": {
             "colorbar": {
              "outlinewidth": 0,
              "ticks": ""
             }
            },
            "type": "scattergl"
           }
          ],
          "scattermapbox": [
           {
            "marker": {
             "colorbar": {
              "outlinewidth": 0,
              "ticks": ""
             }
            },
            "type": "scattermapbox"
           }
          ],
          "scatterpolar": [
           {
            "marker": {
             "colorbar": {
              "outlinewidth": 0,
              "ticks": ""
             }
            },
            "type": "scatterpolar"
           }
          ],
          "scatterpolargl": [
           {
            "marker": {
             "colorbar": {
              "outlinewidth": 0,
              "ticks": ""
             }
            },
            "type": "scatterpolargl"
           }
          ],
          "scatterternary": [
           {
            "marker": {
             "colorbar": {
              "outlinewidth": 0,
              "ticks": ""
             }
            },
            "type": "scatterternary"
           }
          ],
          "surface": [
           {
            "colorbar": {
             "outlinewidth": 0,
             "ticks": ""
            },
            "colorscale": [
             [
              0,
              "#0d0887"
             ],
             [
              0.1111111111111111,
              "#46039f"
             ],
             [
              0.2222222222222222,
              "#7201a8"
             ],
             [
              0.3333333333333333,
              "#9c179e"
             ],
             [
              0.4444444444444444,
              "#bd3786"
             ],
             [
              0.5555555555555556,
              "#d8576b"
             ],
             [
              0.6666666666666666,
              "#ed7953"
             ],
             [
              0.7777777777777778,
              "#fb9f3a"
             ],
             [
              0.8888888888888888,
              "#fdca26"
             ],
             [
              1,
              "#f0f921"
             ]
            ],
            "type": "surface"
           }
          ],
          "table": [
           {
            "cells": {
             "fill": {
              "color": "#EBF0F8"
             },
             "line": {
              "color": "white"
             }
            },
            "header": {
             "fill": {
              "color": "#C8D4E3"
             },
             "line": {
              "color": "white"
             }
            },
            "type": "table"
           }
          ]
         },
         "layout": {
          "annotationdefaults": {
           "arrowcolor": "#2a3f5f",
           "arrowhead": 0,
           "arrowwidth": 1
          },
          "autotypenumbers": "strict",
          "coloraxis": {
           "colorbar": {
            "outlinewidth": 0,
            "ticks": ""
           }
          },
          "colorscale": {
           "diverging": [
            [
             0,
             "#8e0152"
            ],
            [
             0.1,
             "#c51b7d"
            ],
            [
             0.2,
             "#de77ae"
            ],
            [
             0.3,
             "#f1b6da"
            ],
            [
             0.4,
             "#fde0ef"
            ],
            [
             0.5,
             "#f7f7f7"
            ],
            [
             0.6,
             "#e6f5d0"
            ],
            [
             0.7,
             "#b8e186"
            ],
            [
             0.8,
             "#7fbc41"
            ],
            [
             0.9,
             "#4d9221"
            ],
            [
             1,
             "#276419"
            ]
           ],
           "sequential": [
            [
             0,
             "#0d0887"
            ],
            [
             0.1111111111111111,
             "#46039f"
            ],
            [
             0.2222222222222222,
             "#7201a8"
            ],
            [
             0.3333333333333333,
             "#9c179e"
            ],
            [
             0.4444444444444444,
             "#bd3786"
            ],
            [
             0.5555555555555556,
             "#d8576b"
            ],
            [
             0.6666666666666666,
             "#ed7953"
            ],
            [
             0.7777777777777778,
             "#fb9f3a"
            ],
            [
             0.8888888888888888,
             "#fdca26"
            ],
            [
             1,
             "#f0f921"
            ]
           ],
           "sequentialminus": [
            [
             0,
             "#0d0887"
            ],
            [
             0.1111111111111111,
             "#46039f"
            ],
            [
             0.2222222222222222,
             "#7201a8"
            ],
            [
             0.3333333333333333,
             "#9c179e"
            ],
            [
             0.4444444444444444,
             "#bd3786"
            ],
            [
             0.5555555555555556,
             "#d8576b"
            ],
            [
             0.6666666666666666,
             "#ed7953"
            ],
            [
             0.7777777777777778,
             "#fb9f3a"
            ],
            [
             0.8888888888888888,
             "#fdca26"
            ],
            [
             1,
             "#f0f921"
            ]
           ]
          },
          "colorway": [
           "#636efa",
           "#EF553B",
           "#00cc96",
           "#ab63fa",
           "#FFA15A",
           "#19d3f3",
           "#FF6692",
           "#B6E880",
           "#FF97FF",
           "#FECB52"
          ],
          "font": {
           "color": "#2a3f5f"
          },
          "geo": {
           "bgcolor": "white",
           "lakecolor": "white",
           "landcolor": "#E5ECF6",
           "showlakes": true,
           "showland": true,
           "subunitcolor": "white"
          },
          "hoverlabel": {
           "align": "left"
          },
          "hovermode": "closest",
          "mapbox": {
           "style": "light"
          },
          "paper_bgcolor": "white",
          "plot_bgcolor": "#E5ECF6",
          "polar": {
           "angularaxis": {
            "gridcolor": "white",
            "linecolor": "white",
            "ticks": ""
           },
           "bgcolor": "#E5ECF6",
           "radialaxis": {
            "gridcolor": "white",
            "linecolor": "white",
            "ticks": ""
           }
          },
          "scene": {
           "xaxis": {
            "backgroundcolor": "#E5ECF6",
            "gridcolor": "white",
            "gridwidth": 2,
            "linecolor": "white",
            "showbackground": true,
            "ticks": "",
            "zerolinecolor": "white"
           },
           "yaxis": {
            "backgroundcolor": "#E5ECF6",
            "gridcolor": "white",
            "gridwidth": 2,
            "linecolor": "white",
            "showbackground": true,
            "ticks": "",
            "zerolinecolor": "white"
           },
           "zaxis": {
            "backgroundcolor": "#E5ECF6",
            "gridcolor": "white",
            "gridwidth": 2,
            "linecolor": "white",
            "showbackground": true,
            "ticks": "",
            "zerolinecolor": "white"
           }
          },
          "shapedefaults": {
           "line": {
            "color": "#2a3f5f"
           }
          },
          "ternary": {
           "aaxis": {
            "gridcolor": "white",
            "linecolor": "white",
            "ticks": ""
           },
           "baxis": {
            "gridcolor": "white",
            "linecolor": "white",
            "ticks": ""
           },
           "bgcolor": "#E5ECF6",
           "caxis": {
            "gridcolor": "white",
            "linecolor": "white",
            "ticks": ""
           }
          },
          "title": {
           "x": 0.05
          },
          "xaxis": {
           "automargin": true,
           "gridcolor": "white",
           "linecolor": "white",
           "ticks": "",
           "title": {
            "standoff": 15
           },
           "zerolinecolor": "white",
           "zerolinewidth": 2
          },
          "yaxis": {
           "automargin": true,
           "gridcolor": "white",
           "linecolor": "white",
           "ticks": "",
           "title": {
            "standoff": 15
           },
           "zerolinecolor": "white",
           "zerolinewidth": 2
          }
         }
        },
        "title": {
         "text": "Curb Weight vs Horsepower by Fuel Type"
        },
        "xaxis": {
         "anchor": "y",
         "domain": [
          0,
          1
         ],
         "title": {
          "text": "curbweight"
         }
        },
        "yaxis": {
         "anchor": "x",
         "domain": [
          0,
          1
         ],
         "title": {
          "text": "horsepower"
         }
        }
       }
      }
     },
     "metadata": {},
     "output_type": "display_data"
    }
   ],
   "source": [
    "px.scatter(df, x='curbweight', y='horsepower', color='fueltype', trendline='ols', title='Curb Weight vs Horsepower by Fuel Type').show()"
   ]
  },
  {
   "cell_type": "markdown",
   "id": "ca95a34a",
   "metadata": {},
   "source": [
    "And finally let's look at the relationship between horsepower and price:"
   ]
  },
  {
   "cell_type": "code",
   "execution_count": 19,
   "id": "8b6c4f15",
   "metadata": {},
   "outputs": [
    {
     "data": {
      "application/vnd.plotly.v1+json": {
       "config": {
        "plotlyServerURL": "https://plot.ly"
       },
       "data": [
        {
         "hovertemplate": "fueltype=gas<br>price=%{x}<br>horsepower=%{y}<extra></extra>",
         "legendgroup": "gas",
         "marker": {
          "color": "#636efa",
          "symbol": "circle"
         },
         "mode": "markers",
         "name": "gas",
         "orientation": "v",
         "showlegend": true,
         "type": "scatter",
         "x": [
          13495,
          16500,
          16500,
          13950,
          17450,
          15250,
          17710,
          18920,
          23875,
          17859.167,
          16430,
          16925,
          20970,
          21105,
          24565,
          30760,
          41315,
          36880,
          5151,
          6295,
          6575,
          5572,
          6377,
          7957,
          6229,
          6692,
          7609,
          8558,
          8921,
          12964,
          6479,
          6855,
          5399,
          6529,
          7129,
          7295,
          7295,
          7895,
          9095,
          8845,
          10295,
          12945,
          10345,
          6785,
          8916.5,
          8916.5,
          11048,
          32250,
          35550,
          36000,
          5195,
          6095,
          6795,
          6695,
          7395,
          10945,
          11845,
          13645,
          15645,
          8845,
          8495,
          10595,
          10245,
          11245,
          18280,
          34184,
          35056,
          40960,
          45400,
          16503,
          5389,
          6189,
          6669,
          7689,
          9959,
          8499,
          12629,
          14869,
          14489,
          6989,
          8189,
          9279,
          9279,
          5499,
          6649,
          6849,
          7349,
          7299,
          7799,
          7499,
          7999,
          8249,
          8949,
          9549,
          13499,
          14399,
          13499,
          17199,
          19699,
          18399,
          11900,
          12440,
          15580,
          16695,
          16630,
          18150,
          5572,
          7957,
          6229,
          6692,
          7609,
          8921,
          12764,
          22018,
          32528,
          34028,
          37028,
          31400.5,
          9295,
          9895,
          11850,
          12170,
          15040,
          15510,
          18150,
          18620,
          5118,
          7053,
          7603,
          7126,
          7775,
          9960,
          9233,
          11259,
          7463,
          10198,
          8013,
          11694,
          5348,
          6338,
          6488,
          6918,
          7898,
          8778,
          6938,
          7198,
          7738,
          8358,
          9258,
          8058,
          8238,
          9298,
          9538,
          8449,
          9639,
          9989,
          11199,
          11549,
          17669,
          8948,
          9988,
          10898,
          11248,
          16558,
          15998,
          15690,
          15750,
          7975,
          8195,
          8495,
          9995,
          11595,
          9980,
          13295,
          12290,
          12940,
          13415,
          15985,
          16515,
          18420,
          18950,
          16845,
          19045,
          21485,
          22625
         ],
         "xaxis": "x",
         "y": [
          111,
          111,
          154,
          102,
          115,
          110,
          110,
          110,
          140,
          160,
          101,
          101,
          121,
          121,
          121,
          182,
          182,
          182,
          48,
          70,
          70,
          68,
          68,
          102,
          68,
          68,
          68,
          102,
          88,
          145,
          58,
          76,
          60,
          76,
          76,
          76,
          76,
          86,
          86,
          86,
          86,
          101,
          100,
          78,
          70,
          70,
          90,
          176,
          176,
          262,
          68,
          68,
          68,
          68,
          68,
          101,
          101,
          101,
          135,
          84,
          84,
          84,
          84,
          84,
          120,
          155,
          155,
          184,
          184,
          175,
          68,
          68,
          68,
          102,
          116,
          88,
          145,
          145,
          145,
          88,
          88,
          116,
          116,
          69,
          69,
          69,
          69,
          69,
          69,
          69,
          69,
          69,
          97,
          97,
          152,
          152,
          152,
          160,
          200,
          160,
          97,
          97,
          95,
          95,
          97,
          142,
          68,
          102,
          68,
          68,
          68,
          88,
          145,
          143,
          207,
          207,
          207,
          288,
          90,
          90,
          110,
          110,
          110,
          110,
          160,
          160,
          69,
          73,
          73,
          82,
          82,
          94,
          82,
          111,
          82,
          94,
          82,
          111,
          62,
          62,
          62,
          62,
          62,
          62,
          70,
          70,
          70,
          70,
          70,
          70,
          70,
          112,
          112,
          116,
          116,
          116,
          116,
          116,
          116,
          92,
          92,
          92,
          92,
          161,
          161,
          156,
          156,
          85,
          85,
          85,
          100,
          90,
          90,
          110,
          88,
          114,
          114,
          114,
          114,
          162,
          162,
          114,
          160,
          134,
          114
         ],
         "yaxis": "y"
        },
        {
         "hovertemplate": "<b>OLS trendline</b><br>horsepower = 0.00423052 * price + 51.2473<br>R<sup>2</sup>=0.705371<br><br>fueltype=gas<br>price=%{x}<br>horsepower=%{y} <b>(trend)</b><extra></extra>",
         "legendgroup": "gas",
         "marker": {
          "color": "#636efa",
          "symbol": "circle"
         },
         "mode": "lines",
         "name": "gas",
         "showlegend": false,
         "type": "scatter",
         "x": [
          5118,
          5151,
          5195,
          5348,
          5389,
          5399,
          5499,
          5572,
          5572,
          6095,
          6189,
          6229,
          6229,
          6295,
          6338,
          6377,
          6479,
          6488,
          6529,
          6575,
          6649,
          6669,
          6692,
          6692,
          6695,
          6785,
          6795,
          6849,
          6855,
          6918,
          6938,
          6989,
          7053,
          7126,
          7129,
          7198,
          7295,
          7295,
          7299,
          7349,
          7395,
          7463,
          7499,
          7603,
          7609,
          7609,
          7689,
          7738,
          7775,
          7799,
          7895,
          7898,
          7957,
          7957,
          7975,
          7999,
          8013,
          8058,
          8189,
          8195,
          8238,
          8249,
          8358,
          8449,
          8495,
          8495,
          8499,
          8558,
          8778,
          8845,
          8845,
          8916.5,
          8916.5,
          8921,
          8921,
          8948,
          8949,
          9095,
          9233,
          9258,
          9279,
          9279,
          9295,
          9298,
          9538,
          9549,
          9639,
          9895,
          9959,
          9960,
          9980,
          9988,
          9989,
          9995,
          10198,
          10245,
          10295,
          10345,
          10595,
          10898,
          10945,
          11048,
          11199,
          11245,
          11248,
          11259,
          11549,
          11595,
          11694,
          11845,
          11850,
          11900,
          12170,
          12290,
          12440,
          12629,
          12764,
          12940,
          12945,
          12964,
          13295,
          13415,
          13495,
          13499,
          13499,
          13645,
          13950,
          14399,
          14489,
          14869,
          15040,
          15250,
          15510,
          15580,
          15645,
          15690,
          15750,
          15985,
          15998,
          16430,
          16500,
          16500,
          16503,
          16515,
          16558,
          16630,
          16695,
          16845,
          16925,
          17199,
          17450,
          17669,
          17710,
          17859.167,
          18150,
          18150,
          18280,
          18399,
          18420,
          18620,
          18920,
          18950,
          19045,
          19699,
          20970,
          21105,
          21485,
          22018,
          22625,
          23875,
          24565,
          30760,
          31400.5,
          32250,
          32528,
          34028,
          34184,
          35056,
          35550,
          36000,
          36880,
          37028,
          40960,
          41315,
          45400
         ],
         "xaxis": "x",
         "y": [
          72.89911681091661,
          73.0387240609813,
          73.22486706106754,
          73.87213703864018,
          74.04558847053872,
          74.08789369783105,
          74.51094597075434,
          74.81977412998833,
          74.81977412998833,
          77.03233751737712,
          77.430006653925,
          77.59922756309432,
          77.59922756309432,
          77.87844206322369,
          78.06035454058069,
          78.22534492702077,
          78.65685824540253,
          78.69493294996562,
          78.86838438186417,
          79.06298842740888,
          79.37604710937211,
          79.46065756395677,
          79.55795958672913,
          79.55795958672913,
          79.57065115491682,
          79.95139820054779,
          79.9937034278401,
          80.22215165521868,
          80.24753479159408,
          80.51405772353576,
          80.5986681781204,
          80.81442483731128,
          81.08517829198219,
          81.39400645121619,
          81.40669801940388,
          81.69860408772095,
          82.10896479245653,
          82.10896479245653,
          82.12588688337347,
          82.33741301983511,
          82.53201706537982,
          82.81969261096765,
          82.97199142922004,
          83.41196579306026,
          83.43734892943564,
          83.43734892943564,
          83.77579074777428,
          83.9830863615067,
          84.1396157024883,
          84.2411482479899,
          84.64727842999625,
          84.65996999818395,
          84.9095708392087,
          84.9095708392087,
          84.98572024833487,
          85.08725279383647,
          85.14648011204574,
          85.3368536348612,
          85.89105211239071,
          85.9164352487661,
          86.09834772612312,
          86.14488347614468,
          86.60601045363106,
          86.99098802199126,
          87.18559206753596,
          87.18559206753596,
          87.20251415845289,
          87.45211499947763,
          88.38282999990886,
          88.66627502276746,
          88.66627502276746,
          88.96875739790761,
          88.96875739790761,
          88.98779475018915,
          88.98779475018915,
          89.10201886387844,
          89.10624938660769,
          89.72390570507568,
          90.3077178417098,
          90.41348090994063,
          90.50232188725452,
          90.50232188725452,
          90.57001025092225,
          90.58270181910994,
          91.59802727412583,
          91.6445630241474,
          92.02531006977836,
          93.10832388846197,
          93.37907734313286,
          93.3833078658621,
          93.46791832044676,
          93.50176250228061,
          93.50599302500984,
          93.53137616138525,
          94.39017227541952,
          94.58900684369345,
          94.80053298015511,
          95.01205911661674,
          96.06968979892497,
          97.3515381858825,
          97.55037275415646,
          97.98611659526745,
          98.6249255273816,
          98.81952957292631,
          98.83222114111402,
          98.87875689113557,
          100.10560848261309,
          100.30021252815781,
          100.71903427835187,
          101.35784321046603,
          101.3789958241122,
          101.59052196057384,
          102.73276309746672,
          103.24042582497465,
          103.87500423435958,
          104.67457303018459,
          105.24569359863102,
          105.99026559897601,
          106.01141821262217,
          106.0917981444776,
          107.49210116785366,
          107.99976389536161,
          108.33820571370023,
          108.35512780461717,
          108.35512780461717,
          108.97278412308518,
          110.26309355550119,
          112.16259826092674,
          112.5433453065577,
          114.15094394366619,
          114.874363330365,
          115.76277310350389,
          116.86270901310445,
          117.15884560415074,
          117.43382958155087,
          117.62420310436636,
          117.87803446812032,
          118.87220730949005,
          118.92720410497009,
          120.75478992399866,
          121.05092651504498,
          121.05092651504498,
          121.06361808323265,
          121.11438435598347,
          121.29629683334048,
          121.60089446984523,
          121.87587844724538,
          122.5104568566303,
          122.84889867496892,
          124.00806190277873,
          125.06992310781618,
          125.99640758551817,
          126.16985901741671,
          126.8009134013682,
          128.03128901827918,
          128.03128901827918,
          128.58125697307946,
          129.08468917785817,
          129.17353015517205,
          130.01963470101862,
          131.28879151978848,
          131.41570720166547,
          131.8176068609426,
          134.58436872586088,
          139.96136311471582,
          140.53248368316227,
          142.14008232027075,
          144.39495093495185,
          146.9628782315962,
          152.25103164313728,
          155.17009232630795,
          181.3781806339055,
          184.08783044197912,
          187.68165950046242,
          188.85774481918915,
          195.20352891303844,
          195.86349045879876,
          199.55250627868983,
          201.64238450693085,
          203.54611973508563,
          207.26897973681054,
          207.89509710073702,
          224.5295124720806,
          226.03134804095825,
          243.31303338987448
         ],
         "yaxis": "y"
        },
        {
         "hovertemplate": "fueltype=diesel<br>price=%{x}<br>horsepower=%{y}<extra></extra>",
         "legendgroup": "diesel",
         "marker": {
          "color": "#EF553B",
          "symbol": "circle"
         },
         "mode": "markers",
         "name": "diesel",
         "orientation": "v",
         "showlegend": true,
         "type": "scatter",
         "x": [
          10795,
          18344,
          25552,
          28248,
          28176,
          31600,
          7099,
          13200,
          13860,
          16900,
          17075,
          17950,
          7898,
          7788,
          10698,
          7775,
          7995,
          9495,
          13845,
          22470
         ],
         "xaxis": "x",
         "y": [
          64,
          72,
          123,
          123,
          123,
          123,
          55,
          95,
          95,
          95,
          95,
          95,
          56,
          56,
          73,
          52,
          52,
          68,
          68,
          106
         ],
         "yaxis": "y"
        },
        {
         "hovertemplate": "<b>OLS trendline</b><br>horsepower = 0.00312321 * price + 34.9841<br>R<sup>2</sup>=0.871671<br><br>fueltype=diesel<br>price=%{x}<br>horsepower=%{y} <b>(trend)</b><extra></extra>",
         "legendgroup": "diesel",
         "marker": {
          "color": "#EF553B",
          "symbol": "circle"
         },
         "mode": "lines",
         "name": "diesel",
         "showlegend": false,
         "type": "scatter",
         "x": [
          7099,
          7775,
          7788,
          7898,
          7995,
          9495,
          10698,
          10795,
          13200,
          13845,
          13860,
          16900,
          17075,
          17950,
          18344,
          22470,
          25552,
          28176,
          28248,
          31600
         ],
         "xaxis": "x",
         "y": [
          57.15577958203352,
          59.26707106948314,
          59.307672828857164,
          59.651226177406656,
          59.95417776658212,
          64.63899615589341,
          68.39622050412106,
          68.69917209329654,
          76.2104975774923,
          78.22496948489615,
          78.27181766878928,
          87.76638293779348,
          88.31294508321315,
          91.04575581031139,
          92.27630144057049,
          105.16267522343608,
          114.78841540734102,
          122.98372437637623,
          123.20859565906318,
          133.67760315304415
         ],
         "yaxis": "y"
        }
       ],
       "layout": {
        "legend": {
         "title": {
          "text": "fueltype"
         },
         "tracegroupgap": 0
        },
        "template": {
         "data": {
          "bar": [
           {
            "error_x": {
             "color": "#2a3f5f"
            },
            "error_y": {
             "color": "#2a3f5f"
            },
            "marker": {
             "line": {
              "color": "#E5ECF6",
              "width": 0.5
             },
             "pattern": {
              "fillmode": "overlay",
              "size": 10,
              "solidity": 0.2
             }
            },
            "type": "bar"
           }
          ],
          "barpolar": [
           {
            "marker": {
             "line": {
              "color": "#E5ECF6",
              "width": 0.5
             },
             "pattern": {
              "fillmode": "overlay",
              "size": 10,
              "solidity": 0.2
             }
            },
            "type": "barpolar"
           }
          ],
          "carpet": [
           {
            "aaxis": {
             "endlinecolor": "#2a3f5f",
             "gridcolor": "white",
             "linecolor": "white",
             "minorgridcolor": "white",
             "startlinecolor": "#2a3f5f"
            },
            "baxis": {
             "endlinecolor": "#2a3f5f",
             "gridcolor": "white",
             "linecolor": "white",
             "minorgridcolor": "white",
             "startlinecolor": "#2a3f5f"
            },
            "type": "carpet"
           }
          ],
          "choropleth": [
           {
            "colorbar": {
             "outlinewidth": 0,
             "ticks": ""
            },
            "type": "choropleth"
           }
          ],
          "contour": [
           {
            "colorbar": {
             "outlinewidth": 0,
             "ticks": ""
            },
            "colorscale": [
             [
              0,
              "#0d0887"
             ],
             [
              0.1111111111111111,
              "#46039f"
             ],
             [
              0.2222222222222222,
              "#7201a8"
             ],
             [
              0.3333333333333333,
              "#9c179e"
             ],
             [
              0.4444444444444444,
              "#bd3786"
             ],
             [
              0.5555555555555556,
              "#d8576b"
             ],
             [
              0.6666666666666666,
              "#ed7953"
             ],
             [
              0.7777777777777778,
              "#fb9f3a"
             ],
             [
              0.8888888888888888,
              "#fdca26"
             ],
             [
              1,
              "#f0f921"
             ]
            ],
            "type": "contour"
           }
          ],
          "contourcarpet": [
           {
            "colorbar": {
             "outlinewidth": 0,
             "ticks": ""
            },
            "type": "contourcarpet"
           }
          ],
          "heatmap": [
           {
            "colorbar": {
             "outlinewidth": 0,
             "ticks": ""
            },
            "colorscale": [
             [
              0,
              "#0d0887"
             ],
             [
              0.1111111111111111,
              "#46039f"
             ],
             [
              0.2222222222222222,
              "#7201a8"
             ],
             [
              0.3333333333333333,
              "#9c179e"
             ],
             [
              0.4444444444444444,
              "#bd3786"
             ],
             [
              0.5555555555555556,
              "#d8576b"
             ],
             [
              0.6666666666666666,
              "#ed7953"
             ],
             [
              0.7777777777777778,
              "#fb9f3a"
             ],
             [
              0.8888888888888888,
              "#fdca26"
             ],
             [
              1,
              "#f0f921"
             ]
            ],
            "type": "heatmap"
           }
          ],
          "heatmapgl": [
           {
            "colorbar": {
             "outlinewidth": 0,
             "ticks": ""
            },
            "colorscale": [
             [
              0,
              "#0d0887"
             ],
             [
              0.1111111111111111,
              "#46039f"
             ],
             [
              0.2222222222222222,
              "#7201a8"
             ],
             [
              0.3333333333333333,
              "#9c179e"
             ],
             [
              0.4444444444444444,
              "#bd3786"
             ],
             [
              0.5555555555555556,
              "#d8576b"
             ],
             [
              0.6666666666666666,
              "#ed7953"
             ],
             [
              0.7777777777777778,
              "#fb9f3a"
             ],
             [
              0.8888888888888888,
              "#fdca26"
             ],
             [
              1,
              "#f0f921"
             ]
            ],
            "type": "heatmapgl"
           }
          ],
          "histogram": [
           {
            "marker": {
             "pattern": {
              "fillmode": "overlay",
              "size": 10,
              "solidity": 0.2
             }
            },
            "type": "histogram"
           }
          ],
          "histogram2d": [
           {
            "colorbar": {
             "outlinewidth": 0,
             "ticks": ""
            },
            "colorscale": [
             [
              0,
              "#0d0887"
             ],
             [
              0.1111111111111111,
              "#46039f"
             ],
             [
              0.2222222222222222,
              "#7201a8"
             ],
             [
              0.3333333333333333,
              "#9c179e"
             ],
             [
              0.4444444444444444,
              "#bd3786"
             ],
             [
              0.5555555555555556,
              "#d8576b"
             ],
             [
              0.6666666666666666,
              "#ed7953"
             ],
             [
              0.7777777777777778,
              "#fb9f3a"
             ],
             [
              0.8888888888888888,
              "#fdca26"
             ],
             [
              1,
              "#f0f921"
             ]
            ],
            "type": "histogram2d"
           }
          ],
          "histogram2dcontour": [
           {
            "colorbar": {
             "outlinewidth": 0,
             "ticks": ""
            },
            "colorscale": [
             [
              0,
              "#0d0887"
             ],
             [
              0.1111111111111111,
              "#46039f"
             ],
             [
              0.2222222222222222,
              "#7201a8"
             ],
             [
              0.3333333333333333,
              "#9c179e"
             ],
             [
              0.4444444444444444,
              "#bd3786"
             ],
             [
              0.5555555555555556,
              "#d8576b"
             ],
             [
              0.6666666666666666,
              "#ed7953"
             ],
             [
              0.7777777777777778,
              "#fb9f3a"
             ],
             [
              0.8888888888888888,
              "#fdca26"
             ],
             [
              1,
              "#f0f921"
             ]
            ],
            "type": "histogram2dcontour"
           }
          ],
          "mesh3d": [
           {
            "colorbar": {
             "outlinewidth": 0,
             "ticks": ""
            },
            "type": "mesh3d"
           }
          ],
          "parcoords": [
           {
            "line": {
             "colorbar": {
              "outlinewidth": 0,
              "ticks": ""
             }
            },
            "type": "parcoords"
           }
          ],
          "pie": [
           {
            "automargin": true,
            "type": "pie"
           }
          ],
          "scatter": [
           {
            "fillpattern": {
             "fillmode": "overlay",
             "size": 10,
             "solidity": 0.2
            },
            "type": "scatter"
           }
          ],
          "scatter3d": [
           {
            "line": {
             "colorbar": {
              "outlinewidth": 0,
              "ticks": ""
             }
            },
            "marker": {
             "colorbar": {
              "outlinewidth": 0,
              "ticks": ""
             }
            },
            "type": "scatter3d"
           }
          ],
          "scattercarpet": [
           {
            "marker": {
             "colorbar": {
              "outlinewidth": 0,
              "ticks": ""
             }
            },
            "type": "scattercarpet"
           }
          ],
          "scattergeo": [
           {
            "marker": {
             "colorbar": {
              "outlinewidth": 0,
              "ticks": ""
             }
            },
            "type": "scattergeo"
           }
          ],
          "scattergl": [
           {
            "marker": {
             "colorbar": {
              "outlinewidth": 0,
              "ticks": ""
             }
            },
            "type": "scattergl"
           }
          ],
          "scattermapbox": [
           {
            "marker": {
             "colorbar": {
              "outlinewidth": 0,
              "ticks": ""
             }
            },
            "type": "scattermapbox"
           }
          ],
          "scatterpolar": [
           {
            "marker": {
             "colorbar": {
              "outlinewidth": 0,
              "ticks": ""
             }
            },
            "type": "scatterpolar"
           }
          ],
          "scatterpolargl": [
           {
            "marker": {
             "colorbar": {
              "outlinewidth": 0,
              "ticks": ""
             }
            },
            "type": "scatterpolargl"
           }
          ],
          "scatterternary": [
           {
            "marker": {
             "colorbar": {
              "outlinewidth": 0,
              "ticks": ""
             }
            },
            "type": "scatterternary"
           }
          ],
          "surface": [
           {
            "colorbar": {
             "outlinewidth": 0,
             "ticks": ""
            },
            "colorscale": [
             [
              0,
              "#0d0887"
             ],
             [
              0.1111111111111111,
              "#46039f"
             ],
             [
              0.2222222222222222,
              "#7201a8"
             ],
             [
              0.3333333333333333,
              "#9c179e"
             ],
             [
              0.4444444444444444,
              "#bd3786"
             ],
             [
              0.5555555555555556,
              "#d8576b"
             ],
             [
              0.6666666666666666,
              "#ed7953"
             ],
             [
              0.7777777777777778,
              "#fb9f3a"
             ],
             [
              0.8888888888888888,
              "#fdca26"
             ],
             [
              1,
              "#f0f921"
             ]
            ],
            "type": "surface"
           }
          ],
          "table": [
           {
            "cells": {
             "fill": {
              "color": "#EBF0F8"
             },
             "line": {
              "color": "white"
             }
            },
            "header": {
             "fill": {
              "color": "#C8D4E3"
             },
             "line": {
              "color": "white"
             }
            },
            "type": "table"
           }
          ]
         },
         "layout": {
          "annotationdefaults": {
           "arrowcolor": "#2a3f5f",
           "arrowhead": 0,
           "arrowwidth": 1
          },
          "autotypenumbers": "strict",
          "coloraxis": {
           "colorbar": {
            "outlinewidth": 0,
            "ticks": ""
           }
          },
          "colorscale": {
           "diverging": [
            [
             0,
             "#8e0152"
            ],
            [
             0.1,
             "#c51b7d"
            ],
            [
             0.2,
             "#de77ae"
            ],
            [
             0.3,
             "#f1b6da"
            ],
            [
             0.4,
             "#fde0ef"
            ],
            [
             0.5,
             "#f7f7f7"
            ],
            [
             0.6,
             "#e6f5d0"
            ],
            [
             0.7,
             "#b8e186"
            ],
            [
             0.8,
             "#7fbc41"
            ],
            [
             0.9,
             "#4d9221"
            ],
            [
             1,
             "#276419"
            ]
           ],
           "sequential": [
            [
             0,
             "#0d0887"
            ],
            [
             0.1111111111111111,
             "#46039f"
            ],
            [
             0.2222222222222222,
             "#7201a8"
            ],
            [
             0.3333333333333333,
             "#9c179e"
            ],
            [
             0.4444444444444444,
             "#bd3786"
            ],
            [
             0.5555555555555556,
             "#d8576b"
            ],
            [
             0.6666666666666666,
             "#ed7953"
            ],
            [
             0.7777777777777778,
             "#fb9f3a"
            ],
            [
             0.8888888888888888,
             "#fdca26"
            ],
            [
             1,
             "#f0f921"
            ]
           ],
           "sequentialminus": [
            [
             0,
             "#0d0887"
            ],
            [
             0.1111111111111111,
             "#46039f"
            ],
            [
             0.2222222222222222,
             "#7201a8"
            ],
            [
             0.3333333333333333,
             "#9c179e"
            ],
            [
             0.4444444444444444,
             "#bd3786"
            ],
            [
             0.5555555555555556,
             "#d8576b"
            ],
            [
             0.6666666666666666,
             "#ed7953"
            ],
            [
             0.7777777777777778,
             "#fb9f3a"
            ],
            [
             0.8888888888888888,
             "#fdca26"
            ],
            [
             1,
             "#f0f921"
            ]
           ]
          },
          "colorway": [
           "#636efa",
           "#EF553B",
           "#00cc96",
           "#ab63fa",
           "#FFA15A",
           "#19d3f3",
           "#FF6692",
           "#B6E880",
           "#FF97FF",
           "#FECB52"
          ],
          "font": {
           "color": "#2a3f5f"
          },
          "geo": {
           "bgcolor": "white",
           "lakecolor": "white",
           "landcolor": "#E5ECF6",
           "showlakes": true,
           "showland": true,
           "subunitcolor": "white"
          },
          "hoverlabel": {
           "align": "left"
          },
          "hovermode": "closest",
          "mapbox": {
           "style": "light"
          },
          "paper_bgcolor": "white",
          "plot_bgcolor": "#E5ECF6",
          "polar": {
           "angularaxis": {
            "gridcolor": "white",
            "linecolor": "white",
            "ticks": ""
           },
           "bgcolor": "#E5ECF6",
           "radialaxis": {
            "gridcolor": "white",
            "linecolor": "white",
            "ticks": ""
           }
          },
          "scene": {
           "xaxis": {
            "backgroundcolor": "#E5ECF6",
            "gridcolor": "white",
            "gridwidth": 2,
            "linecolor": "white",
            "showbackground": true,
            "ticks": "",
            "zerolinecolor": "white"
           },
           "yaxis": {
            "backgroundcolor": "#E5ECF6",
            "gridcolor": "white",
            "gridwidth": 2,
            "linecolor": "white",
            "showbackground": true,
            "ticks": "",
            "zerolinecolor": "white"
           },
           "zaxis": {
            "backgroundcolor": "#E5ECF6",
            "gridcolor": "white",
            "gridwidth": 2,
            "linecolor": "white",
            "showbackground": true,
            "ticks": "",
            "zerolinecolor": "white"
           }
          },
          "shapedefaults": {
           "line": {
            "color": "#2a3f5f"
           }
          },
          "ternary": {
           "aaxis": {
            "gridcolor": "white",
            "linecolor": "white",
            "ticks": ""
           },
           "baxis": {
            "gridcolor": "white",
            "linecolor": "white",
            "ticks": ""
           },
           "bgcolor": "#E5ECF6",
           "caxis": {
            "gridcolor": "white",
            "linecolor": "white",
            "ticks": ""
           }
          },
          "title": {
           "x": 0.05
          },
          "xaxis": {
           "automargin": true,
           "gridcolor": "white",
           "linecolor": "white",
           "ticks": "",
           "title": {
            "standoff": 15
           },
           "zerolinecolor": "white",
           "zerolinewidth": 2
          },
          "yaxis": {
           "automargin": true,
           "gridcolor": "white",
           "linecolor": "white",
           "ticks": "",
           "title": {
            "standoff": 15
           },
           "zerolinecolor": "white",
           "zerolinewidth": 2
          }
         }
        },
        "title": {
         "text": "Price vs Horsepower by Fuel Type"
        },
        "xaxis": {
         "anchor": "y",
         "domain": [
          0,
          1
         ],
         "title": {
          "text": "price"
         }
        },
        "yaxis": {
         "anchor": "x",
         "domain": [
          0,
          1
         ],
         "title": {
          "text": "horsepower"
         }
        }
       }
      }
     },
     "metadata": {},
     "output_type": "display_data"
    }
   ],
   "source": [
    "px.scatter(df, x='price', y='horsepower', color='fueltype', trendline='ols', title='Price vs Horsepower by Fuel Type').show()"
   ]
  },
  {
   "cell_type": "markdown",
   "id": "1caef5e0",
   "metadata": {},
   "source": [
    "#### Horse power and categorical variables\n",
    "\n"
   ]
  },
  {
   "cell_type": "markdown",
   "id": "41b11f5d",
   "metadata": {},
   "source": [
    "#### Car dimensions and price\n",
    "\n",
    "Since making a bigger car require more materials it is expected that larger cars will be more expensive. This can be summarized nicely in a 3D plot:"
   ]
  },
  {
   "cell_type": "code",
   "execution_count": 20,
   "id": "a67321d5",
   "metadata": {},
   "outputs": [
    {
     "data": {
      "application/vnd.plotly.v1+json": {
       "config": {
        "plotlyServerURL": "https://plot.ly"
       },
       "data": [
        {
         "hovertemplate": "carlength=%{x}<br>carwidth=%{y}<br>carheight=%{z}<br>price=%{marker.color}<extra></extra>",
         "legendgroup": "",
         "marker": {
          "color": [
           13495,
           16500,
           16500,
           13950,
           17450,
           15250,
           17710,
           18920,
           23875,
           17859.167,
           16430,
           16925,
           20970,
           21105,
           24565,
           30760,
           41315,
           36880,
           5151,
           6295,
           6575,
           5572,
           6377,
           7957,
           6229,
           6692,
           7609,
           8558,
           8921,
           12964,
           6479,
           6855,
           5399,
           6529,
           7129,
           7295,
           7295,
           7895,
           9095,
           8845,
           10295,
           12945,
           10345,
           6785,
           8916.5,
           8916.5,
           11048,
           32250,
           35550,
           36000,
           5195,
           6095,
           6795,
           6695,
           7395,
           10945,
           11845,
           13645,
           15645,
           8845,
           8495,
           10595,
           10245,
           10795,
           11245,
           18280,
           18344,
           25552,
           28248,
           28176,
           31600,
           34184,
           35056,
           40960,
           45400,
           16503,
           5389,
           6189,
           6669,
           7689,
           9959,
           8499,
           12629,
           14869,
           14489,
           6989,
           8189,
           9279,
           9279,
           5499,
           7099,
           6649,
           6849,
           7349,
           7299,
           7799,
           7499,
           7999,
           8249,
           8949,
           9549,
           13499,
           14399,
           13499,
           17199,
           19699,
           18399,
           11900,
           13200,
           12440,
           13860,
           15580,
           16900,
           16695,
           17075,
           16630,
           17950,
           18150,
           5572,
           7957,
           6229,
           6692,
           7609,
           8921,
           12764,
           22018,
           32528,
           34028,
           37028,
           31400.5,
           9295,
           9895,
           11850,
           12170,
           15040,
           15510,
           18150,
           18620,
           5118,
           7053,
           7603,
           7126,
           7775,
           9960,
           9233,
           11259,
           7463,
           10198,
           8013,
           11694,
           5348,
           6338,
           6488,
           6918,
           7898,
           8778,
           6938,
           7198,
           7898,
           7788,
           7738,
           8358,
           9258,
           8058,
           8238,
           9298,
           9538,
           8449,
           9639,
           9989,
           11199,
           11549,
           17669,
           8948,
           10698,
           9988,
           10898,
           11248,
           16558,
           15998,
           15690,
           15750,
           7775,
           7975,
           7995,
           8195,
           8495,
           9495,
           9995,
           11595,
           9980,
           13295,
           13845,
           12290,
           12940,
           13415,
           15985,
           16515,
           18420,
           18950,
           16845,
           19045,
           21485,
           22470,
           22625
          ],
          "coloraxis": "coloraxis",
          "symbol": "circle"
         },
         "mode": "markers",
         "name": "",
         "scene": "scene",
         "showlegend": false,
         "type": "scatter3d",
         "x": [
          168.8,
          168.8,
          171.2,
          176.6,
          176.6,
          177.3,
          192.7,
          192.7,
          192.7,
          178.2,
          176.8,
          176.8,
          176.8,
          176.8,
          189,
          189,
          193.8,
          197,
          141.1,
          155.9,
          158.8,
          157.3,
          157.3,
          157.3,
          157.3,
          157.3,
          157.3,
          157.3,
          174.6,
          173.2,
          144.6,
          144.6,
          150,
          150,
          150,
          163.4,
          157.1,
          167.5,
          167.5,
          175.4,
          175.4,
          175.4,
          169.1,
          170.7,
          155.9,
          155.9,
          172.6,
          199.6,
          199.6,
          191.7,
          159.1,
          159.1,
          159.1,
          166.8,
          166.8,
          169,
          169,
          169,
          169,
          177.8,
          177.8,
          177.8,
          177.8,
          177.8,
          177.8,
          175,
          175,
          190.9,
          190.9,
          187.5,
          202.6,
          202.6,
          180.3,
          208.1,
          199.2,
          178.4,
          157.3,
          157.3,
          157.3,
          157.3,
          173,
          173,
          173.2,
          173.2,
          173.2,
          172.4,
          172.4,
          172.4,
          172.4,
          165.3,
          165.3,
          165.3,
          165.3,
          170.2,
          165.3,
          165.6,
          165.3,
          170.2,
          162.4,
          173.4,
          173.4,
          181.7,
          184.6,
          184.6,
          170.7,
          170.7,
          178.5,
          186.7,
          186.7,
          198.9,
          198.9,
          186.7,
          186.7,
          198.9,
          198.9,
          186.7,
          186.7,
          186.7,
          157.3,
          157.3,
          157.3,
          167.3,
          167.3,
          174.6,
          173.2,
          168.9,
          168.9,
          168.9,
          168.9,
          175.7,
          181.5,
          176.8,
          186.6,
          186.6,
          186.6,
          186.6,
          186.6,
          186.6,
          156.9,
          157.9,
          157.3,
          172,
          172,
          172,
          172,
          172,
          173.5,
          173.5,
          173.6,
          173.6,
          158.7,
          158.7,
          158.7,
          169.7,
          169.7,
          169.7,
          166.3,
          166.3,
          166.3,
          166.3,
          166.3,
          166.3,
          166.3,
          168.7,
          168.7,
          168.7,
          168.7,
          176.2,
          176.2,
          176.2,
          176.2,
          176.2,
          176.2,
          175.6,
          175.6,
          175.6,
          175.6,
          175.6,
          183.5,
          183.5,
          187.8,
          187.8,
          171.7,
          171.7,
          171.7,
          171.7,
          171.7,
          171.7,
          171.7,
          159.3,
          165.7,
          180.2,
          180.2,
          183.1,
          188.8,
          188.8,
          188.8,
          188.8,
          188.8,
          188.8,
          188.8,
          188.8,
          188.8,
          188.8,
          188.8
         ],
         "y": [
          64.1,
          64.1,
          65.5,
          66.2,
          66.4,
          66.3,
          71.4,
          71.4,
          71.4,
          67.9,
          64.8,
          64.8,
          64.8,
          64.8,
          66.9,
          66.9,
          67.9,
          70.9,
          60.3,
          63.6,
          63.6,
          63.8,
          63.8,
          63.8,
          63.8,
          63.8,
          63.8,
          63.8,
          64.6,
          66.3,
          63.9,
          63.9,
          64,
          64,
          64,
          64,
          63.9,
          65.2,
          65.2,
          65.2,
          62.5,
          65.2,
          66,
          61.8,
          63.6,
          63.6,
          65.2,
          69.6,
          69.6,
          70.6,
          64.2,
          64.2,
          64.2,
          64.2,
          64.2,
          65.7,
          65.7,
          65.7,
          65.7,
          66.5,
          66.5,
          66.5,
          66.5,
          66.5,
          66.5,
          66.1,
          66.1,
          70.3,
          70.3,
          70.3,
          71.7,
          71.7,
          70.5,
          71.7,
          72,
          68,
          64.4,
          64.4,
          64.4,
          63.8,
          65.4,
          65.4,
          66.3,
          66.3,
          66.3,
          65.4,
          65.4,
          65.4,
          65.4,
          63.8,
          63.8,
          63.8,
          63.8,
          63.8,
          63.8,
          63.8,
          63.8,
          63.8,
          63.8,
          65.2,
          65.2,
          66.5,
          66.5,
          66.5,
          67.9,
          67.9,
          67.9,
          68.4,
          68.4,
          68.4,
          68.4,
          68.4,
          68.4,
          68.4,
          68.4,
          68.4,
          68.4,
          68.3,
          63.8,
          63.8,
          63.8,
          63.8,
          63.8,
          64.6,
          66.3,
          68.3,
          65,
          65,
          65,
          72.3,
          66.5,
          66.6,
          66.5,
          66.5,
          66.5,
          66.5,
          66.5,
          66.5,
          63.4,
          63.6,
          63.8,
          65.4,
          65.4,
          65.4,
          65.4,
          65.4,
          65.4,
          65.4,
          65.4,
          65.4,
          63.6,
          63.6,
          63.6,
          63.6,
          63.6,
          63.6,
          64.4,
          64.4,
          64.4,
          64.4,
          64.4,
          64.4,
          64.4,
          64,
          64,
          64,
          64,
          65.6,
          65.6,
          65.6,
          65.6,
          65.6,
          65.6,
          66.5,
          66.5,
          66.5,
          66.5,
          66.5,
          67.7,
          67.7,
          66.5,
          66.5,
          65.5,
          65.5,
          65.5,
          65.5,
          65.5,
          65.5,
          65.5,
          64.2,
          64,
          66.9,
          66.9,
          66.9,
          67.2,
          67.2,
          67.2,
          67.2,
          67.2,
          67.2,
          68.9,
          68.8,
          68.9,
          68.9,
          68.9
         ],
         "z": [
          48.8,
          48.8,
          52.4,
          54.3,
          54.3,
          53.1,
          55.7,
          55.7,
          55.9,
          52,
          54.3,
          54.3,
          54.3,
          54.3,
          55.7,
          55.7,
          53.7,
          56.3,
          53.2,
          52,
          52,
          50.8,
          50.8,
          50.8,
          50.6,
          50.6,
          50.6,
          50.6,
          59.8,
          50.2,
          50.8,
          50.8,
          52.6,
          52.6,
          52.6,
          54.5,
          58.3,
          53.3,
          53.3,
          54.1,
          54.1,
          54.1,
          51,
          53.5,
          52,
          52,
          51.4,
          52.8,
          52.8,
          47.8,
          54.1,
          54.1,
          54.1,
          54.1,
          54.1,
          49.6,
          49.6,
          49.6,
          49.6,
          53.7,
          55.5,
          53.7,
          55.5,
          55.5,
          55.5,
          54.4,
          54.4,
          56.5,
          58.7,
          54.9,
          56.3,
          56.5,
          50.8,
          56.7,
          55.4,
          54.8,
          50.8,
          50.8,
          50.8,
          50.8,
          49.4,
          49.4,
          50.2,
          50.2,
          50.2,
          51.6,
          51.6,
          51.6,
          51.6,
          54.5,
          54.5,
          54.5,
          54.5,
          53.5,
          54.5,
          53.3,
          54.5,
          53.5,
          53.3,
          54.7,
          54.7,
          55.1,
          56.1,
          55.1,
          49.7,
          49.7,
          49.7,
          56.7,
          56.7,
          58.7,
          58.7,
          56.7,
          56.7,
          56.7,
          58.7,
          56.7,
          56.7,
          56,
          50.8,
          50.8,
          50.6,
          50.8,
          50.8,
          59.8,
          50.2,
          50.2,
          51.6,
          51.6,
          51.6,
          50.5,
          55.2,
          50.5,
          56.1,
          56.1,
          56.1,
          56.1,
          56.1,
          56.1,
          53.7,
          53.7,
          55.7,
          52.5,
          52.5,
          52.5,
          54.3,
          54.3,
          53,
          53,
          54.9,
          54.9,
          54.5,
          54.5,
          54.5,
          59.1,
          59.1,
          59.1,
          53,
          52.8,
          53,
          52.8,
          53,
          52.8,
          52.8,
          52.6,
          52.6,
          52.6,
          52.6,
          52,
          52,
          52,
          52,
          52,
          53,
          54.9,
          54.9,
          53.9,
          54.9,
          53.9,
          52,
          52,
          54.1,
          54.1,
          55.7,
          55.7,
          55.7,
          55.7,
          55.7,
          55.7,
          55.7,
          55.6,
          51.4,
          55.1,
          55.1,
          55.1,
          56.2,
          57.5,
          56.2,
          57.5,
          56.2,
          57.5,
          55.5,
          55.5,
          55.5,
          55.5,
          55.5
         ]
        }
       ],
       "layout": {
        "coloraxis": {
         "colorbar": {
          "title": {
           "text": "price"
          }
         },
         "colorscale": [
          [
           0,
           "#0d0887"
          ],
          [
           0.1111111111111111,
           "#46039f"
          ],
          [
           0.2222222222222222,
           "#7201a8"
          ],
          [
           0.3333333333333333,
           "#9c179e"
          ],
          [
           0.4444444444444444,
           "#bd3786"
          ],
          [
           0.5555555555555556,
           "#d8576b"
          ],
          [
           0.6666666666666666,
           "#ed7953"
          ],
          [
           0.7777777777777778,
           "#fb9f3a"
          ],
          [
           0.8888888888888888,
           "#fdca26"
          ],
          [
           1,
           "#f0f921"
          ]
         ]
        },
        "legend": {
         "tracegroupgap": 0
        },
        "scene": {
         "domain": {
          "x": [
           0,
           1
          ],
          "y": [
           0,
           1
          ]
         },
         "xaxis": {
          "title": {
           "text": "carlength"
          }
         },
         "yaxis": {
          "title": {
           "text": "carwidth"
          }
         },
         "zaxis": {
          "title": {
           "text": "carheight"
          }
         }
        },
        "template": {
         "data": {
          "bar": [
           {
            "error_x": {
             "color": "#2a3f5f"
            },
            "error_y": {
             "color": "#2a3f5f"
            },
            "marker": {
             "line": {
              "color": "#E5ECF6",
              "width": 0.5
             },
             "pattern": {
              "fillmode": "overlay",
              "size": 10,
              "solidity": 0.2
             }
            },
            "type": "bar"
           }
          ],
          "barpolar": [
           {
            "marker": {
             "line": {
              "color": "#E5ECF6",
              "width": 0.5
             },
             "pattern": {
              "fillmode": "overlay",
              "size": 10,
              "solidity": 0.2
             }
            },
            "type": "barpolar"
           }
          ],
          "carpet": [
           {
            "aaxis": {
             "endlinecolor": "#2a3f5f",
             "gridcolor": "white",
             "linecolor": "white",
             "minorgridcolor": "white",
             "startlinecolor": "#2a3f5f"
            },
            "baxis": {
             "endlinecolor": "#2a3f5f",
             "gridcolor": "white",
             "linecolor": "white",
             "minorgridcolor": "white",
             "startlinecolor": "#2a3f5f"
            },
            "type": "carpet"
           }
          ],
          "choropleth": [
           {
            "colorbar": {
             "outlinewidth": 0,
             "ticks": ""
            },
            "type": "choropleth"
           }
          ],
          "contour": [
           {
            "colorbar": {
             "outlinewidth": 0,
             "ticks": ""
            },
            "colorscale": [
             [
              0,
              "#0d0887"
             ],
             [
              0.1111111111111111,
              "#46039f"
             ],
             [
              0.2222222222222222,
              "#7201a8"
             ],
             [
              0.3333333333333333,
              "#9c179e"
             ],
             [
              0.4444444444444444,
              "#bd3786"
             ],
             [
              0.5555555555555556,
              "#d8576b"
             ],
             [
              0.6666666666666666,
              "#ed7953"
             ],
             [
              0.7777777777777778,
              "#fb9f3a"
             ],
             [
              0.8888888888888888,
              "#fdca26"
             ],
             [
              1,
              "#f0f921"
             ]
            ],
            "type": "contour"
           }
          ],
          "contourcarpet": [
           {
            "colorbar": {
             "outlinewidth": 0,
             "ticks": ""
            },
            "type": "contourcarpet"
           }
          ],
          "heatmap": [
           {
            "colorbar": {
             "outlinewidth": 0,
             "ticks": ""
            },
            "colorscale": [
             [
              0,
              "#0d0887"
             ],
             [
              0.1111111111111111,
              "#46039f"
             ],
             [
              0.2222222222222222,
              "#7201a8"
             ],
             [
              0.3333333333333333,
              "#9c179e"
             ],
             [
              0.4444444444444444,
              "#bd3786"
             ],
             [
              0.5555555555555556,
              "#d8576b"
             ],
             [
              0.6666666666666666,
              "#ed7953"
             ],
             [
              0.7777777777777778,
              "#fb9f3a"
             ],
             [
              0.8888888888888888,
              "#fdca26"
             ],
             [
              1,
              "#f0f921"
             ]
            ],
            "type": "heatmap"
           }
          ],
          "heatmapgl": [
           {
            "colorbar": {
             "outlinewidth": 0,
             "ticks": ""
            },
            "colorscale": [
             [
              0,
              "#0d0887"
             ],
             [
              0.1111111111111111,
              "#46039f"
             ],
             [
              0.2222222222222222,
              "#7201a8"
             ],
             [
              0.3333333333333333,
              "#9c179e"
             ],
             [
              0.4444444444444444,
              "#bd3786"
             ],
             [
              0.5555555555555556,
              "#d8576b"
             ],
             [
              0.6666666666666666,
              "#ed7953"
             ],
             [
              0.7777777777777778,
              "#fb9f3a"
             ],
             [
              0.8888888888888888,
              "#fdca26"
             ],
             [
              1,
              "#f0f921"
             ]
            ],
            "type": "heatmapgl"
           }
          ],
          "histogram": [
           {
            "marker": {
             "pattern": {
              "fillmode": "overlay",
              "size": 10,
              "solidity": 0.2
             }
            },
            "type": "histogram"
           }
          ],
          "histogram2d": [
           {
            "colorbar": {
             "outlinewidth": 0,
             "ticks": ""
            },
            "colorscale": [
             [
              0,
              "#0d0887"
             ],
             [
              0.1111111111111111,
              "#46039f"
             ],
             [
              0.2222222222222222,
              "#7201a8"
             ],
             [
              0.3333333333333333,
              "#9c179e"
             ],
             [
              0.4444444444444444,
              "#bd3786"
             ],
             [
              0.5555555555555556,
              "#d8576b"
             ],
             [
              0.6666666666666666,
              "#ed7953"
             ],
             [
              0.7777777777777778,
              "#fb9f3a"
             ],
             [
              0.8888888888888888,
              "#fdca26"
             ],
             [
              1,
              "#f0f921"
             ]
            ],
            "type": "histogram2d"
           }
          ],
          "histogram2dcontour": [
           {
            "colorbar": {
             "outlinewidth": 0,
             "ticks": ""
            },
            "colorscale": [
             [
              0,
              "#0d0887"
             ],
             [
              0.1111111111111111,
              "#46039f"
             ],
             [
              0.2222222222222222,
              "#7201a8"
             ],
             [
              0.3333333333333333,
              "#9c179e"
             ],
             [
              0.4444444444444444,
              "#bd3786"
             ],
             [
              0.5555555555555556,
              "#d8576b"
             ],
             [
              0.6666666666666666,
              "#ed7953"
             ],
             [
              0.7777777777777778,
              "#fb9f3a"
             ],
             [
              0.8888888888888888,
              "#fdca26"
             ],
             [
              1,
              "#f0f921"
             ]
            ],
            "type": "histogram2dcontour"
           }
          ],
          "mesh3d": [
           {
            "colorbar": {
             "outlinewidth": 0,
             "ticks": ""
            },
            "type": "mesh3d"
           }
          ],
          "parcoords": [
           {
            "line": {
             "colorbar": {
              "outlinewidth": 0,
              "ticks": ""
             }
            },
            "type": "parcoords"
           }
          ],
          "pie": [
           {
            "automargin": true,
            "type": "pie"
           }
          ],
          "scatter": [
           {
            "fillpattern": {
             "fillmode": "overlay",
             "size": 10,
             "solidity": 0.2
            },
            "type": "scatter"
           }
          ],
          "scatter3d": [
           {
            "line": {
             "colorbar": {
              "outlinewidth": 0,
              "ticks": ""
             }
            },
            "marker": {
             "colorbar": {
              "outlinewidth": 0,
              "ticks": ""
             }
            },
            "type": "scatter3d"
           }
          ],
          "scattercarpet": [
           {
            "marker": {
             "colorbar": {
              "outlinewidth": 0,
              "ticks": ""
             }
            },
            "type": "scattercarpet"
           }
          ],
          "scattergeo": [
           {
            "marker": {
             "colorbar": {
              "outlinewidth": 0,
              "ticks": ""
             }
            },
            "type": "scattergeo"
           }
          ],
          "scattergl": [
           {
            "marker": {
             "colorbar": {
              "outlinewidth": 0,
              "ticks": ""
             }
            },
            "type": "scattergl"
           }
          ],
          "scattermapbox": [
           {
            "marker": {
             "colorbar": {
              "outlinewidth": 0,
              "ticks": ""
             }
            },
            "type": "scattermapbox"
           }
          ],
          "scatterpolar": [
           {
            "marker": {
             "colorbar": {
              "outlinewidth": 0,
              "ticks": ""
             }
            },
            "type": "scatterpolar"
           }
          ],
          "scatterpolargl": [
           {
            "marker": {
             "colorbar": {
              "outlinewidth": 0,
              "ticks": ""
             }
            },
            "type": "scatterpolargl"
           }
          ],
          "scatterternary": [
           {
            "marker": {
             "colorbar": {
              "outlinewidth": 0,
              "ticks": ""
             }
            },
            "type": "scatterternary"
           }
          ],
          "surface": [
           {
            "colorbar": {
             "outlinewidth": 0,
             "ticks": ""
            },
            "colorscale": [
             [
              0,
              "#0d0887"
             ],
             [
              0.1111111111111111,
              "#46039f"
             ],
             [
              0.2222222222222222,
              "#7201a8"
             ],
             [
              0.3333333333333333,
              "#9c179e"
             ],
             [
              0.4444444444444444,
              "#bd3786"
             ],
             [
              0.5555555555555556,
              "#d8576b"
             ],
             [
              0.6666666666666666,
              "#ed7953"
             ],
             [
              0.7777777777777778,
              "#fb9f3a"
             ],
             [
              0.8888888888888888,
              "#fdca26"
             ],
             [
              1,
              "#f0f921"
             ]
            ],
            "type": "surface"
           }
          ],
          "table": [
           {
            "cells": {
             "fill": {
              "color": "#EBF0F8"
             },
             "line": {
              "color": "white"
             }
            },
            "header": {
             "fill": {
              "color": "#C8D4E3"
             },
             "line": {
              "color": "white"
             }
            },
            "type": "table"
           }
          ]
         },
         "layout": {
          "annotationdefaults": {
           "arrowcolor": "#2a3f5f",
           "arrowhead": 0,
           "arrowwidth": 1
          },
          "autotypenumbers": "strict",
          "coloraxis": {
           "colorbar": {
            "outlinewidth": 0,
            "ticks": ""
           }
          },
          "colorscale": {
           "diverging": [
            [
             0,
             "#8e0152"
            ],
            [
             0.1,
             "#c51b7d"
            ],
            [
             0.2,
             "#de77ae"
            ],
            [
             0.3,
             "#f1b6da"
            ],
            [
             0.4,
             "#fde0ef"
            ],
            [
             0.5,
             "#f7f7f7"
            ],
            [
             0.6,
             "#e6f5d0"
            ],
            [
             0.7,
             "#b8e186"
            ],
            [
             0.8,
             "#7fbc41"
            ],
            [
             0.9,
             "#4d9221"
            ],
            [
             1,
             "#276419"
            ]
           ],
           "sequential": [
            [
             0,
             "#0d0887"
            ],
            [
             0.1111111111111111,
             "#46039f"
            ],
            [
             0.2222222222222222,
             "#7201a8"
            ],
            [
             0.3333333333333333,
             "#9c179e"
            ],
            [
             0.4444444444444444,
             "#bd3786"
            ],
            [
             0.5555555555555556,
             "#d8576b"
            ],
            [
             0.6666666666666666,
             "#ed7953"
            ],
            [
             0.7777777777777778,
             "#fb9f3a"
            ],
            [
             0.8888888888888888,
             "#fdca26"
            ],
            [
             1,
             "#f0f921"
            ]
           ],
           "sequentialminus": [
            [
             0,
             "#0d0887"
            ],
            [
             0.1111111111111111,
             "#46039f"
            ],
            [
             0.2222222222222222,
             "#7201a8"
            ],
            [
             0.3333333333333333,
             "#9c179e"
            ],
            [
             0.4444444444444444,
             "#bd3786"
            ],
            [
             0.5555555555555556,
             "#d8576b"
            ],
            [
             0.6666666666666666,
             "#ed7953"
            ],
            [
             0.7777777777777778,
             "#fb9f3a"
            ],
            [
             0.8888888888888888,
             "#fdca26"
            ],
            [
             1,
             "#f0f921"
            ]
           ]
          },
          "colorway": [
           "#636efa",
           "#EF553B",
           "#00cc96",
           "#ab63fa",
           "#FFA15A",
           "#19d3f3",
           "#FF6692",
           "#B6E880",
           "#FF97FF",
           "#FECB52"
          ],
          "font": {
           "color": "#2a3f5f"
          },
          "geo": {
           "bgcolor": "white",
           "lakecolor": "white",
           "landcolor": "#E5ECF6",
           "showlakes": true,
           "showland": true,
           "subunitcolor": "white"
          },
          "hoverlabel": {
           "align": "left"
          },
          "hovermode": "closest",
          "mapbox": {
           "style": "light"
          },
          "paper_bgcolor": "white",
          "plot_bgcolor": "#E5ECF6",
          "polar": {
           "angularaxis": {
            "gridcolor": "white",
            "linecolor": "white",
            "ticks": ""
           },
           "bgcolor": "#E5ECF6",
           "radialaxis": {
            "gridcolor": "white",
            "linecolor": "white",
            "ticks": ""
           }
          },
          "scene": {
           "xaxis": {
            "backgroundcolor": "#E5ECF6",
            "gridcolor": "white",
            "gridwidth": 2,
            "linecolor": "white",
            "showbackground": true,
            "ticks": "",
            "zerolinecolor": "white"
           },
           "yaxis": {
            "backgroundcolor": "#E5ECF6",
            "gridcolor": "white",
            "gridwidth": 2,
            "linecolor": "white",
            "showbackground": true,
            "ticks": "",
            "zerolinecolor": "white"
           },
           "zaxis": {
            "backgroundcolor": "#E5ECF6",
            "gridcolor": "white",
            "gridwidth": 2,
            "linecolor": "white",
            "showbackground": true,
            "ticks": "",
            "zerolinecolor": "white"
           }
          },
          "shapedefaults": {
           "line": {
            "color": "#2a3f5f"
           }
          },
          "ternary": {
           "aaxis": {
            "gridcolor": "white",
            "linecolor": "white",
            "ticks": ""
           },
           "baxis": {
            "gridcolor": "white",
            "linecolor": "white",
            "ticks": ""
           },
           "bgcolor": "#E5ECF6",
           "caxis": {
            "gridcolor": "white",
            "linecolor": "white",
            "ticks": ""
           }
          },
          "title": {
           "x": 0.05
          },
          "xaxis": {
           "automargin": true,
           "gridcolor": "white",
           "linecolor": "white",
           "ticks": "",
           "title": {
            "standoff": 15
           },
           "zerolinecolor": "white",
           "zerolinewidth": 2
          },
          "yaxis": {
           "automargin": true,
           "gridcolor": "white",
           "linecolor": "white",
           "ticks": "",
           "title": {
            "standoff": 15
           },
           "zerolinecolor": "white",
           "zerolinewidth": 2
          }
         }
        },
        "title": {
         "text": "3D Scatter Plot of Car Dimensions and Price"
        }
       }
      }
     },
     "metadata": {},
     "output_type": "display_data"
    }
   ],
   "source": [
    "fig = px.scatter_3d(df, x='carlength', y='carwidth', z='carheight', color='price', title='3D Scatter Plot of Car Dimensions and Price')\n",
    "fig.show()"
   ]
  },
  {
   "cell_type": "markdown",
   "id": "8b6d30c6",
   "metadata": {},
   "source": [
    "Let's plot it in scatterplots to make the date more clear:"
   ]
  },
  {
   "cell_type": "code",
   "execution_count": 21,
   "id": "7e4beda6",
   "metadata": {},
   "outputs": [
    {
     "data": {
      "image/png": "[encoded data removed]",
      "text/plain": [
       "<Figure size 1500x500 with 3 Axes>"
      ]
     },
     "metadata": {},
     "output_type": "display_data"
    }
   ],
   "source": [
    "fig, axes = plt.subplots(nrows=1, ncols=3, figsize=(15, 5))\n",
    "sns.scatterplot(data=df, x='carlength', y='price', hue='fueltype', ax=axes[0])\n",
    "sns.scatterplot(data=df, x='carwidth', y='price', hue='fueltype', ax=axes[1])\n",
    "sns.scatterplot(data=df, x='carheight', y='price', hue='fueltype', ax=axes[2])\n",
    "plt.show()"
   ]
  },
  {
   "cell_type": "markdown",
   "id": "21ca3aea",
   "metadata": {},
   "source": [
    "As you can see although there is some positive correlation between  car width and lenght, and its price, the relationship is not as clear and there are some expensive medium-sized cars."
   ]
  },
  {
   "cell_type": "markdown",
   "id": "2902b8cf",
   "metadata": {},
   "source": []
  }
 ],
 "metadata": {
  "kernelspec": {
   "display_name": ".venv",
   "language": "python",
   "name": "python3"
  },
  "language_info": {
   "codemirror_mode": {
    "name": "ipython",
    "version": 3
   },
   "file_extension": ".py",
   "mimetype": "text/x-python",
   "name": "python",
   "nbconvert_exporter": "python",
   "pygments_lexer": "ipython3",
   "version": "3.12.10"
  }
 },
 "nbformat": 4,
 "nbformat_minor": 5
}
