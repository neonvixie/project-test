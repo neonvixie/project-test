{
 "cells": [
  {
   "cell_type": "markdown",
   "id": "85123887",
   "metadata": {},
   "source": [
    "# Car data\n",
    "\n",
    "In this notebook I will clean and prepare for analysis car price data. Here's the dictionary which explains meaning of the initial data:\n",
    "\n",
    "1. **Car_ID**: Unique id of each observation (Interger)\n",
    "\n",
    "2. **Symboling**: Its assigned insurance risk rating, A value of +3 indicates that the auto is risky, -3 that it is probably pretty safe.(Categorical) \n",
    "\n",
    "3. **carCompany**: Name of car company (Categorical)\n",
    "\n",
    "4. **fueltype**: Car fuel type i.e gas or diesel (Categorical)\n",
    "\n",
    "5. **aspiration**: Aspiration used in a car (Categorical)\n",
    "    - 'std' refers to a naturally aspirated engine, which means it draws in air at atmospheric pressure without any extra components.\n",
    "    - 'turbo' refers to a turbocharged engine, which uses a turbine powered by exhaust gases to force more air into the engine, resulting in more power.\n",
    "\n",
    "6. **doornumber**: Number of doors in a car (Categorical)\n",
    "\n",
    "7. **carbody**: body of car (Categorical)\n",
    "    - 'convertible': A car with a retractable roof that can be a soft top (fabric) or a hardtop (metal).\n",
    "    - 'hatchback': A car with a rear hatch door that swings upward, combining the passenger area and cargo space.\n",
    "    - 'sedan': A car with four doors and a separate, enclosed trunk.\n",
    "    - 'wagon': Similar to a sedan but with an extended roofline that continues over a large cargo area, often with a rear liftgate.\n",
    "    - 'hardtop': A car without a pillar between the front and rear side windows, giving it a more open, airy feel when the windows are down.\n",
    "\n",
    "8. **drivewheel**: type of drive wheel (Categorical)\n",
    "    - 'rwd' (Rear-Wheel Drive): Power is sent to the rear wheels. This is common in sports cars and trucks.\n",
    "    - 'fwd' (Front-Wheel Drive): Power is sent to the front wheels. This is the most common setup for passenger cars.\n",
    "    - '4wd' (Four-Wheel Drive): Power is sent to all four wheels. This is designed for better traction in off-road or slippery conditions.\n",
    "\n",
    "9. **enginelocation**: Location of car engine (Categorical)\n",
    "\n",
    "10. **wheelbase**: Weelbase of car (Numeric). The distance between the center points of the front and rear wheels. A longer wheelbase generally results in a smoother ride, while a shorter wheelbase can make a car more agile.\n",
    "\n",
    "11. **carlength**: Length of car (Numeric)\n",
    "\n",
    "12. **carwidth**: Width of car (Numeric)\n",
    "\n",
    "13. **carheight**: height of car (Numeric)\n",
    "\n",
    "14. **curbweight**: The weight of a car without occupants or baggage. (Numeric)\n",
    "\n",
    "15. **enginetype**: Type of engine. (Categorical)\n",
    "    - 'OHC' (Overhead Cam): The camshaft is located in the cylinder head. This is the general term for this design.\n",
    "    - 'DOHC' (Dual Overhead Cam): The most common modern design, with two separate camshafts per cylinder bank—one for intake valves and one for exhaust valves. This allows for better engine breathing and more power.\n",
    "    - 'OHCV' (Overhead Cam Valve): This term is similar to OHC but emphasizes that the valves are also located in the cylinder head.\n",
    "    - 'OHCF' (Overhead Cam with F-Head): A specific and less common design where the intake valves are in the cylinder head and the exhaust valves are in the block.\n",
    "    - 'l': This likely stands for a L-head engine, an older design where the intake and exhaust valves were located side-by-side in the engine block.\n",
    "    - 'rotor': A rotary engine, which uses triangular rotors to convert pressure into rotational motion instead of pistons.\n",
    "\n",
    "16. **cylindernumber**: cylinder placed in the car (Categorical). A cylinder is a chamber where fuel is combusted to generate power.\n",
    "\n",
    "17. **enginesize**: Size of car (Numeric). This refers to the total volume of air and fuel an engine can draw in during one cycle.\n",
    "\n",
    "18. **fuelsystem**: Fuel system of car (Categorical). This is the method used to deliver fuel to the engine's combustion chambers.\n",
    "    - 'mpfi' (Multi-Port Fuel Injection): Each cylinder has its own fuel injector, which is the most common modern design.\n",
    "    - 'spfi' (Single-Point Fuel Injection): A single injector feeds all cylinders, typically a less efficient system than MPFI.\n",
    "    - 'mfi' (Mechanical Fuel Injection): An older system that uses mechanical pumps and injectors instead of electronic ones.\n",
    "    - 'idi' (Indirect Diesel Injection): The fuel is injected into a pre-chamber before entering the main combustion chamber.\n",
    "    - '1bbl', '2bbl', '4bbl': These refer to carburetor-based systems. bbl stands for \"barrel,\" which is a passageway in the carburetor. More barrels generally allow for more air and fuel to enter the engine, thus more power.\n",
    "\n",
    "19. **boreratio**: Boreratio of car (Numeric). The bore-stroke ratio is the ratio of the cylinder's diameter (bore) to the piston's travel distance (stroke). This ratio helps determine how the engine produces power.\n",
    "20. **stroke**: Stroke or volume inside the engine (Numeric). The distance the piston travels up and down inside the cylinder. This is a critical factor in calculating the engine's displacement.\n",
    "\n",
    "21. **compressionratio**: compression ratio of car (Numeric). This is the ratio of the volume inside a cylinder when the piston is at the bottom of its stroke to the volume when the piston is at the top. A higher compression ratio can result in more power and efficiency but may require higher-octane fuel.\n",
    "\n",
    "22. **horsepower**: Horsepower (Numeric). A measurement of an engine's power output. It tells you how quickly the engine can produce force, which directly relates to a car's top speed and acceleration.\n",
    "\n",
    "23. **peakrpm**: car peak rpm (Numeric). This stands for Revolutions Per Minute. It is a measure of how fast the engine crankshaft is rotating. Peak RPM is the specific engine speed at which the engine produces its maximum power.\n",
    "\n",
    "24. **citympg**: Mileage in city (Numeric). It measures fuel economy under typical urban driving conditions, with frequent stops and starts.\n",
    "\n",
    "25. **highwaympg**: Mileage on highway (Numeric). It measures fuel economy during a consistent, higher-speed drive, like on a highway, without stopping. Highway MPG is almost always higher because a car is more fuel-efficient when it doesn't have to constantly accelerate from a stop.\n",
    "\n",
    "26. **price** (Dependent variable): Price of car (Numeric)"
   ]
  },
  {
   "cell_type": "code",
   "execution_count": 75,
   "id": "4e20d260",
   "metadata": {},
   "outputs": [],
   "source": [
    "import pandas as pd"
   ]
  },
  {
   "cell_type": "markdown",
   "id": "9b2764e2",
   "metadata": {},
   "source": [
    "## Loading the data\n",
    "Let's first load the data, see its general shape and check for missing values:"
   ]
  },
  {
   "cell_type": "code",
   "execution_count": 76,
   "id": "774e4d0e",
   "metadata": {},
   "outputs": [
    {
     "name": "stdout",
     "output_type": "stream",
     "text": [
      "(205, 26)\n"
     ]
    },
    {
     "data": {
      "text/html": [
       "<div>\n",
       "<style scoped>\n",
       "    .dataframe tbody tr th:only-of-type {\n",
       "        vertical-align: middle;\n",
       "    }\n",
       "\n",
       "    .dataframe tbody tr th {\n",
       "        vertical-align: top;\n",
       "    }\n",
       "\n",
       "    .dataframe thead th {\n",
       "        text-align: right;\n",
       "    }\n",
       "</style>\n",
       "<table border=\"1\" class=\"dataframe\">\n",
       "  <thead>\n",
       "    <tr style=\"text-align: right;\">\n",
       "      <th></th>\n",
       "      <th>car_ID</th>\n",
       "      <th>symboling</th>\n",
       "      <th>CarName</th>\n",
       "      <th>fueltype</th>\n",
       "      <th>aspiration</th>\n",
       "      <th>doornumber</th>\n",
       "      <th>carbody</th>\n",
       "      <th>drivewheel</th>\n",
       "      <th>enginelocation</th>\n",
       "      <th>wheelbase</th>\n",
       "      <th>...</th>\n",
       "      <th>enginesize</th>\n",
       "      <th>fuelsystem</th>\n",
       "      <th>boreratio</th>\n",
       "      <th>stroke</th>\n",
       "      <th>compressionratio</th>\n",
       "      <th>horsepower</th>\n",
       "      <th>peakrpm</th>\n",
       "      <th>citympg</th>\n",
       "      <th>highwaympg</th>\n",
       "      <th>price</th>\n",
       "    </tr>\n",
       "  </thead>\n",
       "  <tbody>\n",
       "    <tr>\n",
       "      <th>0</th>\n",
       "      <td>1</td>\n",
       "      <td>3</td>\n",
       "      <td>alfa-romero giulia</td>\n",
       "      <td>gas</td>\n",
       "      <td>std</td>\n",
       "      <td>two</td>\n",
       "      <td>convertible</td>\n",
       "      <td>rwd</td>\n",
       "      <td>front</td>\n",
       "      <td>88.6</td>\n",
       "      <td>...</td>\n",
       "      <td>130</td>\n",
       "      <td>mpfi</td>\n",
       "      <td>3.47</td>\n",
       "      <td>2.68</td>\n",
       "      <td>9.0</td>\n",
       "      <td>111</td>\n",
       "      <td>5000</td>\n",
       "      <td>21</td>\n",
       "      <td>27</td>\n",
       "      <td>13495.000</td>\n",
       "    </tr>\n",
       "    <tr>\n",
       "      <th>1</th>\n",
       "      <td>2</td>\n",
       "      <td>3</td>\n",
       "      <td>alfa-romero stelvio</td>\n",
       "      <td>gas</td>\n",
       "      <td>std</td>\n",
       "      <td>two</td>\n",
       "      <td>convertible</td>\n",
       "      <td>rwd</td>\n",
       "      <td>front</td>\n",
       "      <td>88.6</td>\n",
       "      <td>...</td>\n",
       "      <td>130</td>\n",
       "      <td>mpfi</td>\n",
       "      <td>3.47</td>\n",
       "      <td>2.68</td>\n",
       "      <td>9.0</td>\n",
       "      <td>111</td>\n",
       "      <td>5000</td>\n",
       "      <td>21</td>\n",
       "      <td>27</td>\n",
       "      <td>16500.000</td>\n",
       "    </tr>\n",
       "    <tr>\n",
       "      <th>2</th>\n",
       "      <td>3</td>\n",
       "      <td>1</td>\n",
       "      <td>alfa-romero Quadrifoglio</td>\n",
       "      <td>gas</td>\n",
       "      <td>std</td>\n",
       "      <td>two</td>\n",
       "      <td>hatchback</td>\n",
       "      <td>rwd</td>\n",
       "      <td>front</td>\n",
       "      <td>94.5</td>\n",
       "      <td>...</td>\n",
       "      <td>152</td>\n",
       "      <td>mpfi</td>\n",
       "      <td>2.68</td>\n",
       "      <td>3.47</td>\n",
       "      <td>9.0</td>\n",
       "      <td>154</td>\n",
       "      <td>5000</td>\n",
       "      <td>19</td>\n",
       "      <td>26</td>\n",
       "      <td>16500.000</td>\n",
       "    </tr>\n",
       "    <tr>\n",
       "      <th>3</th>\n",
       "      <td>4</td>\n",
       "      <td>2</td>\n",
       "      <td>audi 100 ls</td>\n",
       "      <td>gas</td>\n",
       "      <td>std</td>\n",
       "      <td>four</td>\n",
       "      <td>sedan</td>\n",
       "      <td>fwd</td>\n",
       "      <td>front</td>\n",
       "      <td>99.8</td>\n",
       "      <td>...</td>\n",
       "      <td>109</td>\n",
       "      <td>mpfi</td>\n",
       "      <td>3.19</td>\n",
       "      <td>3.40</td>\n",
       "      <td>10.0</td>\n",
       "      <td>102</td>\n",
       "      <td>5500</td>\n",
       "      <td>24</td>\n",
       "      <td>30</td>\n",
       "      <td>13950.000</td>\n",
       "    </tr>\n",
       "    <tr>\n",
       "      <th>4</th>\n",
       "      <td>5</td>\n",
       "      <td>2</td>\n",
       "      <td>audi 100ls</td>\n",
       "      <td>gas</td>\n",
       "      <td>std</td>\n",
       "      <td>four</td>\n",
       "      <td>sedan</td>\n",
       "      <td>4wd</td>\n",
       "      <td>front</td>\n",
       "      <td>99.4</td>\n",
       "      <td>...</td>\n",
       "      <td>136</td>\n",
       "      <td>mpfi</td>\n",
       "      <td>3.19</td>\n",
       "      <td>3.40</td>\n",
       "      <td>8.0</td>\n",
       "      <td>115</td>\n",
       "      <td>5500</td>\n",
       "      <td>18</td>\n",
       "      <td>22</td>\n",
       "      <td>17450.000</td>\n",
       "    </tr>\n",
       "    <tr>\n",
       "      <th>5</th>\n",
       "      <td>6</td>\n",
       "      <td>2</td>\n",
       "      <td>audi fox</td>\n",
       "      <td>gas</td>\n",
       "      <td>std</td>\n",
       "      <td>two</td>\n",
       "      <td>sedan</td>\n",
       "      <td>fwd</td>\n",
       "      <td>front</td>\n",
       "      <td>99.8</td>\n",
       "      <td>...</td>\n",
       "      <td>136</td>\n",
       "      <td>mpfi</td>\n",
       "      <td>3.19</td>\n",
       "      <td>3.40</td>\n",
       "      <td>8.5</td>\n",
       "      <td>110</td>\n",
       "      <td>5500</td>\n",
       "      <td>19</td>\n",
       "      <td>25</td>\n",
       "      <td>15250.000</td>\n",
       "    </tr>\n",
       "    <tr>\n",
       "      <th>6</th>\n",
       "      <td>7</td>\n",
       "      <td>1</td>\n",
       "      <td>audi 100ls</td>\n",
       "      <td>gas</td>\n",
       "      <td>std</td>\n",
       "      <td>four</td>\n",
       "      <td>sedan</td>\n",
       "      <td>fwd</td>\n",
       "      <td>front</td>\n",
       "      <td>105.8</td>\n",
       "      <td>...</td>\n",
       "      <td>136</td>\n",
       "      <td>mpfi</td>\n",
       "      <td>3.19</td>\n",
       "      <td>3.40</td>\n",
       "      <td>8.5</td>\n",
       "      <td>110</td>\n",
       "      <td>5500</td>\n",
       "      <td>19</td>\n",
       "      <td>25</td>\n",
       "      <td>17710.000</td>\n",
       "    </tr>\n",
       "    <tr>\n",
       "      <th>7</th>\n",
       "      <td>8</td>\n",
       "      <td>1</td>\n",
       "      <td>audi 5000</td>\n",
       "      <td>gas</td>\n",
       "      <td>std</td>\n",
       "      <td>four</td>\n",
       "      <td>wagon</td>\n",
       "      <td>fwd</td>\n",
       "      <td>front</td>\n",
       "      <td>105.8</td>\n",
       "      <td>...</td>\n",
       "      <td>136</td>\n",
       "      <td>mpfi</td>\n",
       "      <td>3.19</td>\n",
       "      <td>3.40</td>\n",
       "      <td>8.5</td>\n",
       "      <td>110</td>\n",
       "      <td>5500</td>\n",
       "      <td>19</td>\n",
       "      <td>25</td>\n",
       "      <td>18920.000</td>\n",
       "    </tr>\n",
       "    <tr>\n",
       "      <th>8</th>\n",
       "      <td>9</td>\n",
       "      <td>1</td>\n",
       "      <td>audi 4000</td>\n",
       "      <td>gas</td>\n",
       "      <td>turbo</td>\n",
       "      <td>four</td>\n",
       "      <td>sedan</td>\n",
       "      <td>fwd</td>\n",
       "      <td>front</td>\n",
       "      <td>105.8</td>\n",
       "      <td>...</td>\n",
       "      <td>131</td>\n",
       "      <td>mpfi</td>\n",
       "      <td>3.13</td>\n",
       "      <td>3.40</td>\n",
       "      <td>8.3</td>\n",
       "      <td>140</td>\n",
       "      <td>5500</td>\n",
       "      <td>17</td>\n",
       "      <td>20</td>\n",
       "      <td>23875.000</td>\n",
       "    </tr>\n",
       "    <tr>\n",
       "      <th>9</th>\n",
       "      <td>10</td>\n",
       "      <td>0</td>\n",
       "      <td>audi 5000s (diesel)</td>\n",
       "      <td>gas</td>\n",
       "      <td>turbo</td>\n",
       "      <td>two</td>\n",
       "      <td>hatchback</td>\n",
       "      <td>4wd</td>\n",
       "      <td>front</td>\n",
       "      <td>99.5</td>\n",
       "      <td>...</td>\n",
       "      <td>131</td>\n",
       "      <td>mpfi</td>\n",
       "      <td>3.13</td>\n",
       "      <td>3.40</td>\n",
       "      <td>7.0</td>\n",
       "      <td>160</td>\n",
       "      <td>5500</td>\n",
       "      <td>16</td>\n",
       "      <td>22</td>\n",
       "      <td>17859.167</td>\n",
       "    </tr>\n",
       "  </tbody>\n",
       "</table>\n",
       "<p>10 rows × 26 columns</p>\n",
       "</div>"
      ],
      "text/plain": [
       "   car_ID  symboling                   CarName fueltype aspiration doornumber  \\\n",
       "0       1          3        alfa-romero giulia      gas        std        two   \n",
       "1       2          3       alfa-romero stelvio      gas        std        two   \n",
       "2       3          1  alfa-romero Quadrifoglio      gas        std        two   \n",
       "3       4          2               audi 100 ls      gas        std       four   \n",
       "4       5          2                audi 100ls      gas        std       four   \n",
       "5       6          2                  audi fox      gas        std        two   \n",
       "6       7          1                audi 100ls      gas        std       four   \n",
       "7       8          1                 audi 5000      gas        std       four   \n",
       "8       9          1                 audi 4000      gas      turbo       four   \n",
       "9      10          0       audi 5000s (diesel)      gas      turbo        two   \n",
       "\n",
       "       carbody drivewheel enginelocation  wheelbase  ...  enginesize  \\\n",
       "0  convertible        rwd          front       88.6  ...         130   \n",
       "1  convertible        rwd          front       88.6  ...         130   \n",
       "2    hatchback        rwd          front       94.5  ...         152   \n",
       "3        sedan        fwd          front       99.8  ...         109   \n",
       "4        sedan        4wd          front       99.4  ...         136   \n",
       "5        sedan        fwd          front       99.8  ...         136   \n",
       "6        sedan        fwd          front      105.8  ...         136   \n",
       "7        wagon        fwd          front      105.8  ...         136   \n",
       "8        sedan        fwd          front      105.8  ...         131   \n",
       "9    hatchback        4wd          front       99.5  ...         131   \n",
       "\n",
       "   fuelsystem  boreratio  stroke compressionratio horsepower  peakrpm citympg  \\\n",
       "0        mpfi       3.47    2.68              9.0        111     5000      21   \n",
       "1        mpfi       3.47    2.68              9.0        111     5000      21   \n",
       "2        mpfi       2.68    3.47              9.0        154     5000      19   \n",
       "3        mpfi       3.19    3.40             10.0        102     5500      24   \n",
       "4        mpfi       3.19    3.40              8.0        115     5500      18   \n",
       "5        mpfi       3.19    3.40              8.5        110     5500      19   \n",
       "6        mpfi       3.19    3.40              8.5        110     5500      19   \n",
       "7        mpfi       3.19    3.40              8.5        110     5500      19   \n",
       "8        mpfi       3.13    3.40              8.3        140     5500      17   \n",
       "9        mpfi       3.13    3.40              7.0        160     5500      16   \n",
       "\n",
       "   highwaympg      price  \n",
       "0          27  13495.000  \n",
       "1          27  16500.000  \n",
       "2          26  16500.000  \n",
       "3          30  13950.000  \n",
       "4          22  17450.000  \n",
       "5          25  15250.000  \n",
       "6          25  17710.000  \n",
       "7          25  18920.000  \n",
       "8          20  23875.000  \n",
       "9          22  17859.167  \n",
       "\n",
       "[10 rows x 26 columns]"
      ]
     },
     "execution_count": 76,
     "metadata": {},
     "output_type": "execute_result"
    }
   ],
   "source": [
    "df = pd.read_csv(\"../data/raw/CarPrice_Assignment.csv\")\n",
    "print(df.shape)\n",
    "df.head(10)"
   ]
  },
  {
   "cell_type": "code",
   "execution_count": 77,
   "id": "5d1fd453",
   "metadata": {},
   "outputs": [
    {
     "data": {
      "text/plain": [
       "car_ID              0\n",
       "symboling           0\n",
       "CarName             0\n",
       "fueltype            0\n",
       "aspiration          0\n",
       "doornumber          0\n",
       "carbody             0\n",
       "drivewheel          0\n",
       "enginelocation      0\n",
       "wheelbase           0\n",
       "carlength           0\n",
       "carwidth            0\n",
       "carheight           0\n",
       "curbweight          0\n",
       "enginetype          0\n",
       "cylindernumber      0\n",
       "enginesize          0\n",
       "fuelsystem          0\n",
       "boreratio           0\n",
       "stroke              0\n",
       "compressionratio    0\n",
       "horsepower          0\n",
       "peakrpm             0\n",
       "citympg             0\n",
       "highwaympg          0\n",
       "price               0\n",
       "dtype: int64"
      ]
     },
     "execution_count": 77,
     "metadata": {},
     "output_type": "execute_result"
    }
   ],
   "source": [
    "df.isnull().sum()"
   ]
  },
  {
   "cell_type": "markdown",
   "id": "1473efa6",
   "metadata": {},
   "source": [
    "There are no missing values in this dataset. Let's confirm the data type of each of the columns:"
   ]
  },
  {
   "cell_type": "code",
   "execution_count": 78,
   "id": "05fb28ef",
   "metadata": {},
   "outputs": [
    {
     "data": {
      "text/plain": [
       "car_ID                int64\n",
       "symboling             int64\n",
       "CarName              object\n",
       "fueltype             object\n",
       "aspiration           object\n",
       "doornumber           object\n",
       "carbody              object\n",
       "drivewheel           object\n",
       "enginelocation       object\n",
       "wheelbase           float64\n",
       "carlength           float64\n",
       "carwidth            float64\n",
       "carheight           float64\n",
       "curbweight            int64\n",
       "enginetype           object\n",
       "cylindernumber       object\n",
       "enginesize            int64\n",
       "fuelsystem           object\n",
       "boreratio           float64\n",
       "stroke              float64\n",
       "compressionratio    float64\n",
       "horsepower            int64\n",
       "peakrpm               int64\n",
       "citympg               int64\n",
       "highwaympg            int64\n",
       "price               float64\n",
       "dtype: object"
      ]
     },
     "execution_count": 78,
     "metadata": {},
     "output_type": "execute_result"
    }
   ],
   "source": [
    "df.dtypes"
   ]
  },
  {
   "cell_type": "markdown",
   "id": "2bdabed5",
   "metadata": {},
   "source": [
    "### Unique values\n",
    "Before we move on let's try to understand our data. I will search for unique values for different categorical data:"
   ]
  },
  {
   "cell_type": "markdown",
   "id": "ac49feab",
   "metadata": {},
   "source": [
    "##### fueltype:"
   ]
  },
  {
   "cell_type": "code",
   "execution_count": 79,
   "id": "823d632f",
   "metadata": {},
   "outputs": [
    {
     "name": "stdout",
     "output_type": "stream",
     "text": [
      "['gas' 'diesel']\n"
     ]
    }
   ],
   "source": [
    "print(df['fueltype'].unique())"
   ]
  },
  {
   "cell_type": "markdown",
   "id": "cef63edf",
   "metadata": {},
   "source": [
    "##### aspiration:"
   ]
  },
  {
   "cell_type": "code",
   "execution_count": 80,
   "id": "7a2e776e",
   "metadata": {},
   "outputs": [
    {
     "name": "stdout",
     "output_type": "stream",
     "text": [
      "['std' 'turbo']\n"
     ]
    }
   ],
   "source": [
    "print(df['aspiration'].unique())"
   ]
  },
  {
   "cell_type": "markdown",
   "id": "a3fd8da7",
   "metadata": {},
   "source": [
    "##### doornumber:"
   ]
  },
  {
   "cell_type": "code",
   "execution_count": 81,
   "id": "79170552",
   "metadata": {},
   "outputs": [
    {
     "name": "stdout",
     "output_type": "stream",
     "text": [
      "['two' 'four']\n"
     ]
    }
   ],
   "source": [
    "print(df['doornumber'].unique())"
   ]
  },
  {
   "cell_type": "markdown",
   "id": "51f6c36b",
   "metadata": {},
   "source": [
    "carbody:"
   ]
  },
  {
   "cell_type": "code",
   "execution_count": 82,
   "id": "6d6736a2",
   "metadata": {},
   "outputs": [
    {
     "name": "stdout",
     "output_type": "stream",
     "text": [
      "['convertible' 'hatchback' 'sedan' 'wagon' 'hardtop']\n"
     ]
    }
   ],
   "source": [
    "print(df['carbody'].unique())"
   ]
  },
  {
   "cell_type": "markdown",
   "id": "f3a923c4",
   "metadata": {},
   "source": [
    "drivewheel:"
   ]
  },
  {
   "cell_type": "code",
   "execution_count": 83,
   "id": "2017b177",
   "metadata": {},
   "outputs": [
    {
     "name": "stdout",
     "output_type": "stream",
     "text": [
      "['rwd' 'fwd' '4wd']\n"
     ]
    }
   ],
   "source": [
    "print(df['drivewheel'].unique())"
   ]
  },
  {
   "cell_type": "markdown",
   "id": "ba254529",
   "metadata": {},
   "source": [
    "enginelocation:"
   ]
  },
  {
   "cell_type": "code",
   "execution_count": 84,
   "id": "c580dd60",
   "metadata": {},
   "outputs": [
    {
     "name": "stdout",
     "output_type": "stream",
     "text": [
      "['front' 'rear']\n"
     ]
    }
   ],
   "source": [
    "print(df['enginelocation'].unique())"
   ]
  },
  {
   "cell_type": "markdown",
   "id": "d82542db",
   "metadata": {},
   "source": [
    "enginetype:"
   ]
  },
  {
   "cell_type": "code",
   "execution_count": 85,
   "id": "728d77d3",
   "metadata": {},
   "outputs": [
    {
     "name": "stdout",
     "output_type": "stream",
     "text": [
      "['dohc' 'ohcv' 'ohc' 'l' 'rotor' 'ohcf' 'dohcv']\n"
     ]
    }
   ],
   "source": [
    "print(df['enginetype'].unique())"
   ]
  },
  {
   "cell_type": "markdown",
   "id": "166b7d16",
   "metadata": {},
   "source": [
    "cylindernumber:"
   ]
  },
  {
   "cell_type": "code",
   "execution_count": 86,
   "id": "1771c4fa",
   "metadata": {},
   "outputs": [
    {
     "name": "stdout",
     "output_type": "stream",
     "text": [
      "['four' 'six' 'five' 'three' 'twelve' 'two' 'eight']\n"
     ]
    }
   ],
   "source": [
    "print(df['cylindernumber'].unique())"
   ]
  },
  {
   "cell_type": "markdown",
   "id": "993ab592",
   "metadata": {},
   "source": [
    "fuelsystem:"
   ]
  },
  {
   "cell_type": "code",
   "execution_count": 87,
   "id": "1dca6b46",
   "metadata": {},
   "outputs": [
    {
     "name": "stdout",
     "output_type": "stream",
     "text": [
      "['mpfi' '2bbl' 'mfi' '1bbl' 'spfi' '4bbl' 'idi' 'spdi']\n"
     ]
    }
   ],
   "source": [
    "print(df['fuelsystem'].unique())"
   ]
  },
  {
   "cell_type": "markdown",
   "id": "3360c0b1",
   "metadata": {},
   "source": [
    "## Data cleaning and transformation\n",
    "\n",
    "This data is already clean and can be used to plot the data. However there are two things that can be done to transform it to be even better for that purpose:"
   ]
  },
  {
   "cell_type": "markdown",
   "id": "7c2fb1a3",
   "metadata": {},
   "source": [
    "### Converting `cylindernumber` and `doornumber` to a numerical value\n",
    "We can clearly encode `cylindernumber` column as numbers. Since we know all unique outputs I will first create a dictionary that maps numbers to strings, and then use it to change values."
   ]
  },
  {
   "cell_type": "code",
   "execution_count": 88,
   "id": "b3cbe717",
   "metadata": {},
   "outputs": [
    {
     "data": {
      "text/plain": [
       "array([ 4,  6,  5,  3, 12,  2,  8], dtype=int64)"
      ]
     },
     "execution_count": 88,
     "metadata": {},
     "output_type": "execute_result"
    }
   ],
   "source": [
    "cylinder_dict = {\n",
    "    'four': 4, 'six': 6, 'five': 5,  'three': 3, 'twelve': 12, 'two': 2, 'eight': 8\n",
    "}\n",
    "\n",
    "df['cylindernumber'].replace(to_replace=cylinder_dict, inplace=True)\n",
    "df['cylindernumber'].unique()\n"
   ]
  },
  {
   "cell_type": "markdown",
   "id": "42dbfe12",
   "metadata": {},
   "source": [
    "Although less likely to be useful, we can do the same with `doornumber`, using the same dictionary:"
   ]
  },
  {
   "cell_type": "code",
   "execution_count": 89,
   "id": "bf0bf378",
   "metadata": {},
   "outputs": [
    {
     "data": {
      "text/plain": [
       "array([2, 4], dtype=int64)"
      ]
     },
     "execution_count": 89,
     "metadata": {},
     "output_type": "execute_result"
    }
   ],
   "source": [
    "df['doornumber'].replace(to_replace=cylinder_dict, inplace=True)\n",
    "df['doornumber'].unique()"
   ]
  },
  {
   "cell_type": "markdown",
   "id": "1c32c2ae",
   "metadata": {},
   "source": [
    "### Extracting brand name from the the `CarName` string\n",
    "There is probably some amount of correlation between the car brand and car price due to factors like marketing or brand recognition. It is therefore a desirable idea to extract this variable. You can notice that the brand name is the first word of the car name, therefore its extraction is easy:"
   ]
  },
  {
   "cell_type": "code",
   "execution_count": 90,
   "id": "23e6f00d",
   "metadata": {},
   "outputs": [
    {
     "name": "stdout",
     "output_type": "stream",
     "text": [
      "['alfa-romero' 'audi' 'bmw' 'chevrolet' 'dodge' 'honda' 'isuzu' 'jaguar'\n",
      " 'maxda' 'mazda' 'buick' 'mercury' 'mitsubishi' 'Nissan' 'nissan'\n",
      " 'peugeot' 'plymouth' 'porsche' 'porcshce' 'renault' 'saab' 'subaru'\n",
      " 'toyota' 'toyouta' 'vokswagen' 'volkswagen' 'vw' 'volvo']\n"
     ]
    },
    {
     "data": {
      "text/html": [
       "<div>\n",
       "<style scoped>\n",
       "    .dataframe tbody tr th:only-of-type {\n",
       "        vertical-align: middle;\n",
       "    }\n",
       "\n",
       "    .dataframe tbody tr th {\n",
       "        vertical-align: top;\n",
       "    }\n",
       "\n",
       "    .dataframe thead th {\n",
       "        text-align: right;\n",
       "    }\n",
       "</style>\n",
       "<table border=\"1\" class=\"dataframe\">\n",
       "  <thead>\n",
       "    <tr style=\"text-align: right;\">\n",
       "      <th></th>\n",
       "      <th>car_ID</th>\n",
       "      <th>symboling</th>\n",
       "      <th>CarName</th>\n",
       "      <th>fueltype</th>\n",
       "      <th>aspiration</th>\n",
       "      <th>doornumber</th>\n",
       "      <th>carbody</th>\n",
       "      <th>drivewheel</th>\n",
       "      <th>enginelocation</th>\n",
       "      <th>wheelbase</th>\n",
       "      <th>...</th>\n",
       "      <th>fuelsystem</th>\n",
       "      <th>boreratio</th>\n",
       "      <th>stroke</th>\n",
       "      <th>compressionratio</th>\n",
       "      <th>horsepower</th>\n",
       "      <th>peakrpm</th>\n",
       "      <th>citympg</th>\n",
       "      <th>highwaympg</th>\n",
       "      <th>price</th>\n",
       "      <th>brand</th>\n",
       "    </tr>\n",
       "  </thead>\n",
       "  <tbody>\n",
       "    <tr>\n",
       "      <th>0</th>\n",
       "      <td>1</td>\n",
       "      <td>3</td>\n",
       "      <td>alfa-romero giulia</td>\n",
       "      <td>gas</td>\n",
       "      <td>std</td>\n",
       "      <td>2</td>\n",
       "      <td>convertible</td>\n",
       "      <td>rwd</td>\n",
       "      <td>front</td>\n",
       "      <td>88.6</td>\n",
       "      <td>...</td>\n",
       "      <td>mpfi</td>\n",
       "      <td>3.47</td>\n",
       "      <td>2.68</td>\n",
       "      <td>9.0</td>\n",
       "      <td>111</td>\n",
       "      <td>5000</td>\n",
       "      <td>21</td>\n",
       "      <td>27</td>\n",
       "      <td>13495.0</td>\n",
       "      <td>alfa-romero</td>\n",
       "    </tr>\n",
       "    <tr>\n",
       "      <th>1</th>\n",
       "      <td>2</td>\n",
       "      <td>3</td>\n",
       "      <td>alfa-romero stelvio</td>\n",
       "      <td>gas</td>\n",
       "      <td>std</td>\n",
       "      <td>2</td>\n",
       "      <td>convertible</td>\n",
       "      <td>rwd</td>\n",
       "      <td>front</td>\n",
       "      <td>88.6</td>\n",
       "      <td>...</td>\n",
       "      <td>mpfi</td>\n",
       "      <td>3.47</td>\n",
       "      <td>2.68</td>\n",
       "      <td>9.0</td>\n",
       "      <td>111</td>\n",
       "      <td>5000</td>\n",
       "      <td>21</td>\n",
       "      <td>27</td>\n",
       "      <td>16500.0</td>\n",
       "      <td>alfa-romero</td>\n",
       "    </tr>\n",
       "    <tr>\n",
       "      <th>2</th>\n",
       "      <td>3</td>\n",
       "      <td>1</td>\n",
       "      <td>alfa-romero Quadrifoglio</td>\n",
       "      <td>gas</td>\n",
       "      <td>std</td>\n",
       "      <td>2</td>\n",
       "      <td>hatchback</td>\n",
       "      <td>rwd</td>\n",
       "      <td>front</td>\n",
       "      <td>94.5</td>\n",
       "      <td>...</td>\n",
       "      <td>mpfi</td>\n",
       "      <td>2.68</td>\n",
       "      <td>3.47</td>\n",
       "      <td>9.0</td>\n",
       "      <td>154</td>\n",
       "      <td>5000</td>\n",
       "      <td>19</td>\n",
       "      <td>26</td>\n",
       "      <td>16500.0</td>\n",
       "      <td>alfa-romero</td>\n",
       "    </tr>\n",
       "    <tr>\n",
       "      <th>3</th>\n",
       "      <td>4</td>\n",
       "      <td>2</td>\n",
       "      <td>audi 100 ls</td>\n",
       "      <td>gas</td>\n",
       "      <td>std</td>\n",
       "      <td>4</td>\n",
       "      <td>sedan</td>\n",
       "      <td>fwd</td>\n",
       "      <td>front</td>\n",
       "      <td>99.8</td>\n",
       "      <td>...</td>\n",
       "      <td>mpfi</td>\n",
       "      <td>3.19</td>\n",
       "      <td>3.40</td>\n",
       "      <td>10.0</td>\n",
       "      <td>102</td>\n",
       "      <td>5500</td>\n",
       "      <td>24</td>\n",
       "      <td>30</td>\n",
       "      <td>13950.0</td>\n",
       "      <td>audi</td>\n",
       "    </tr>\n",
       "    <tr>\n",
       "      <th>4</th>\n",
       "      <td>5</td>\n",
       "      <td>2</td>\n",
       "      <td>audi 100ls</td>\n",
       "      <td>gas</td>\n",
       "      <td>std</td>\n",
       "      <td>4</td>\n",
       "      <td>sedan</td>\n",
       "      <td>4wd</td>\n",
       "      <td>front</td>\n",
       "      <td>99.4</td>\n",
       "      <td>...</td>\n",
       "      <td>mpfi</td>\n",
       "      <td>3.19</td>\n",
       "      <td>3.40</td>\n",
       "      <td>8.0</td>\n",
       "      <td>115</td>\n",
       "      <td>5500</td>\n",
       "      <td>18</td>\n",
       "      <td>22</td>\n",
       "      <td>17450.0</td>\n",
       "      <td>audi</td>\n",
       "    </tr>\n",
       "  </tbody>\n",
       "</table>\n",
       "<p>5 rows × 27 columns</p>\n",
       "</div>"
      ],
      "text/plain": [
       "   car_ID  symboling                   CarName fueltype aspiration  \\\n",
       "0       1          3        alfa-romero giulia      gas        std   \n",
       "1       2          3       alfa-romero stelvio      gas        std   \n",
       "2       3          1  alfa-romero Quadrifoglio      gas        std   \n",
       "3       4          2               audi 100 ls      gas        std   \n",
       "4       5          2                audi 100ls      gas        std   \n",
       "\n",
       "   doornumber      carbody drivewheel enginelocation  wheelbase  ...  \\\n",
       "0           2  convertible        rwd          front       88.6  ...   \n",
       "1           2  convertible        rwd          front       88.6  ...   \n",
       "2           2    hatchback        rwd          front       94.5  ...   \n",
       "3           4        sedan        fwd          front       99.8  ...   \n",
       "4           4        sedan        4wd          front       99.4  ...   \n",
       "\n",
       "   fuelsystem  boreratio  stroke  compressionratio horsepower  peakrpm  \\\n",
       "0        mpfi       3.47    2.68               9.0        111     5000   \n",
       "1        mpfi       3.47    2.68               9.0        111     5000   \n",
       "2        mpfi       2.68    3.47               9.0        154     5000   \n",
       "3        mpfi       3.19    3.40              10.0        102     5500   \n",
       "4        mpfi       3.19    3.40               8.0        115     5500   \n",
       "\n",
       "   citympg highwaympg    price        brand  \n",
       "0       21         27  13495.0  alfa-romero  \n",
       "1       21         27  16500.0  alfa-romero  \n",
       "2       19         26  16500.0  alfa-romero  \n",
       "3       24         30  13950.0         audi  \n",
       "4       18         22  17450.0         audi  \n",
       "\n",
       "[5 rows x 27 columns]"
      ]
     },
     "execution_count": 90,
     "metadata": {},
     "output_type": "execute_result"
    }
   ],
   "source": [
    "df['brand'] = df['CarName'].str.split(' ', n=1).str[0]\n",
    "print(df['brand'].unique())\n",
    "df.head()"
   ]
  },
  {
   "cell_type": "markdown",
   "id": "87629c70",
   "metadata": {},
   "source": [
    "We can see many misspelled values (e.g. maxda instead of mazda) or values that have alternative name (e.g. vw instead of volkswagen) here. To fix this I will create a dictionary to correct and standardize the brand names."
   ]
  },
  {
   "cell_type": "code",
   "execution_count": 91,
   "id": "59e45a96",
   "metadata": {},
   "outputs": [
    {
     "data": {
      "text/plain": [
       "array(['alfa-romero', 'audi', 'bmw', 'chevrolet', 'dodge', 'honda',\n",
       "       'isuzu', 'jaguar', 'mazda', 'buick', 'mercury', 'mitsubishi',\n",
       "       'nissan', 'peugeot', 'plymouth', 'porsche', 'renault', 'saab',\n",
       "       'subaru', 'toyota', 'volkswagen', 'volvo'], dtype=object)"
      ]
     },
     "execution_count": 91,
     "metadata": {},
     "output_type": "execute_result"
    }
   ],
   "source": [
    "brand_dict = {\n",
    "   'maxda': 'mazda',\n",
    "   'Nissan': 'nissan', \n",
    "   'porcshce': 'porsche',\n",
    "   'toyouta': 'toyota',\n",
    "   'vokswagen': 'volkswagen',\n",
    "   'vw': 'volkswagen'\n",
    "}\n",
    "\n",
    "df['brand'].replace(to_replace=brand_dict, inplace=True)\n",
    "df['brand'].unique()"
   ]
  },
  {
   "cell_type": "markdown",
   "id": "2442e6db",
   "metadata": {},
   "source": [
    "### Other problems with the data\n",
    "As you can probably see from the head there are models with very similar names (e.g. audi 100 ls and two entries for audi 100ls). However they seem to have different properties and it's impossible to know what are the differences between them without more context. I will therefore assume they are different models (these might be for example different trims or years: One might be a base model, and the other a more expensive luxury or performance-focused trim, or they might be the same model released in different year.). Therefore I will keep these duplicates.\n",
    "\n",
    "I also do not see any reason for cleaning misspellings in the CarName string since it won't be analyzed and it would be really hard to do and require a lot of research to do properly."
   ]
  },
  {
   "cell_type": "markdown",
   "id": "cdfcc09a",
   "metadata": {},
   "source": [
    "## Save the data"
   ]
  },
  {
   "cell_type": "markdown",
   "id": "07a4864a",
   "metadata": {},
   "source": [
    "Let's first make `car_ID` the index to avoid duplicate index:"
   ]
  },
  {
   "cell_type": "code",
   "execution_count": 94,
   "id": "2fbfdfaf",
   "metadata": {},
   "outputs": [
    {
     "data": {
      "text/html": [
       "<div>\n",
       "<style scoped>\n",
       "    .dataframe tbody tr th:only-of-type {\n",
       "        vertical-align: middle;\n",
       "    }\n",
       "\n",
       "    .dataframe tbody tr th {\n",
       "        vertical-align: top;\n",
       "    }\n",
       "\n",
       "    .dataframe thead th {\n",
       "        text-align: right;\n",
       "    }\n",
       "</style>\n",
       "<table border=\"1\" class=\"dataframe\">\n",
       "  <thead>\n",
       "    <tr style=\"text-align: right;\">\n",
       "      <th></th>\n",
       "      <th>symboling</th>\n",
       "      <th>CarName</th>\n",
       "      <th>fueltype</th>\n",
       "      <th>aspiration</th>\n",
       "      <th>doornumber</th>\n",
       "      <th>carbody</th>\n",
       "      <th>drivewheel</th>\n",
       "      <th>enginelocation</th>\n",
       "      <th>wheelbase</th>\n",
       "      <th>carlength</th>\n",
       "      <th>...</th>\n",
       "      <th>fuelsystem</th>\n",
       "      <th>boreratio</th>\n",
       "      <th>stroke</th>\n",
       "      <th>compressionratio</th>\n",
       "      <th>horsepower</th>\n",
       "      <th>peakrpm</th>\n",
       "      <th>citympg</th>\n",
       "      <th>highwaympg</th>\n",
       "      <th>price</th>\n",
       "      <th>brand</th>\n",
       "    </tr>\n",
       "    <tr>\n",
       "      <th>car_ID</th>\n",
       "      <th></th>\n",
       "      <th></th>\n",
       "      <th></th>\n",
       "      <th></th>\n",
       "      <th></th>\n",
       "      <th></th>\n",
       "      <th></th>\n",
       "      <th></th>\n",
       "      <th></th>\n",
       "      <th></th>\n",
       "      <th></th>\n",
       "      <th></th>\n",
       "      <th></th>\n",
       "      <th></th>\n",
       "      <th></th>\n",
       "      <th></th>\n",
       "      <th></th>\n",
       "      <th></th>\n",
       "      <th></th>\n",
       "      <th></th>\n",
       "      <th></th>\n",
       "    </tr>\n",
       "  </thead>\n",
       "  <tbody>\n",
       "    <tr>\n",
       "      <th>1</th>\n",
       "      <td>3</td>\n",
       "      <td>alfa-romero giulia</td>\n",
       "      <td>gas</td>\n",
       "      <td>std</td>\n",
       "      <td>2</td>\n",
       "      <td>convertible</td>\n",
       "      <td>rwd</td>\n",
       "      <td>front</td>\n",
       "      <td>88.6</td>\n",
       "      <td>168.8</td>\n",
       "      <td>...</td>\n",
       "      <td>mpfi</td>\n",
       "      <td>3.47</td>\n",
       "      <td>2.68</td>\n",
       "      <td>9.0</td>\n",
       "      <td>111</td>\n",
       "      <td>5000</td>\n",
       "      <td>21</td>\n",
       "      <td>27</td>\n",
       "      <td>13495.0</td>\n",
       "      <td>alfa-romero</td>\n",
       "    </tr>\n",
       "    <tr>\n",
       "      <th>2</th>\n",
       "      <td>3</td>\n",
       "      <td>alfa-romero stelvio</td>\n",
       "      <td>gas</td>\n",
       "      <td>std</td>\n",
       "      <td>2</td>\n",
       "      <td>convertible</td>\n",
       "      <td>rwd</td>\n",
       "      <td>front</td>\n",
       "      <td>88.6</td>\n",
       "      <td>168.8</td>\n",
       "      <td>...</td>\n",
       "      <td>mpfi</td>\n",
       "      <td>3.47</td>\n",
       "      <td>2.68</td>\n",
       "      <td>9.0</td>\n",
       "      <td>111</td>\n",
       "      <td>5000</td>\n",
       "      <td>21</td>\n",
       "      <td>27</td>\n",
       "      <td>16500.0</td>\n",
       "      <td>alfa-romero</td>\n",
       "    </tr>\n",
       "    <tr>\n",
       "      <th>3</th>\n",
       "      <td>1</td>\n",
       "      <td>alfa-romero Quadrifoglio</td>\n",
       "      <td>gas</td>\n",
       "      <td>std</td>\n",
       "      <td>2</td>\n",
       "      <td>hatchback</td>\n",
       "      <td>rwd</td>\n",
       "      <td>front</td>\n",
       "      <td>94.5</td>\n",
       "      <td>171.2</td>\n",
       "      <td>...</td>\n",
       "      <td>mpfi</td>\n",
       "      <td>2.68</td>\n",
       "      <td>3.47</td>\n",
       "      <td>9.0</td>\n",
       "      <td>154</td>\n",
       "      <td>5000</td>\n",
       "      <td>19</td>\n",
       "      <td>26</td>\n",
       "      <td>16500.0</td>\n",
       "      <td>alfa-romero</td>\n",
       "    </tr>\n",
       "    <tr>\n",
       "      <th>4</th>\n",
       "      <td>2</td>\n",
       "      <td>audi 100 ls</td>\n",
       "      <td>gas</td>\n",
       "      <td>std</td>\n",
       "      <td>4</td>\n",
       "      <td>sedan</td>\n",
       "      <td>fwd</td>\n",
       "      <td>front</td>\n",
       "      <td>99.8</td>\n",
       "      <td>176.6</td>\n",
       "      <td>...</td>\n",
       "      <td>mpfi</td>\n",
       "      <td>3.19</td>\n",
       "      <td>3.40</td>\n",
       "      <td>10.0</td>\n",
       "      <td>102</td>\n",
       "      <td>5500</td>\n",
       "      <td>24</td>\n",
       "      <td>30</td>\n",
       "      <td>13950.0</td>\n",
       "      <td>audi</td>\n",
       "    </tr>\n",
       "    <tr>\n",
       "      <th>5</th>\n",
       "      <td>2</td>\n",
       "      <td>audi 100ls</td>\n",
       "      <td>gas</td>\n",
       "      <td>std</td>\n",
       "      <td>4</td>\n",
       "      <td>sedan</td>\n",
       "      <td>4wd</td>\n",
       "      <td>front</td>\n",
       "      <td>99.4</td>\n",
       "      <td>176.6</td>\n",
       "      <td>...</td>\n",
       "      <td>mpfi</td>\n",
       "      <td>3.19</td>\n",
       "      <td>3.40</td>\n",
       "      <td>8.0</td>\n",
       "      <td>115</td>\n",
       "      <td>5500</td>\n",
       "      <td>18</td>\n",
       "      <td>22</td>\n",
       "      <td>17450.0</td>\n",
       "      <td>audi</td>\n",
       "    </tr>\n",
       "  </tbody>\n",
       "</table>\n",
       "<p>5 rows × 26 columns</p>\n",
       "</div>"
      ],
      "text/plain": [
       "        symboling                   CarName fueltype aspiration  doornumber  \\\n",
       "car_ID                                                                        \n",
       "1               3        alfa-romero giulia      gas        std           2   \n",
       "2               3       alfa-romero stelvio      gas        std           2   \n",
       "3               1  alfa-romero Quadrifoglio      gas        std           2   \n",
       "4               2               audi 100 ls      gas        std           4   \n",
       "5               2                audi 100ls      gas        std           4   \n",
       "\n",
       "            carbody drivewheel enginelocation  wheelbase  carlength  ...  \\\n",
       "car_ID                                                               ...   \n",
       "1       convertible        rwd          front       88.6      168.8  ...   \n",
       "2       convertible        rwd          front       88.6      168.8  ...   \n",
       "3         hatchback        rwd          front       94.5      171.2  ...   \n",
       "4             sedan        fwd          front       99.8      176.6  ...   \n",
       "5             sedan        4wd          front       99.4      176.6  ...   \n",
       "\n",
       "        fuelsystem  boreratio  stroke compressionratio  horsepower  peakrpm  \\\n",
       "car_ID                                                                        \n",
       "1             mpfi       3.47    2.68              9.0         111     5000   \n",
       "2             mpfi       3.47    2.68              9.0         111     5000   \n",
       "3             mpfi       2.68    3.47              9.0         154     5000   \n",
       "4             mpfi       3.19    3.40             10.0         102     5500   \n",
       "5             mpfi       3.19    3.40              8.0         115     5500   \n",
       "\n",
       "       citympg  highwaympg    price        brand  \n",
       "car_ID                                            \n",
       "1           21          27  13495.0  alfa-romero  \n",
       "2           21          27  16500.0  alfa-romero  \n",
       "3           19          26  16500.0  alfa-romero  \n",
       "4           24          30  13950.0         audi  \n",
       "5           18          22  17450.0         audi  \n",
       "\n",
       "[5 rows x 26 columns]"
      ]
     },
     "execution_count": 94,
     "metadata": {},
     "output_type": "execute_result"
    }
   ],
   "source": [
    "df.set_index('car_ID', inplace=True)\n",
    "df.head()"
   ]
  },
  {
   "cell_type": "markdown",
   "id": "c86cfe12",
   "metadata": {},
   "source": [
    "And then let's save the data:"
   ]
  },
  {
   "cell_type": "code",
   "execution_count": 95,
   "id": "ef2de2a5",
   "metadata": {},
   "outputs": [],
   "source": [
    "df.to_csv(\"../data/cleaned/CarPrice_cleaned.csv\")"
   ]
  },
  {
   "cell_type": "markdown",
   "id": "e573cc64",
   "metadata": {},
   "source": [
    "## Encoding\n",
    "Although this is not needed for the data visualization, it might be useful for later when the data is used to train a machine learning model."
   ]
  },
  {
   "cell_type": "markdown",
   "id": "98b1b447",
   "metadata": {},
   "source": []
  }
 ],
 "metadata": {
  "kernelspec": {
   "display_name": ".venv",
   "language": "python",
   "name": "python3"
  },
  "language_info": {
   "codemirror_mode": {
    "name": "ipython",
    "version": 3
   },
   "file_extension": ".py",
   "mimetype": "text/x-python",
   "name": "python",
   "nbconvert_exporter": "python",
   "pygments_lexer": "ipython3",
   "version": "3.12.10"
  }
 },
 "nbformat": 4,
 "nbformat_minor": 5
}
